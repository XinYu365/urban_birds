{
 "cells": [
  {
   "cell_type": "markdown",
   "metadata": {},
   "source": [
    "# Assessing the Bird Vox Detect Outputs Against Annotations"
   ]
  },
  {
   "cell_type": "code",
   "execution_count": 1,
   "metadata": {},
   "outputs": [
    {
     "name": "stderr",
     "output_type": "stream",
     "text": [
      "/home/cusp/yg833/.conda/envs/birdsVE3.7/lib/python3.7/site-packages/statsmodels/tools/_testing.py:19: FutureWarning: pandas.util.testing is deprecated. Use the functions in the public API at pandas.testing instead.\n",
      "  import pandas.util.testing as tm\n"
     ]
    }
   ],
   "source": [
    "from os import listdir\n",
    "from os.path import isfile, join\n",
    "import sys\n",
    "import datetime as dt\n",
    "import pandas as pd\n",
    "import glob\n",
    "import numpy as np\n",
    "import seaborn as sns\n",
    "import matplotlib.pyplot as plt\n",
    "%matplotlib inline\n",
    "\n",
    "sys.path.append('../')\n",
    "from envir import config"
   ]
  },
  {
   "cell_type": "markdown",
   "metadata": {},
   "source": [
    "### Get all the files in Output folder\n",
    "Understanding what files are in the output folder"
   ]
  },
  {
   "cell_type": "code",
   "execution_count": 2,
   "metadata": {},
   "outputs": [],
   "source": [
    "path = config.dataFol+'wsp_bird_sample_bvox_output'\n",
    "\n",
    "bvox = [f for f in listdir(path) if isfile(join(path, f))]"
   ]
  },
  {
   "cell_type": "code",
   "execution_count": 3,
   "metadata": {},
   "outputs": [
    {
     "data": {
      "text/plain": [
       "['b827eb0fedda_1559120894.83_confidence.hdf5',\n",
       " 'b827eb815321_1557565145.06_confidence.hdf5',\n",
       " 'b827eb0fedda_1556358237.76_checklist.csv',\n",
       " 'b827eb1685c7_1554629493.05_confidence.hdf5',\n",
       " 'b827eb0fedda_1549797841.59_confidence.hdf5']"
      ]
     },
     "execution_count": 3,
     "metadata": {},
     "output_type": "execute_result"
    }
   ],
   "source": [
    "bvox[:5]"
   ]
  },
  {
   "cell_type": "code",
   "execution_count": 4,
   "metadata": {},
   "outputs": [
    {
     "data": {
      "text/html": [
       "<div>\n",
       "<style scoped>\n",
       "    .dataframe tbody tr th:only-of-type {\n",
       "        vertical-align: middle;\n",
       "    }\n",
       "\n",
       "    .dataframe tbody tr th {\n",
       "        vertical-align: top;\n",
       "    }\n",
       "\n",
       "    .dataframe thead th {\n",
       "        text-align: right;\n",
       "    }\n",
       "</style>\n",
       "<table border=\"1\" class=\"dataframe\">\n",
       "  <thead>\n",
       "    <tr style=\"text-align: right;\">\n",
       "      <th></th>\n",
       "      <th>sensor</th>\n",
       "      <th>unixtime</th>\n",
       "      <th>type</th>\n",
       "      <th>file</th>\n",
       "      <th>timestamp</th>\n",
       "    </tr>\n",
       "  </thead>\n",
       "  <tbody>\n",
       "    <tr>\n",
       "      <th>0</th>\n",
       "      <td>b827eb0fedda</td>\n",
       "      <td>1559120894.83</td>\n",
       "      <td>confidence.hdf5</td>\n",
       "      <td>b827eb0fedda_1559120894.83_confidence.hdf5</td>\n",
       "      <td>2019-05-29 09:08:14.829999924</td>\n",
       "    </tr>\n",
       "    <tr>\n",
       "      <th>1</th>\n",
       "      <td>b827eb815321</td>\n",
       "      <td>1557565145.06</td>\n",
       "      <td>confidence.hdf5</td>\n",
       "      <td>b827eb815321_1557565145.06_confidence.hdf5</td>\n",
       "      <td>2019-05-11 08:59:05.059999943</td>\n",
       "    </tr>\n",
       "    <tr>\n",
       "      <th>2</th>\n",
       "      <td>b827eb0fedda</td>\n",
       "      <td>1556358237.76</td>\n",
       "      <td>checklist.csv</td>\n",
       "      <td>b827eb0fedda_1556358237.76_checklist.csv</td>\n",
       "      <td>2019-04-27 09:43:57.759999990</td>\n",
       "    </tr>\n",
       "    <tr>\n",
       "      <th>3</th>\n",
       "      <td>b827eb1685c7</td>\n",
       "      <td>1554629493.05</td>\n",
       "      <td>confidence.hdf5</td>\n",
       "      <td>b827eb1685c7_1554629493.05_confidence.hdf5</td>\n",
       "      <td>2019-04-07 09:31:33.049999952</td>\n",
       "    </tr>\n",
       "    <tr>\n",
       "      <th>4</th>\n",
       "      <td>b827eb0fedda</td>\n",
       "      <td>1549797841.59</td>\n",
       "      <td>confidence.hdf5</td>\n",
       "      <td>b827eb0fedda_1549797841.59_confidence.hdf5</td>\n",
       "      <td>2019-02-10 11:24:01.589999914</td>\n",
       "    </tr>\n",
       "  </tbody>\n",
       "</table>\n",
       "</div>"
      ],
      "text/plain": [
       "         sensor       unixtime             type  \\\n",
       "0  b827eb0fedda  1559120894.83  confidence.hdf5   \n",
       "1  b827eb815321  1557565145.06  confidence.hdf5   \n",
       "2  b827eb0fedda  1556358237.76    checklist.csv   \n",
       "3  b827eb1685c7  1554629493.05  confidence.hdf5   \n",
       "4  b827eb0fedda  1549797841.59  confidence.hdf5   \n",
       "\n",
       "                                         file                     timestamp  \n",
       "0  b827eb0fedda_1559120894.83_confidence.hdf5 2019-05-29 09:08:14.829999924  \n",
       "1  b827eb815321_1557565145.06_confidence.hdf5 2019-05-11 08:59:05.059999943  \n",
       "2    b827eb0fedda_1556358237.76_checklist.csv 2019-04-27 09:43:57.759999990  \n",
       "3  b827eb1685c7_1554629493.05_confidence.hdf5 2019-04-07 09:31:33.049999952  \n",
       "4  b827eb0fedda_1549797841.59_confidence.hdf5 2019-02-10 11:24:01.589999914  "
      ]
     },
     "execution_count": 4,
     "metadata": {},
     "output_type": "execute_result"
    }
   ],
   "source": [
    "bvox_df = pd.DataFrame(map(lambda sub: sub.split('_'), bvox),\n",
    "                       columns=['sensor', 'unixtime', 'type'])\n",
    "\n",
    "bvox_df['file'] = bvox\n",
    "bvox_df['timestamp'] = pd.to_datetime(bvox_df['unixtime'], unit='s')\n",
    "\n",
    "bvox_df.head()"
   ]
  },
  {
   "cell_type": "code",
   "execution_count": 5,
   "metadata": {},
   "outputs": [
    {
     "data": {
      "text/plain": [
       "array(['b827eb0fedda', 'b827eb815321', 'b827eb1685c7', 'b827eb8e2420',\n",
       "       'b827eb86d458', 'b827eb905497'], dtype=object)"
      ]
     },
     "execution_count": 5,
     "metadata": {},
     "output_type": "execute_result"
    }
   ],
   "source": [
    "bvox_df.sensor.unique()"
   ]
  },
  {
   "cell_type": "markdown",
   "metadata": {},
   "source": [
    "### Map SONYC sensor ids to sensor names"
   ]
  },
  {
   "cell_type": "code",
   "execution_count": 6,
   "metadata": {},
   "outputs": [],
   "source": [
    "sensors = pd.read_json(config.dataFol+\"sonyc_test.collection.json\")\n",
    "sensors['sensor'] = sensors['fqdn'].str[10:22]\n",
    "bvox_df_named = sensors[['title','sensor']].merge(bvox_df, on='sensor')\n",
    "bvox_dict = dict(list(bvox_df_named.groupby('title')))"
   ]
  },
  {
   "cell_type": "code",
   "execution_count": 7,
   "metadata": {},
   "outputs": [
    {
     "data": {
      "text/html": [
       "<div>\n",
       "<style scoped>\n",
       "    .dataframe tbody tr th:only-of-type {\n",
       "        vertical-align: middle;\n",
       "    }\n",
       "\n",
       "    .dataframe tbody tr th {\n",
       "        vertical-align: top;\n",
       "    }\n",
       "\n",
       "    .dataframe thead th {\n",
       "        text-align: right;\n",
       "    }\n",
       "</style>\n",
       "<table border=\"1\" class=\"dataframe\">\n",
       "  <thead>\n",
       "    <tr style=\"text-align: right;\">\n",
       "      <th></th>\n",
       "      <th>title</th>\n",
       "      <th>sensor</th>\n",
       "      <th>unixtime</th>\n",
       "      <th>type</th>\n",
       "      <th>file</th>\n",
       "      <th>timestamp</th>\n",
       "    </tr>\n",
       "  </thead>\n",
       "  <tbody>\n",
       "    <tr>\n",
       "      <th>4993</th>\n",
       "      <td>19 Washington Square North</td>\n",
       "      <td>b827eb815321</td>\n",
       "      <td>1549019655.78</td>\n",
       "      <td>confidence.hdf5</td>\n",
       "      <td>b827eb815321_1549019655.78_confidence.hdf5</td>\n",
       "      <td>2019-02-01 11:14:15.779999971</td>\n",
       "    </tr>\n",
       "    <tr>\n",
       "      <th>4963</th>\n",
       "      <td>19 Washington Square North</td>\n",
       "      <td>b827eb815321</td>\n",
       "      <td>1549019655.78</td>\n",
       "      <td>checklist.csv</td>\n",
       "      <td>b827eb815321_1549019655.78_checklist.csv</td>\n",
       "      <td>2019-02-01 11:14:15.779999971</td>\n",
       "    </tr>\n",
       "    <tr>\n",
       "      <th>4676</th>\n",
       "      <td>19 Washington Square North</td>\n",
       "      <td>b827eb815321</td>\n",
       "      <td>1549019895.81</td>\n",
       "      <td>checklist.csv</td>\n",
       "      <td>b827eb815321_1549019895.81_checklist.csv</td>\n",
       "      <td>2019-02-01 11:18:15.809999943</td>\n",
       "    </tr>\n",
       "    <tr>\n",
       "      <th>5142</th>\n",
       "      <td>19 Washington Square North</td>\n",
       "      <td>b827eb815321</td>\n",
       "      <td>1549019895.81</td>\n",
       "      <td>confidence.hdf5</td>\n",
       "      <td>b827eb815321_1549019895.81_confidence.hdf5</td>\n",
       "      <td>2019-02-01 11:18:15.809999943</td>\n",
       "    </tr>\n",
       "  </tbody>\n",
       "</table>\n",
       "</div>"
      ],
      "text/plain": [
       "                           title        sensor       unixtime  \\\n",
       "4993  19 Washington Square North  b827eb815321  1549019655.78   \n",
       "4963  19 Washington Square North  b827eb815321  1549019655.78   \n",
       "4676  19 Washington Square North  b827eb815321  1549019895.81   \n",
       "5142  19 Washington Square North  b827eb815321  1549019895.81   \n",
       "\n",
       "                 type                                        file  \\\n",
       "4993  confidence.hdf5  b827eb815321_1549019655.78_confidence.hdf5   \n",
       "4963    checklist.csv    b827eb815321_1549019655.78_checklist.csv   \n",
       "4676    checklist.csv    b827eb815321_1549019895.81_checklist.csv   \n",
       "5142  confidence.hdf5  b827eb815321_1549019895.81_confidence.hdf5   \n",
       "\n",
       "                         timestamp  \n",
       "4993 2019-02-01 11:14:15.779999971  \n",
       "4963 2019-02-01 11:14:15.779999971  \n",
       "4676 2019-02-01 11:18:15.809999943  \n",
       "5142 2019-02-01 11:18:15.809999943  "
      ]
     },
     "execution_count": 7,
     "metadata": {},
     "output_type": "execute_result"
    }
   ],
   "source": [
    "bvox_dict['19 Washington Square North'].sort_values(['unixtime']).head(4)"
   ]
  },
  {
   "cell_type": "code",
   "execution_count": 8,
   "metadata": {},
   "outputs": [
    {
     "name": "stdout",
     "output_type": "stream",
     "text": [
      "19 Washington Square North\n",
      "4 Washington Square North\n",
      "Juan Carlos\n",
      "Kimmel Center\n",
      "Shimkin Reading Room\n",
      "Silver lab\n"
     ]
    }
   ],
   "source": [
    "for key in bvox_dict.keys():\n",
    "    print(key)\n",
    "    bvox_dict[key] = dict(list(bvox_dict[key].groupby('type')))"
   ]
  },
  {
   "cell_type": "code",
   "execution_count": 9,
   "metadata": {},
   "outputs": [
    {
     "data": {
      "text/html": [
       "<div>\n",
       "<style scoped>\n",
       "    .dataframe tbody tr th:only-of-type {\n",
       "        vertical-align: middle;\n",
       "    }\n",
       "\n",
       "    .dataframe tbody tr th {\n",
       "        vertical-align: top;\n",
       "    }\n",
       "\n",
       "    .dataframe thead th {\n",
       "        text-align: right;\n",
       "    }\n",
       "</style>\n",
       "<table border=\"1\" class=\"dataframe\">\n",
       "  <thead>\n",
       "    <tr style=\"text-align: right;\">\n",
       "      <th></th>\n",
       "      <th>title</th>\n",
       "      <th>sensor</th>\n",
       "      <th>unixtime</th>\n",
       "      <th>type</th>\n",
       "      <th>file</th>\n",
       "      <th>timestamp</th>\n",
       "    </tr>\n",
       "  </thead>\n",
       "  <tbody>\n",
       "    <tr>\n",
       "      <th>4159</th>\n",
       "      <td>19 Washington Square North</td>\n",
       "      <td>b827eb815321</td>\n",
       "      <td>1549537257.86</td>\n",
       "      <td>checklist.csv</td>\n",
       "      <td>b827eb815321_1549537257.86_checklist.csv</td>\n",
       "      <td>2019-02-07 11:00:57.859999895</td>\n",
       "    </tr>\n",
       "    <tr>\n",
       "      <th>4160</th>\n",
       "      <td>19 Washington Square North</td>\n",
       "      <td>b827eb815321</td>\n",
       "      <td>1554977294.66</td>\n",
       "      <td>checklist.csv</td>\n",
       "      <td>b827eb815321_1554977294.66_checklist.csv</td>\n",
       "      <td>2019-04-11 10:08:14.660000086</td>\n",
       "    </tr>\n",
       "    <tr>\n",
       "      <th>4168</th>\n",
       "      <td>19 Washington Square North</td>\n",
       "      <td>b827eb815321</td>\n",
       "      <td>1552301181.38</td>\n",
       "      <td>checklist.csv</td>\n",
       "      <td>b827eb815321_1552301181.38_checklist.csv</td>\n",
       "      <td>2019-03-11 10:46:21.380000114</td>\n",
       "    </tr>\n",
       "    <tr>\n",
       "      <th>4171</th>\n",
       "      <td>19 Washington Square North</td>\n",
       "      <td>b827eb815321</td>\n",
       "      <td>1551180646.06</td>\n",
       "      <td>checklist.csv</td>\n",
       "      <td>b827eb815321_1551180646.06_checklist.csv</td>\n",
       "      <td>2019-02-26 11:30:46.059999943</td>\n",
       "    </tr>\n",
       "    <tr>\n",
       "      <th>4172</th>\n",
       "      <td>19 Washington Square North</td>\n",
       "      <td>b827eb815321</td>\n",
       "      <td>1549798037.21</td>\n",
       "      <td>checklist.csv</td>\n",
       "      <td>b827eb815321_1549798037.21_checklist.csv</td>\n",
       "      <td>2019-02-10 11:27:17.210000038</td>\n",
       "    </tr>\n",
       "  </tbody>\n",
       "</table>\n",
       "</div>"
      ],
      "text/plain": [
       "                           title        sensor       unixtime           type  \\\n",
       "4159  19 Washington Square North  b827eb815321  1549537257.86  checklist.csv   \n",
       "4160  19 Washington Square North  b827eb815321  1554977294.66  checklist.csv   \n",
       "4168  19 Washington Square North  b827eb815321  1552301181.38  checklist.csv   \n",
       "4171  19 Washington Square North  b827eb815321  1551180646.06  checklist.csv   \n",
       "4172  19 Washington Square North  b827eb815321  1549798037.21  checklist.csv   \n",
       "\n",
       "                                          file                     timestamp  \n",
       "4159  b827eb815321_1549537257.86_checklist.csv 2019-02-07 11:00:57.859999895  \n",
       "4160  b827eb815321_1554977294.66_checklist.csv 2019-04-11 10:08:14.660000086  \n",
       "4168  b827eb815321_1552301181.38_checklist.csv 2019-03-11 10:46:21.380000114  \n",
       "4171  b827eb815321_1551180646.06_checklist.csv 2019-02-26 11:30:46.059999943  \n",
       "4172  b827eb815321_1549798037.21_checklist.csv 2019-02-10 11:27:17.210000038  "
      ]
     },
     "execution_count": 9,
     "metadata": {},
     "output_type": "execute_result"
    }
   ],
   "source": [
    "bvox_dict['19 Washington Square North']['checklist.csv'].head()"
   ]
  },
  {
   "cell_type": "markdown",
   "metadata": {},
   "source": [
    "### Define Function to get all the csv files into 1 dataframe per sensor"
   ]
  },
  {
   "cell_type": "code",
   "execution_count": 10,
   "metadata": {},
   "outputs": [],
   "source": [
    "def get_checklist_csv(df, dir_path):\n",
    "    df_list = []\n",
    "    for index, row in df.iterrows():\n",
    "        temp_df = pd.read_csv(dir_path+'/'+row['file'])\n",
    "        if temp_df.empty:\n",
    "            # fill in the empty frame if no birds were detected\n",
    "            temp_df = temp_df.append({'Confidence (%)':None, \n",
    "                                      'Species (4-letter code)':'None Detected', \n",
    "                                      'Time (hh:mm:ss)':None}, ignore_index=True)\n",
    "        temp_df['unixtime'] = row['unixtime']\n",
    "        temp_df['timestamp'] = row['timestamp']\n",
    "        temp_df['sensor_id'] = row['sensor']\n",
    "        temp_df['sensor_name'] = row['title']\n",
    "        df_list.append(temp_df)\n",
    "    df_fin = pd.concat(df_list)\n",
    "    return(df_fin)"
   ]
  },
  {
   "cell_type": "code",
   "execution_count": 11,
   "metadata": {},
   "outputs": [],
   "source": [
    "df_list = []\n",
    "for key in bvox_dict.keys():\n",
    "    temp_df = get_checklist_csv(df = bvox_dict[key]['checklist.csv'], dir_path = path)\n",
    "    df_list.append(temp_df)\n",
    "all_bvox = pd.concat(df_list)"
   ]
  },
  {
   "cell_type": "code",
   "execution_count": 12,
   "metadata": {},
   "outputs": [],
   "source": [
    "all_bvox.reset_index(inplace=True)"
   ]
  },
  {
   "cell_type": "code",
   "execution_count": 13,
   "metadata": {},
   "outputs": [],
   "source": [
    "all_bvox.rename(columns={'Species (4-letter code)':'bvox_species_4_letter_code', \n",
    "                        'Confidence (%)': 'confidence_pct'}, \n",
    "               inplace=True)"
   ]
  },
  {
   "cell_type": "code",
   "execution_count": 14,
   "metadata": {},
   "outputs": [
    {
     "data": {
      "text/plain": [
       "array(['SWTH', 'GCTH', 'OVEN', 'None Detected', 'OTHE', 'CAWA', 'WTSP',\n",
       "       'AMRE', 'SAVS', 'COYE', 'BBWA', 'MOWA', 'BTBW', 'RBGR'],\n",
       "      dtype=object)"
      ]
     },
     "execution_count": 14,
     "metadata": {},
     "output_type": "execute_result"
    }
   ],
   "source": [
    "all_bvox.bvox_species_4_letter_code.unique()"
   ]
  },
  {
   "cell_type": "code",
   "execution_count": 15,
   "metadata": {},
   "outputs": [
    {
     "data": {
      "text/plain": [
       "(5796, 8)"
      ]
     },
     "execution_count": 15,
     "metadata": {},
     "output_type": "execute_result"
    }
   ],
   "source": [
    "all_bvox.shape"
   ]
  },
  {
   "cell_type": "markdown",
   "metadata": {},
   "source": [
    "### Bring in Andrew's Annotations"
   ]
  },
  {
   "cell_type": "code",
   "execution_count": 16,
   "metadata": {},
   "outputs": [],
   "source": [
    "ann = pd.read_csv(config.dataFol+'bird_audio_annotations_AF20200610.txt', sep=\"\\t\")\n",
    "ann['file'] = ann['Begin Path'].str[33:-4]\n",
    "ann[['sensor_id', 'unixtime']] = ann['file'].str.split('_', expand=True)"
   ]
  },
  {
   "cell_type": "code",
   "execution_count": 17,
   "metadata": {},
   "outputs": [],
   "source": [
    "ann_short = ann[['sensor_id', 'unixtime', 'Species', 'Family', 'Order']].copy()"
   ]
  },
  {
   "cell_type": "code",
   "execution_count": 18,
   "metadata": {},
   "outputs": [],
   "source": [
    "ann_short.rename(columns = {'Species':'annotated_species', \n",
    "                     'Family':'annotated_family', \n",
    "                     'Order':'annotated_order'}, inplace=True)"
   ]
  },
  {
   "cell_type": "code",
   "execution_count": 19,
   "metadata": {},
   "outputs": [
    {
     "data": {
      "text/plain": [
       "array(['b827eb905497', 'b827eb8e2420', 'b827eb86d458', 'b827eb815321',\n",
       "       'b827eb1685c7', 'b827eb0fedda'], dtype=object)"
      ]
     },
     "execution_count": 19,
     "metadata": {},
     "output_type": "execute_result"
    }
   ],
   "source": [
    "ann_short.sensor_id.unique()"
   ]
  },
  {
   "cell_type": "code",
   "execution_count": 20,
   "metadata": {},
   "outputs": [
    {
     "data": {
      "text/plain": [
       "array(['WTSP', nan, 'CHSP', 'SWTH', 'SWSP', 'SOSP'], dtype=object)"
      ]
     },
     "execution_count": 20,
     "metadata": {},
     "output_type": "execute_result"
    }
   ],
   "source": [
    "ann_short.annotated_species.unique()"
   ]
  },
  {
   "cell_type": "code",
   "execution_count": 21,
   "metadata": {},
   "outputs": [],
   "source": [
    "ann_short.loc[ann_short.annotated_species.isnull()] = 'None Detected'"
   ]
  },
  {
   "cell_type": "code",
   "execution_count": 22,
   "metadata": {},
   "outputs": [
    {
     "data": {
      "text/plain": [
       "(245, 5)"
      ]
     },
     "execution_count": 22,
     "metadata": {},
     "output_type": "execute_result"
    }
   ],
   "source": [
    "ann_short.shape"
   ]
  },
  {
   "cell_type": "code",
   "execution_count": 23,
   "metadata": {},
   "outputs": [],
   "source": [
    "bvox_ann = all_bvox.merge(ann_short,left_on =['sensor_id', 'unixtime'],\n",
    "                          right_on =['sensor_id', 'unixtime'], how='inner')\n",
    "bvox_ann.drop(columns = ['index', 'Time (hh:mm:ss)'], inplace=True)"
   ]
  },
  {
   "cell_type": "code",
   "execution_count": 24,
   "metadata": {},
   "outputs": [],
   "source": [
    "bvox_ann.to_csv(config.dataFol+'clean_bvox_outputs_annotations.csv')"
   ]
  },
  {
   "cell_type": "code",
   "execution_count": 25,
   "metadata": {},
   "outputs": [
    {
     "data": {
      "text/plain": [
       "(221, 9)"
      ]
     },
     "execution_count": 25,
     "metadata": {},
     "output_type": "execute_result"
    }
   ],
   "source": [
    "bvox_ann.shape"
   ]
  },
  {
   "cell_type": "markdown",
   "metadata": {},
   "source": [
    "### Assessing the Accuracy, Precision, and Recall using multilabel_confusion_matrix"
   ]
  },
  {
   "cell_type": "code",
   "execution_count": 26,
   "metadata": {},
   "outputs": [],
   "source": [
    "from sklearn.metrics import multilabel_confusion_matrix\n",
    "from sklearn.metrics import confusion_matrix\n",
    "from sklearn.metrics import classification_report"
   ]
  },
  {
   "cell_type": "code",
   "execution_count": 27,
   "metadata": {},
   "outputs": [
    {
     "data": {
      "text/html": [
       "<div>\n",
       "<style scoped>\n",
       "    .dataframe tbody tr th:only-of-type {\n",
       "        vertical-align: middle;\n",
       "    }\n",
       "\n",
       "    .dataframe tbody tr th {\n",
       "        vertical-align: top;\n",
       "    }\n",
       "\n",
       "    .dataframe thead th {\n",
       "        text-align: right;\n",
       "    }\n",
       "</style>\n",
       "<table border=\"1\" class=\"dataframe\">\n",
       "  <thead>\n",
       "    <tr style=\"text-align: right;\">\n",
       "      <th></th>\n",
       "      <th>bvox_species_4_letter_code</th>\n",
       "      <th>confidence_pct</th>\n",
       "      <th>unixtime</th>\n",
       "      <th>timestamp</th>\n",
       "      <th>sensor_id</th>\n",
       "      <th>sensor_name</th>\n",
       "      <th>annotated_species</th>\n",
       "      <th>annotated_family</th>\n",
       "      <th>annotated_order</th>\n",
       "    </tr>\n",
       "  </thead>\n",
       "  <tbody>\n",
       "    <tr>\n",
       "      <th>0</th>\n",
       "      <td>GCTH</td>\n",
       "      <td>56.8934</td>\n",
       "      <td>1556531780.59</td>\n",
       "      <td>2019-04-29 09:56:20.589999914</td>\n",
       "      <td>b827eb815321</td>\n",
       "      <td>19 Washington Square North</td>\n",
       "      <td>WTSP</td>\n",
       "      <td>Sparrow</td>\n",
       "      <td>Passerine</td>\n",
       "    </tr>\n",
       "    <tr>\n",
       "      <th>1</th>\n",
       "      <td>SAVS</td>\n",
       "      <td>55.846</td>\n",
       "      <td>1555927610.79</td>\n",
       "      <td>2019-04-22 10:06:50.789999962</td>\n",
       "      <td>b827eb815321</td>\n",
       "      <td>19 Washington Square North</td>\n",
       "      <td>CHSP</td>\n",
       "      <td>Sparrow</td>\n",
       "      <td>Passerine</td>\n",
       "    </tr>\n",
       "    <tr>\n",
       "      <th>2</th>\n",
       "      <td>GCTH</td>\n",
       "      <td>53.5423</td>\n",
       "      <td>1555927610.79</td>\n",
       "      <td>2019-04-22 10:06:50.789999962</td>\n",
       "      <td>b827eb815321</td>\n",
       "      <td>19 Washington Square North</td>\n",
       "      <td>CHSP</td>\n",
       "      <td>Sparrow</td>\n",
       "      <td>Passerine</td>\n",
       "    </tr>\n",
       "    <tr>\n",
       "      <th>3</th>\n",
       "      <td>SWTH</td>\n",
       "      <td>59.1574</td>\n",
       "      <td>1555927610.79</td>\n",
       "      <td>2019-04-22 10:06:50.789999962</td>\n",
       "      <td>b827eb815321</td>\n",
       "      <td>19 Washington Square North</td>\n",
       "      <td>CHSP</td>\n",
       "      <td>Sparrow</td>\n",
       "      <td>Passerine</td>\n",
       "    </tr>\n",
       "    <tr>\n",
       "      <th>4</th>\n",
       "      <td>WTSP</td>\n",
       "      <td>99.99</td>\n",
       "      <td>1555237020.05</td>\n",
       "      <td>2019-04-14 10:17:00.049999952</td>\n",
       "      <td>b827eb815321</td>\n",
       "      <td>19 Washington Square North</td>\n",
       "      <td>SOSP</td>\n",
       "      <td>Sparrow</td>\n",
       "      <td>Passerine</td>\n",
       "    </tr>\n",
       "  </tbody>\n",
       "</table>\n",
       "</div>"
      ],
      "text/plain": [
       "  bvox_species_4_letter_code confidence_pct       unixtime  \\\n",
       "0                       GCTH        56.8934  1556531780.59   \n",
       "1                       SAVS         55.846  1555927610.79   \n",
       "2                       GCTH        53.5423  1555927610.79   \n",
       "3                       SWTH        59.1574  1555927610.79   \n",
       "4                       WTSP          99.99  1555237020.05   \n",
       "\n",
       "                      timestamp     sensor_id                 sensor_name  \\\n",
       "0 2019-04-29 09:56:20.589999914  b827eb815321  19 Washington Square North   \n",
       "1 2019-04-22 10:06:50.789999962  b827eb815321  19 Washington Square North   \n",
       "2 2019-04-22 10:06:50.789999962  b827eb815321  19 Washington Square North   \n",
       "3 2019-04-22 10:06:50.789999962  b827eb815321  19 Washington Square North   \n",
       "4 2019-04-14 10:17:00.049999952  b827eb815321  19 Washington Square North   \n",
       "\n",
       "  annotated_species annotated_family annotated_order  \n",
       "0              WTSP          Sparrow       Passerine  \n",
       "1              CHSP          Sparrow       Passerine  \n",
       "2              CHSP          Sparrow       Passerine  \n",
       "3              CHSP          Sparrow       Passerine  \n",
       "4              SOSP          Sparrow       Passerine  "
      ]
     },
     "execution_count": 27,
     "metadata": {},
     "output_type": "execute_result"
    }
   ],
   "source": [
    "bvox_ann.head()"
   ]
  },
  {
   "cell_type": "code",
   "execution_count": 28,
   "metadata": {},
   "outputs": [
    {
     "data": {
      "text/plain": [
       "array(['GCTH', 'SAVS', 'SWTH', 'WTSP', 'None Detected', 'OTHE', 'OVEN'],\n",
       "      dtype=object)"
      ]
     },
     "execution_count": 28,
     "metadata": {},
     "output_type": "execute_result"
    }
   ],
   "source": [
    "bvox_ann.bvox_species_4_letter_code.unique()"
   ]
  },
  {
   "cell_type": "code",
   "execution_count": 29,
   "metadata": {},
   "outputs": [
    {
     "data": {
      "text/plain": [
       "array(['WTSP', 'CHSP', 'SOSP', 'SWSP', 'SWTH'], dtype=object)"
      ]
     },
     "execution_count": 29,
     "metadata": {},
     "output_type": "execute_result"
    }
   ],
   "source": [
    "bvox_ann.annotated_species.unique()"
   ]
  },
  {
   "cell_type": "code",
   "execution_count": 30,
   "metadata": {},
   "outputs": [],
   "source": [
    "y_true = bvox_ann.annotated_species\n",
    "y_pred = bvox_ann.bvox_species_4_letter_code\n",
    "classes = bvox_ann.annotated_species.unique()"
   ]
  },
  {
   "cell_type": "code",
   "execution_count": 31,
   "metadata": {},
   "outputs": [
    {
     "data": {
      "text/plain": [
       "array([[ 9,  0,  0,  0, 34],\n",
       "       [ 0,  0,  0,  0,  1],\n",
       "       [ 1,  0,  0,  0,  0],\n",
       "       [ 0,  0,  0,  0,  0],\n",
       "       [ 0,  0,  0,  0,  0]])"
      ]
     },
     "execution_count": 31,
     "metadata": {},
     "output_type": "execute_result"
    }
   ],
   "source": [
    "cm = confusion_matrix(y_true, y_pred, labels = classes)\n",
    "cm"
   ]
  },
  {
   "cell_type": "code",
   "execution_count": 32,
   "metadata": {},
   "outputs": [
    {
     "name": "stdout",
     "output_type": "stream",
     "text": [
      "              precision    recall  f1-score   support\n",
      "\n",
      "        WTSP       0.90      0.04      0.08       209\n",
      "        CHSP       0.00      0.00      0.00         7\n",
      "        SOSP       0.00      0.00      0.00         3\n",
      "        SWSP       0.00      0.00      0.00         1\n",
      "        SWTH       0.00      0.00      0.00         1\n",
      "\n",
      "   micro avg       0.20      0.04      0.07       221\n",
      "   macro avg       0.18      0.01      0.02       221\n",
      "weighted avg       0.85      0.04      0.08       221\n",
      "\n"
     ]
    },
    {
     "name": "stderr",
     "output_type": "stream",
     "text": [
      "/home/cusp/yg833/.conda/envs/birdsVE3.7/lib/python3.7/site-packages/sklearn/metrics/classification.py:1437: UndefinedMetricWarning: Precision and F-score are ill-defined and being set to 0.0 in labels with no predicted samples.\n",
      "  'precision', 'predicted', average, warn_for)\n"
     ]
    }
   ],
   "source": [
    "print(classification_report(y_true, y_pred, labels = classes))"
   ]
  },
  {
   "cell_type": "code",
   "execution_count": 33,
   "metadata": {},
   "outputs": [],
   "source": [
    "# https://stackoverflow.com/questions/39033880/plot-confusion-matrix-sklearn-with-multiple-labels\n",
    "def plot_confusion_matrix(cm,\n",
    "                          target_names,\n",
    "                          title='Confusion matrix',\n",
    "                          cmap=None,\n",
    "                          normalize=True):\n",
    "    \"\"\"\n",
    "    given a sklearn confusion matrix (cm), make a nice plot\n",
    "\n",
    "    Arguments\n",
    "    ---------\n",
    "    cm:           confusion matrix from sklearn.metrics.confusion_matrix\n",
    "\n",
    "    target_names: given classification classes such as [0, 1, 2]\n",
    "                  the class names, for example: ['high', 'medium', 'low']\n",
    "\n",
    "    title:        the text to display at the top of the matrix\n",
    "\n",
    "    cmap:         the gradient of the values displayed from matplotlib.pyplot.cm\n",
    "                  see http://matplotlib.org/examples/color/colormaps_reference.html\n",
    "                  plt.get_cmap('jet') or plt.cm.Blues\n",
    "\n",
    "    normalize:    If False, plot the raw numbers\n",
    "                  If True, plot the proportions\n",
    "\n",
    "    Usage\n",
    "    -----\n",
    "    plot_confusion_matrix(cm           = cm,                  # confusion matrix created by\n",
    "                                                              # sklearn.metrics.confusion_matrix\n",
    "                          normalize    = True,                # show proportions\n",
    "                          target_names = y_labels_vals,       # list of names of the classes\n",
    "                          title        = best_estimator_name) # title of graph\n",
    "\n",
    "    Citiation\n",
    "    ---------\n",
    "    http://scikit-learn.org/stable/auto_examples/model_selection/plot_confusion_matrix.html\n",
    "\n",
    "    \"\"\"\n",
    "    import matplotlib.pyplot as plt\n",
    "    import numpy as np\n",
    "    import itertools\n",
    "\n",
    "    accuracy = np.trace(cm) / float(np.sum(cm))\n",
    "    misclass = 1 - accuracy\n",
    "\n",
    "    if cmap is None:\n",
    "        cmap = plt.get_cmap('Blues')\n",
    "\n",
    "    plt.figure(figsize=(8, 6))\n",
    "    plt.imshow(cm, interpolation='nearest', cmap=cmap)\n",
    "    plt.title(title)\n",
    "    plt.colorbar()\n",
    "\n",
    "    if target_names is not None:\n",
    "        tick_marks = np.arange(len(target_names))\n",
    "        plt.xticks(tick_marks, target_names, rotation=45)\n",
    "        plt.yticks(tick_marks, target_names)\n",
    "\n",
    "    if normalize:\n",
    "        cm = cm.astype('float') / cm.sum(axis=1)[:, np.newaxis]\n",
    "\n",
    "\n",
    "    thresh = cm.max() / 1.5 if normalize else cm.max() / 2\n",
    "    for i, j in itertools.product(range(cm.shape[0]), range(cm.shape[1])):\n",
    "        if normalize:\n",
    "            plt.text(j, i, \"{:0.4f}\".format(cm[i, j]),\n",
    "                     horizontalalignment=\"center\",\n",
    "                     color=\"white\" if cm[i, j] > thresh else \"black\")\n",
    "        else:\n",
    "            plt.text(j, i, \"{:,}\".format(cm[i, j]),\n",
    "                     horizontalalignment=\"center\",\n",
    "                     color=\"white\" if cm[i, j] > thresh else \"black\")\n",
    "\n",
    "\n",
    "    plt.tight_layout()\n",
    "    plt.ylabel('True label')\n",
    "    plt.xlabel('Predicted label\\naccuracy={:0.4f}; misclass={:0.4f}'.format(accuracy, misclass))\n",
    "    plt.show()"
   ]
  },
  {
   "cell_type": "code",
   "execution_count": 34,
   "metadata": {},
   "outputs": [
    {
     "name": "stderr",
     "output_type": "stream",
     "text": [
      "/home/cusp/yg833/.conda/envs/birdsVE3.7/lib/python3.7/site-packages/ipykernel_launcher.py:60: RuntimeWarning: invalid value encountered in true_divide\n"
     ]
    },
    {
     "data": {
      "image/png": "[encoded data removed]",
      "text/plain": [
       "<Figure size 576x432 with 2 Axes>"
      ]
     },
     "metadata": {
      "needs_background": "light"
     },
     "output_type": "display_data"
    }
   ],
   "source": [
    "plot_confusion_matrix(cm=cm, \n",
    "                     target_names=classes)"
   ]
  }
 ],
 "metadata": {
  "kernelspec": {
   "display_name": "birdsVE3.7",
   "language": "python",
   "name": "birdsve3.7"
  },
  "language_info": {
   "codemirror_mode": {
    "name": "ipython",
    "version": 3
   },
   "file_extension": ".py",
   "mimetype": "text/x-python",
   "name": "python",
   "nbconvert_exporter": "python",
   "pygments_lexer": "ipython3",
   "version": "3.7.4"
  }
 },
 "nbformat": 4,
 "nbformat_minor": 2
}
