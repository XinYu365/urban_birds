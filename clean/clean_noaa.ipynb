{
 "cells": [
  {
   "cell_type": "code",
   "execution_count": 1,
   "metadata": {},
   "outputs": [],
   "source": [
    "import sys\n",
    "import datetime as dt\n",
    "import pandas as pd\n",
    "import numpy as np\n",
    "\n",
    "sys.path.append('../')\n",
    "from envir import config"
   ]
  },
  {
   "cell_type": "code",
   "execution_count": 2,
   "metadata": {},
   "outputs": [
    {
     "name": "stderr",
     "output_type": "stream",
     "text": [
      "/home/cusp/yg833/.conda/envs/birdsVE3.7/lib/python3.7/site-packages/IPython/core/interactiveshell.py:3058: DtypeWarning: Columns (7,9,11,13,15,17,21,23,25,27,29,31,33,35,37,39,41,43,45,47,49,51,53,55,57,59,61,63,65) have mixed types. Specify dtype option on import or set low_memory=False.\n",
      "  interactivity=interactivity, compiler=compiler, result=result)\n"
     ]
    }
   ],
   "source": [
    "noaa = pd.read_csv(config.dataFol+'noaa/2166257.csv')"
   ]
  },
  {
   "cell_type": "code",
   "execution_count": 3,
   "metadata": {},
   "outputs": [],
   "source": [
    "# add the lat long for washington square park\n",
    "noaa['wsp_lat'] = 40.7311732\n",
    "noaa['wsp_long'] = -73.9981389\n",
    "# calc distance to wsp from weather station\n",
    "noaa['distance'] = np.sqrt((noaa.LATITUDE-noaa.wsp_lat)**2 + (noaa.LONGITUDE-noaa.wsp_long)**2)\n",
    "# clean up data frame\n",
    "noaa.sort_values(by=['distance'], inplace=True)\n",
    "noaa.drop_duplicates('DATE', inplace=True)\n",
    "colnames = ['DATE', 'PRCP', 'SNOW', 'AWND', 'TMAX', 'TMIN']\n",
    "noaa = noaa[colnames]\n",
    "newcolnames = list(map(lambda x:x.lower(),colnames))\n",
    "noaa.rename(columns=dict(zip(colnames, newcolnames)), inplace=True)\n",
    "noaa['timestamp']=[\"{} {}\".format(i, '00:00') for i in noaa['date'].tolist()]\n",
    "noaa.drop(columns=['date'], inplace=True)"
   ]
  },
  {
   "cell_type": "code",
   "execution_count": 4,
   "metadata": {},
   "outputs": [],
   "source": [
    "noaa.to_csv(config.dataFol+'clean_noaa/clean_noaa.csv', index=False)"
   ]
  },
  {
   "cell_type": "code",
   "execution_count": null,
   "metadata": {},
   "outputs": [],
   "source": []
  },
  {
   "cell_type": "code",
   "execution_count": 5,
   "metadata": {},
   "outputs": [],
   "source": [
    "noaa.to_csv?"
   ]
  }
 ],
 "metadata": {
  "kernelspec": {
   "display_name": "birdsVE3.7",
   "language": "python",
   "name": "birdsve3.7"
  },
  "language_info": {
   "codemirror_mode": {
    "name": "ipython",
    "version": 3
   },
   "file_extension": ".py",
   "mimetype": "text/x-python",
   "name": "python",
   "nbconvert_exporter": "python",
   "pygments_lexer": "ipython3",
   "version": "3.7.4"
  }
 },
 "nbformat": 4,
 "nbformat_minor": 2
}
