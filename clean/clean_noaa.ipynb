{
 "cells": [
  {
   "cell_type": "code",
   "execution_count": 1,
   "metadata": {},
   "outputs": [],
   "source": [
    "import sys\n",
    "import numpy as np\n",
    "import datetime as dt\n",
    "import pytz\n",
    "import pandas as pd\n",
    "\n",
    "sys.path.append('../')\n",
    "from envir import config"
   ]
  },
  {
   "cell_type": "code",
   "execution_count": 2,
   "metadata": {},
   "outputs": [
    {
     "name": "stderr",
     "output_type": "stream",
     "text": [
      "/home/cusp/yg833/.conda/envs/birdsVE3.7/lib/python3.7/site-packages/IPython/core/interactiveshell.py:3058: DtypeWarning: Columns (7,9,11,13,15,17,21,23,25,27,29,31,33,35,37,39,41,43,45,47,49,51,53,55,57,59,61,63,65) have mixed types.Specify dtype option on import or set low_memory=False.\n",
      "  interactivity=interactivity, compiler=compiler, result=result)\n"
     ]
    }
   ],
   "source": [
    "noaa = pd.read_csv(config.dataFol+'noaa/2166257.csv')"
   ]
  },
  {
   "cell_type": "code",
   "execution_count": 3,
   "metadata": {},
   "outputs": [],
   "source": [
    "# add the lat long for washington square park\n",
    "noaa['wsp_lat'] = 40.7311732\n",
    "noaa['wsp_long'] = -73.9981389\n",
    "# calc distance to wsp from weather station\n",
    "noaa['distance'] = np.sqrt((noaa.LATITUDE-noaa.wsp_lat)**2 + (noaa.LONGITUDE-noaa.wsp_long)**2)\n",
    "# clean up data frame\n",
    "noaa.sort_values(by=['distance'], inplace=True)\n",
    "noaa.drop_duplicates('DATE', inplace=True)\n",
    "colnames = ['DATE', 'PRCP', 'SNOW', 'AWND', 'TMAX', 'TMIN']\n",
    "noaa = noaa[colnames]\n",
    "newcolnames = list(map(lambda x:x.lower(),colnames))\n",
    "noaa.rename(columns=dict(zip(colnames, newcolnames)), inplace=True)\n",
    "noaa['timestamp']=[\"{} {}\".format(i, '00:00') for i in noaa['date'].tolist()]\n",
    "noaa.drop(columns=['date'], inplace=True)"
   ]
  },
  {
   "cell_type": "code",
   "execution_count": 4,
   "metadata": {},
   "outputs": [
    {
     "data": {
      "text/html": [
       "<div>\n",
       "<style scoped>\n",
       "    .dataframe tbody tr th:only-of-type {\n",
       "        vertical-align: middle;\n",
       "    }\n",
       "\n",
       "    .dataframe tbody tr th {\n",
       "        vertical-align: top;\n",
       "    }\n",
       "\n",
       "    .dataframe thead th {\n",
       "        text-align: right;\n",
       "    }\n",
       "</style>\n",
       "<table border=\"1\" class=\"dataframe\">\n",
       "  <thead>\n",
       "    <tr style=\"text-align: right;\">\n",
       "      <th></th>\n",
       "      <th>prcp</th>\n",
       "      <th>snow</th>\n",
       "      <th>awnd</th>\n",
       "      <th>tmax</th>\n",
       "      <th>tmin</th>\n",
       "      <th>timestamp</th>\n",
       "    </tr>\n",
       "  </thead>\n",
       "  <tbody>\n",
       "    <tr>\n",
       "      <th>28173</th>\n",
       "      <td>0.00</td>\n",
       "      <td>0.0</td>\n",
       "      <td>NaN</td>\n",
       "      <td>NaN</td>\n",
       "      <td>NaN</td>\n",
       "      <td>2017-10-18 00:00</td>\n",
       "    </tr>\n",
       "    <tr>\n",
       "      <th>28392</th>\n",
       "      <td>0.35</td>\n",
       "      <td>0.0</td>\n",
       "      <td>NaN</td>\n",
       "      <td>NaN</td>\n",
       "      <td>NaN</td>\n",
       "      <td>2018-08-19 00:00</td>\n",
       "    </tr>\n",
       "    <tr>\n",
       "      <th>28393</th>\n",
       "      <td>0.06</td>\n",
       "      <td>0.0</td>\n",
       "      <td>NaN</td>\n",
       "      <td>NaN</td>\n",
       "      <td>NaN</td>\n",
       "      <td>2018-08-20 00:00</td>\n",
       "    </tr>\n",
       "    <tr>\n",
       "      <th>28394</th>\n",
       "      <td>0.00</td>\n",
       "      <td>0.0</td>\n",
       "      <td>NaN</td>\n",
       "      <td>NaN</td>\n",
       "      <td>NaN</td>\n",
       "      <td>2018-08-21 00:00</td>\n",
       "    </tr>\n",
       "    <tr>\n",
       "      <th>28395</th>\n",
       "      <td>0.39</td>\n",
       "      <td>0.0</td>\n",
       "      <td>NaN</td>\n",
       "      <td>NaN</td>\n",
       "      <td>NaN</td>\n",
       "      <td>2018-08-22 00:00</td>\n",
       "    </tr>\n",
       "  </tbody>\n",
       "</table>\n",
       "</div>"
      ],
      "text/plain": [
       "       prcp  snow  awnd  tmax  tmin         timestamp\n",
       "28173  0.00   0.0   NaN   NaN   NaN  2017-10-18 00:00\n",
       "28392  0.35   0.0   NaN   NaN   NaN  2018-08-19 00:00\n",
       "28393  0.06   0.0   NaN   NaN   NaN  2018-08-20 00:00\n",
       "28394  0.00   0.0   NaN   NaN   NaN  2018-08-21 00:00\n",
       "28395  0.39   0.0   NaN   NaN   NaN  2018-08-22 00:00"
      ]
     },
     "execution_count": 4,
     "metadata": {},
     "output_type": "execute_result"
    }
   ],
   "source": [
    "# weather by day data downloaded from NOAA\n",
    "noaa.head()\n",
    "#noaa.to_csv(config.dataFol+'clean_noaa/clean_noaa.csv', index=False)"
   ]
  },
  {
   "cell_type": "markdown",
   "metadata": {},
   "source": [
    "#### updated weather data from https://mesonet.agron.iastate.edu/request/download.phtml?network=NY_ASOS\n",
    "station: [NYC] New York City\n",
    "Dates: 2017/01/01 - 2020/06/09"
   ]
  },
  {
   "cell_type": "code",
   "execution_count": 5,
   "metadata": {},
   "outputs": [],
   "source": [
    "weather = pd.read_hdf(config.dataFol+'spl/weather_df.h5')"
   ]
  },
  {
   "cell_type": "code",
   "execution_count": 6,
   "metadata": {},
   "outputs": [],
   "source": [
    "weather['timestamp'] = pd.DatetimeIndex(weather.datetime).tz_convert('UTC')"
   ]
  },
  {
   "cell_type": "code",
   "execution_count": 7,
   "metadata": {},
   "outputs": [],
   "source": [
    "weather['timestamp'] = weather.timestamp.astype('str').str[0:16]"
   ]
  },
  {
   "cell_type": "code",
   "execution_count": 8,
   "metadata": {},
   "outputs": [],
   "source": [
    "weather = weather[['timestamp','temp_celcius', 'dewp_celcius', 'rh_percentage', 'wind_dir',\n",
    "                   'wind_speed_mph', 'sea_level_pressure_mb', 'precipitation_mm',\n",
    "                   'visibility_miles', 'gust_mph', 'peak_wind_gust_mph']]"
   ]
  },
  {
   "cell_type": "code",
   "execution_count": 9,
   "metadata": {},
   "outputs": [],
   "source": [
    "weather.to_csv(config.dataFol+'clean_noaa/clean_weather.csv', index=False)"
   ]
  },
  {
   "cell_type": "code",
   "execution_count": null,
   "metadata": {},
   "outputs": [],
   "source": []
  }
 ],
 "metadata": {
  "kernelspec": {
   "display_name": "birdsVE3.7",
   "language": "python",
   "name": "birdsve3.7"
  },
  "language_info": {
   "codemirror_mode": {
    "name": "ipython",
    "version": 3
   },
   "file_extension": ".py",
   "mimetype": "text/x-python",
   "name": "python",
   "nbconvert_exporter": "python",
   "pygments_lexer": "ipython3",
   "version": "3.7.4"
  }
 },
 "nbformat": 4,
 "nbformat_minor": 2
}
