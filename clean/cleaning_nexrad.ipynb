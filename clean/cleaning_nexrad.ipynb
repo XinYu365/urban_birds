{
 "cells": [
  {
   "cell_type": "code",
   "execution_count": 1,
   "metadata": {},
   "outputs": [
    {
     "name": "stderr",
     "output_type": "stream",
     "text": [
      "Welcome to bioRad version 0.5.0\n",
      "\n",
      "Warning: Docker daemon is not running\n",
      "\n",
      "Warning: bioRad functionality requiring Docker has been disabled\n",
      "\n",
      "To enable Docker functionality, start Docker and run 'check_docker()'\n",
      "in R\n",
      "\n",
      "\n",
      "Attaching package: ‘Hmisc’\n",
      "\n",
      "\n",
      "The following objects are masked from ‘package:base’:\n",
      "\n",
      "    format.pval, units\n",
      "\n",
      "\n"
     ]
    },
    {
     "data": {
      "text/html": [
       "TRUE"
      ],
      "text/latex": [
       "TRUE"
      ],
      "text/markdown": [
       "TRUE"
      ],
      "text/plain": [
       "[1] TRUE"
      ]
     },
     "metadata": {},
     "output_type": "display_data"
    }
   ],
   "source": [
    "library(bioRad, quietly = T)\n",
    "library(Hmisc, quietly = T)\n",
    "HOME = '/gws_gpfs/projects/project-urban_birds/workspace' # this is unique\n",
    "file.exists(HOME)\n",
    "setwd(HOME)\n",
    "# set session time zone to UTC\n",
    "Sys.setenv(TZ = \"UTC\")"
   ]
  },
  {
   "cell_type": "code",
   "execution_count": 8,
   "metadata": {},
   "outputs": [],
   "source": [
    "files <- c('KDIX2016night.RData', 'KDIX2017night.RData', 'KDIX2018night.RData', 'KDIX2019night.RData',\n",
    "          'KOKX2016night.RData', 'KOKX2017night.RData', 'KOKX2018night.RData', 'KOKX2019night.RData')\n",
    "\n",
    "for (i in files){\n",
    "    load(paste0(\"./share/data/\", i))\n",
    "    data_df <- integrate_profile(data)\n",
    "    name_out <- paste0(\"./share/data/clean_nexrad/\", substr(i, 1, nchar(i)-5), \"csv\")\n",
    "    write.csv(data_df, name_out, row.names=FALSE)\n",
    "}"
   ]
  },
  {
   "cell_type": "code",
   "execution_count": null,
   "metadata": {},
   "outputs": [],
   "source": []
  }
 ],
 "metadata": {
  "kernelspec": {
   "display_name": "r-birds",
   "language": "R",
   "name": "r-birds"
  },
  "language_info": {
   "codemirror_mode": "r",
   "file_extension": ".r",
   "mimetype": "text/x-r-source",
   "name": "R",
   "pygments_lexer": "r",
   "version": "3.6.1"
  }
 },
 "nbformat": 4,
 "nbformat_minor": 2
}
