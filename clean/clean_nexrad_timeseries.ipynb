{
 "cells": [
  {
   "cell_type": "code",
   "execution_count": 1,
   "metadata": {},
   "outputs": [],
   "source": [
    "import sys\n",
    "import pandas as pd\n",
    "import numpy as np\n",
    "import datetime as dt\n",
    "sys.path.append('../')\n",
    "from envir import config"
   ]
  },
  {
   "cell_type": "code",
   "execution_count": 2,
   "metadata": {},
   "outputs": [],
   "source": [
    "# read in files\n",
    "files = ['KOKX2016night.csv', 'KOKX2017night.csv',\n",
    "         'KOKX2018night.csv', 'KOKX2019night.csv']\n",
    "kokx = pd.DataFrame()\n",
    "for f in files:\n",
    "    temp = pd.read_csv(config.dataFol+'clean_nexrad/'+f)\n",
    "    kokx = kokx.append(temp)"
   ]
  },
  {
   "cell_type": "code",
   "execution_count": 3,
   "metadata": {},
   "outputs": [],
   "source": [
    "# read in files\n",
    "files = ['KDIX2016night.csv', 'KDIX2017night.csv',\n",
    "         'KDIX2018night.csv', 'KDIX2019night.csv']\n",
    "kdix = pd.DataFrame()\n",
    "for f in files:\n",
    "    temp = pd.read_csv(config.dataFol+'clean_nexrad/'+f)\n",
    "    kdix = kdix.append(temp)"
   ]
  },
  {
   "cell_type": "code",
   "execution_count": 4,
   "metadata": {},
   "outputs": [],
   "source": [
    "kokx['datetime'] = pd.to_datetime(kokx.datetime).dt.tz_localize('UTC')\n",
    "kokx['radar_name'] = 'KOKX'\n",
    "kdix['datetime'] = pd.to_datetime(kdix.datetime).dt.tz_localize('UTC')\n",
    "kdix['radar_name'] = 'KDIX'\n",
    "radars = pd.concat([kokx, kdix], axis=0)"
   ]
  },
  {
   "cell_type": "code",
   "execution_count": 5,
   "metadata": {},
   "outputs": [
    {
     "data": {
      "text/plain": [
       "Index(['datetime', 'mtr', 'vid', 'vir', 'rtr', 'mt', 'rt', 'ff', 'dd', 'u',\n",
       "       'v', 'height', 'airspeed', 'heading', 'airspeed_u', 'airspeed_v',\n",
       "       'radar_name'],\n",
       "      dtype='object')"
      ]
     },
     "execution_count": 5,
     "metadata": {},
     "output_type": "execute_result"
    }
   ],
   "source": [
    "radars.columns"
   ]
  },
  {
   "cell_type": "code",
   "execution_count": 6,
   "metadata": {},
   "outputs": [],
   "source": [
    "radars['datetime'] = radars['datetime'].dt.strftime('%Y-%m-%d %H:%m')"
   ]
  },
  {
   "cell_type": "code",
   "execution_count": 14,
   "metadata": {},
   "outputs": [
    {
     "data": {
      "text/plain": [
       "0        2016-01-01 00:01\n",
       "1        2016-01-01 00:01\n",
       "2        2016-01-01 00:01\n",
       "3        2016-01-01 00:01\n",
       "4        2016-01-01 00:01\n",
       "               ...       \n",
       "24958    2019-09-01 09:09\n",
       "24959    2019-09-01 10:09\n",
       "24960    2019-09-01 10:09\n",
       "24961    2019-09-01 10:09\n",
       "24962    2019-09-01 10:09\n",
       "Name: datetime, Length: 255906, dtype: object"
      ]
     },
     "execution_count": 14,
     "metadata": {},
     "output_type": "execute_result"
    }
   ],
   "source": [
    "radars.datetime"
   ]
  },
  {
   "cell_type": "code",
   "execution_count": 9,
   "metadata": {},
   "outputs": [],
   "source": [
    "radars_clean = radars[['radar_name', 'datetime', 'mtr', 'mt', 'height', \n",
    "                       'airspeed', 'heading', 'airspeed_u', 'airspeed_v']]"
   ]
  },
  {
   "cell_type": "code",
   "execution_count": 12,
   "metadata": {},
   "outputs": [],
   "source": [
    "radars_clean.to_csv(config.dataFol+'clean_nexrad/clean_nexrad_all.csv', index = False)"
   ]
  },
  {
   "cell_type": "code",
   "execution_count": null,
   "metadata": {},
   "outputs": [],
   "source": []
  }
 ],
 "metadata": {
  "kernelspec": {
   "display_name": "birdsVE3.7",
   "language": "python",
   "name": "birdsve3.7"
  },
  "language_info": {
   "codemirror_mode": {
    "name": "ipython",
    "version": 3
   },
   "file_extension": ".py",
   "mimetype": "text/x-python",
   "name": "python",
   "nbconvert_exporter": "python",
   "pygments_lexer": "ipython3",
   "version": "3.7.4"
  }
 },
 "nbformat": 4,
 "nbformat_minor": 2
}
