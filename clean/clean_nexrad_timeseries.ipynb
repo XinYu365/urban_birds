{
 "cells": [
  {
   "cell_type": "code",
   "execution_count": 10,
   "metadata": {},
   "outputs": [],
   "source": [
    "import sys\n",
    "import pandas as pd\n",
    "import numpy as np\n",
    "import datetime as dt\n",
    "sys.path.append('../')\n",
    "from envir import config"
   ]
  },
  {
   "cell_type": "code",
   "execution_count": 11,
   "metadata": {},
   "outputs": [],
   "source": [
    "# read in files\n",
    "files = ['KOKX2016night.csv', 'KOKX2017night.csv',\n",
    "         'KOKX2018night.csv', 'KOKX2019night.csv', 'KOKX_spring_2020.csv']\n",
    "kokx = pd.DataFrame()\n",
    "for f in files:\n",
    "    temp = pd.read_csv(config.dataFol+'clean_nexrad/'+f)\n",
    "    kokx = kokx.append(temp)"
   ]
  },
  {
   "cell_type": "code",
   "execution_count": 12,
   "metadata": {},
   "outputs": [],
   "source": [
    "# read in files\n",
    "files = ['KDIX2016night.csv', 'KDIX2017night.csv',\n",
    "         'KDIX2018night.csv', 'KDIX2019night.csv', 'KDIX_spring_2020.csv']\n",
    "kdix = pd.DataFrame()\n",
    "for f in files:\n",
    "    temp = pd.read_csv(config.dataFol+'clean_nexrad/'+f)\n",
    "    kdix = kdix.append(temp)"
   ]
  },
  {
   "cell_type": "code",
   "execution_count": 13,
   "metadata": {},
   "outputs": [],
   "source": [
    "kokx['datetime'] = pd.to_datetime(kokx.datetime).dt.tz_localize('UTC')\n",
    "kokx['radar_name'] = 'KOKX'\n",
    "kdix['datetime'] = pd.to_datetime(kdix.datetime).dt.tz_localize('UTC')\n",
    "kdix['radar_name'] = 'KDIX'\n",
    "radars = pd.concat([kokx, kdix], axis=0)"
   ]
  },
  {
   "cell_type": "code",
   "execution_count": 14,
   "metadata": {},
   "outputs": [
    {
     "data": {
      "text/plain": [
       "Index(['datetime', 'mtr', 'vid', 'vir', 'rtr', 'mt', 'rt', 'ff', 'dd', 'u',\n",
       "       'v', 'height', 'airspeed', 'heading', 'airspeed_u', 'airspeed_v',\n",
       "       'radar_name'],\n",
       "      dtype='object')"
      ]
     },
     "execution_count": 14,
     "metadata": {},
     "output_type": "execute_result"
    }
   ],
   "source": [
    "radars.columns"
   ]
  },
  {
   "cell_type": "code",
   "execution_count": 15,
   "metadata": {},
   "outputs": [],
   "source": [
    "radars['timestamp'] = radars['datetime'].astype('str').str[0:16]"
   ]
  },
  {
   "cell_type": "code",
   "execution_count": 16,
   "metadata": {
    "scrolled": true
   },
   "outputs": [
    {
     "data": {
      "text/html": [
       "<div>\n",
       "<style scoped>\n",
       "    .dataframe tbody tr th:only-of-type {\n",
       "        vertical-align: middle;\n",
       "    }\n",
       "\n",
       "    .dataframe tbody tr th {\n",
       "        vertical-align: top;\n",
       "    }\n",
       "\n",
       "    .dataframe thead th {\n",
       "        text-align: right;\n",
       "    }\n",
       "</style>\n",
       "<table border=\"1\" class=\"dataframe\">\n",
       "  <thead>\n",
       "    <tr style=\"text-align: right;\">\n",
       "      <th></th>\n",
       "      <th>datetime</th>\n",
       "      <th>mtr</th>\n",
       "      <th>vid</th>\n",
       "      <th>vir</th>\n",
       "      <th>rtr</th>\n",
       "      <th>mt</th>\n",
       "      <th>rt</th>\n",
       "      <th>ff</th>\n",
       "      <th>dd</th>\n",
       "      <th>u</th>\n",
       "      <th>v</th>\n",
       "      <th>height</th>\n",
       "      <th>airspeed</th>\n",
       "      <th>heading</th>\n",
       "      <th>airspeed_u</th>\n",
       "      <th>airspeed_v</th>\n",
       "      <th>radar_name</th>\n",
       "      <th>timestamp</th>\n",
       "    </tr>\n",
       "  </thead>\n",
       "  <tbody>\n",
       "    <tr>\n",
       "      <th>0</th>\n",
       "      <td>2016-01-01 00:01:23+00:00</td>\n",
       "      <td>2.404765</td>\n",
       "      <td>0.100105</td>\n",
       "      <td>1.10116</td>\n",
       "      <td>26.452419</td>\n",
       "      <td>0.196389</td>\n",
       "      <td>2.160281</td>\n",
       "      <td>6.672867</td>\n",
       "      <td>120.481784</td>\n",
       "      <td>5.745748</td>\n",
       "      <td>-3.382044</td>\n",
       "      <td>246.073922</td>\n",
       "      <td>2.245836</td>\n",
       "      <td>250.508740</td>\n",
       "      <td>-2.125352</td>\n",
       "      <td>-0.460421</td>\n",
       "      <td>KOKX</td>\n",
       "      <td>2016-01-01 00:01</td>\n",
       "    </tr>\n",
       "    <tr>\n",
       "      <th>1</th>\n",
       "      <td>2016-01-01 00:11:11+00:00</td>\n",
       "      <td>2.401061</td>\n",
       "      <td>0.087945</td>\n",
       "      <td>0.96739</td>\n",
       "      <td>26.411676</td>\n",
       "      <td>0.587562</td>\n",
       "      <td>6.463183</td>\n",
       "      <td>7.583887</td>\n",
       "      <td>109.591163</td>\n",
       "      <td>7.109099</td>\n",
       "      <td>-2.530201</td>\n",
       "      <td>229.731845</td>\n",
       "      <td>1.218308</td>\n",
       "      <td>23.347845</td>\n",
       "      <td>-0.425245</td>\n",
       "      <td>0.419093</td>\n",
       "      <td>KOKX</td>\n",
       "      <td>2016-01-01 00:11</td>\n",
       "    </tr>\n",
       "    <tr>\n",
       "      <th>2</th>\n",
       "      <td>2016-01-01 00:20:56+00:00</td>\n",
       "      <td>2.922019</td>\n",
       "      <td>0.118743</td>\n",
       "      <td>1.30617</td>\n",
       "      <td>32.142208</td>\n",
       "      <td>1.064014</td>\n",
       "      <td>11.704149</td>\n",
       "      <td>6.835551</td>\n",
       "      <td>120.412504</td>\n",
       "      <td>5.878504</td>\n",
       "      <td>-3.450623</td>\n",
       "      <td>234.408898</td>\n",
       "      <td>1.776066</td>\n",
       "      <td>145.565965</td>\n",
       "      <td>-1.650339</td>\n",
       "      <td>-0.415139</td>\n",
       "      <td>KOKX</td>\n",
       "      <td>2016-01-01 00:20</td>\n",
       "    </tr>\n",
       "    <tr>\n",
       "      <th>3</th>\n",
       "      <td>2016-01-01 00:30:45+00:00</td>\n",
       "      <td>2.694789</td>\n",
       "      <td>0.104155</td>\n",
       "      <td>1.14570</td>\n",
       "      <td>29.642682</td>\n",
       "      <td>1.503040</td>\n",
       "      <td>16.533436</td>\n",
       "      <td>7.186941</td>\n",
       "      <td>112.218946</td>\n",
       "      <td>6.581307</td>\n",
       "      <td>-2.688321</td>\n",
       "      <td>258.924413</td>\n",
       "      <td>1.568954</td>\n",
       "      <td>25.209671</td>\n",
       "      <td>-0.858024</td>\n",
       "      <td>0.372199</td>\n",
       "      <td>KOKX</td>\n",
       "      <td>2016-01-01 00:30</td>\n",
       "    </tr>\n",
       "    <tr>\n",
       "      <th>4</th>\n",
       "      <td>2016-01-01 00:40:29+00:00</td>\n",
       "      <td>3.106677</td>\n",
       "      <td>0.121072</td>\n",
       "      <td>1.33179</td>\n",
       "      <td>34.173448</td>\n",
       "      <td>2.008306</td>\n",
       "      <td>22.091367</td>\n",
       "      <td>7.127719</td>\n",
       "      <td>114.683949</td>\n",
       "      <td>6.451931</td>\n",
       "      <td>-2.965367</td>\n",
       "      <td>245.842580</td>\n",
       "      <td>1.155723</td>\n",
       "      <td>-5.553182</td>\n",
       "      <td>-0.887278</td>\n",
       "      <td>0.142879</td>\n",
       "      <td>KOKX</td>\n",
       "      <td>2016-01-01 00:40</td>\n",
       "    </tr>\n",
       "  </tbody>\n",
       "</table>\n",
       "</div>"
      ],
      "text/plain": [
       "                   datetime       mtr       vid      vir        rtr        mt  \\\n",
       "0 2016-01-01 00:01:23+00:00  2.404765  0.100105  1.10116  26.452419  0.196389   \n",
       "1 2016-01-01 00:11:11+00:00  2.401061  0.087945  0.96739  26.411676  0.587562   \n",
       "2 2016-01-01 00:20:56+00:00  2.922019  0.118743  1.30617  32.142208  1.064014   \n",
       "3 2016-01-01 00:30:45+00:00  2.694789  0.104155  1.14570  29.642682  1.503040   \n",
       "4 2016-01-01 00:40:29+00:00  3.106677  0.121072  1.33179  34.173448  2.008306   \n",
       "\n",
       "          rt        ff          dd         u         v      height  airspeed  \\\n",
       "0   2.160281  6.672867  120.481784  5.745748 -3.382044  246.073922  2.245836   \n",
       "1   6.463183  7.583887  109.591163  7.109099 -2.530201  229.731845  1.218308   \n",
       "2  11.704149  6.835551  120.412504  5.878504 -3.450623  234.408898  1.776066   \n",
       "3  16.533436  7.186941  112.218946  6.581307 -2.688321  258.924413  1.568954   \n",
       "4  22.091367  7.127719  114.683949  6.451931 -2.965367  245.842580  1.155723   \n",
       "\n",
       "      heading  airspeed_u  airspeed_v radar_name         timestamp  \n",
       "0  250.508740   -2.125352   -0.460421       KOKX  2016-01-01 00:01  \n",
       "1   23.347845   -0.425245    0.419093       KOKX  2016-01-01 00:11  \n",
       "2  145.565965   -1.650339   -0.415139       KOKX  2016-01-01 00:20  \n",
       "3   25.209671   -0.858024    0.372199       KOKX  2016-01-01 00:30  \n",
       "4   -5.553182   -0.887278    0.142879       KOKX  2016-01-01 00:40  "
      ]
     },
     "execution_count": 16,
     "metadata": {},
     "output_type": "execute_result"
    }
   ],
   "source": [
    "radars.head()"
   ]
  },
  {
   "cell_type": "code",
   "execution_count": 17,
   "metadata": {},
   "outputs": [],
   "source": [
    "radars_clean = radars[['radar_name', 'timestamp', 'mtr', 'mt', 'height']]"
   ]
  },
  {
   "cell_type": "code",
   "execution_count": 19,
   "metadata": {},
   "outputs": [
    {
     "name": "stderr",
     "output_type": "stream",
     "text": [
      "/home/cusp/yg833/.conda/envs/birdsVE3.7/lib/python3.7/site-packages/pandas/core/frame.py:4133: SettingWithCopyWarning: \n",
      "A value is trying to be set on a copy of a slice from a DataFrame\n",
      "\n",
      "See the caveats in the documentation: https://pandas.pydata.org/pandas-docs/stable/user_guide/indexing.html#returning-a-view-versus-a-copy\n",
      "  errors=errors,\n"
     ]
    }
   ],
   "source": [
    "radars_clean.rename(columns={'mtr': 'mtr_#/km/h',\n",
    "                             'mt': 'mt_#/km', \n",
    "                            'height':'height_m'}, inplace=True)"
   ]
  },
  {
   "cell_type": "code",
   "execution_count": 20,
   "metadata": {},
   "outputs": [],
   "source": [
    "radars_clean.to_csv(config.dataFol+'clean_nexrad/clean_nexrad.csv', index = False)"
   ]
  },
  {
   "cell_type": "code",
   "execution_count": null,
   "metadata": {},
   "outputs": [],
   "source": []
  }
 ],
 "metadata": {
  "kernelspec": {
   "display_name": "birdsVE3.7",
   "language": "python",
   "name": "birdsve3.7"
  },
  "language_info": {
   "codemirror_mode": {
    "name": "ipython",
    "version": 3
   },
   "file_extension": ".py",
   "mimetype": "text/x-python",
   "name": "python",
   "nbconvert_exporter": "python",
   "pygments_lexer": "ipython3",
   "version": "3.7.4"
  }
 },
 "nbformat": 4,
 "nbformat_minor": 2
}
