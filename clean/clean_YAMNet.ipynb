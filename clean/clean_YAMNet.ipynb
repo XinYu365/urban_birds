{
 "cells": [
  {
   "cell_type": "code",
   "execution_count": 37,
   "metadata": {},
   "outputs": [],
   "source": [
    "import sys\n",
    "import h5py\n",
    "import datetime\n",
    "import numpy as np\n",
    "\n",
    "#sys.path.append('../')\n",
    "from envir import config"
   ]
  },
  {
   "cell_type": "code",
   "execution_count": 38,
   "metadata": {},
   "outputs": [
    {
     "data": {
      "text/plain": [
       "'/gws_gpfs/projects/project-urban_birds/workspace/xy1443/urban_birds/clean'"
      ]
     },
     "execution_count": 38,
     "metadata": {},
     "output_type": "execute_result"
    }
   ],
   "source": [
    "pwd"
   ]
  },
  {
   "cell_type": "code",
   "execution_count": 39,
   "metadata": {},
   "outputs": [],
   "source": [
    "def date_formatter(time):\n",
    "    return datetime.datetime.fromtimestamp(float(time.split('_')[1])).strftime('%Y-%m-%d %H:%M')"
   ]
  },
  {
   "cell_type": "code",
   "execution_count": 41,
   "metadata": {},
   "outputs": [],
   "source": [
    "#initialize threshold\n",
    "thres = 0.5\n",
    "\n",
    "#write to csv\n",
    "f = open('../../../share/data/clean_yamnet/clean_yamnet.csv','w')\n",
    "\n",
    "sensors = ['b827eb815321','b827eb8e2420','b827eb905497', 'b827eb0fedda','b827eb1685c7']\n",
    "for sensor in sensors:\n",
    "    #read in file\n",
    "    sensor_file = h5py.File(config.dataFol+'YAMNet/dense-bird/'+sensor+'_yamnet-pred-bird.h5','r')\n",
    "    #Filter all valid predictions by timestamp and take the average\n",
    "    for time in list(sensor_file.keys()):\n",
    "        timestamp = date_formatter(time)\n",
    "        filter_list = list(filter(lambda x: (x >= thres) , np.array(sensor_file[time]))) \n",
    "        if len(filter_list) > 0:\n",
    "            f.write(','.join([sensor, timestamp, str(len(filter_list)), str(np.mean(filter_list))])+'\\n') \n",
    "            \n",
    "#close file\n",
    "f.close()"
   ]
  },
  {
   "cell_type": "code",
   "execution_count": null,
   "metadata": {},
   "outputs": [],
   "source": []
  }
 ],
 "metadata": {
  "kernelspec": {
   "display_name": "birdsVE3.7",
   "language": "python",
   "name": "birdsve3.7"
  },
  "language_info": {
   "codemirror_mode": {
    "name": "ipython",
    "version": 3
   },
   "file_extension": ".py",
   "mimetype": "text/x-python",
   "name": "python",
   "nbconvert_exporter": "python",
   "pygments_lexer": "ipython3",
   "version": "3.7.6"
  }
 },
 "nbformat": 4,
 "nbformat_minor": 2
}
