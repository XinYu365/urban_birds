{
 "cells": [
  {
   "cell_type": "code",
   "execution_count": 1,
   "metadata": {},
   "outputs": [
    {
     "name": "stderr",
     "output_type": "stream",
     "text": [
      "/home/cusp/yg833/.conda/envs/birdsVE3.7/lib/python3.7/site-packages/dask/dataframe/utils.py:14: FutureWarning: pandas.util.testing is deprecated. Use the functions in the public API at pandas.testing instead.\n",
      "  import pandas.util.testing as tm\n"
     ]
    }
   ],
   "source": [
    "import sys\n",
    "import datetime as dt\n",
    "from os import listdir\n",
    "from os.path import isfile, join\n",
    "import pandas as pd\n",
    "import numpy as np\n",
    "import h5py\n",
    "import dask.dataframe as dd\n",
    "import dask.array as da\n",
    "\n",
    "import matplotlib.pyplot as plt\n",
    "%matplotlib inline\n",
    "\n",
    "sys.path.append('../')\n",
    "from envir import config"
   ]
  },
  {
   "cell_type": "markdown",
   "metadata": {},
   "source": [
    "#### SPL Data 2017 - 2018"
   ]
  },
  {
   "cell_type": "code",
   "execution_count": 2,
   "metadata": {},
   "outputs": [],
   "source": [
    "sensors = pd.read_json(config.dataFol+\"sonyc_test.collection.json\")\n",
    "bird_sensors = ['sonycnode-b827eb815321.sonyc', # 19 Washington Square North - 15-61 Washington Square N, New York, NY 10011\n",
    "                'sonycnode-b827eb8e2420.sonyc', # 4 Washington Square North 1-6 Washington Square North, New York, NY 10003\n",
    "                'sonycnode-b827eb86d458.sonyc', # Silver Lab - 60 5th Ave\n",
    "                'sonycnode-b827eb905497.sonyc', # Kimmel Center - 60 Washington Square S, New York, NY 10012\n",
    "                'sonycnode-b827eb0fedda.sonyc', # Juan Carlos - King Juan Carlos I of Spain Center, 53 Washington Square S, New York, NY 10012\n",
    "                'sonycnode-b827eb1685c7.sonyc'] # Shimkin Reading Room - 35-51 West 4th Street, New York, NY 10012\n",
    "\n",
    "sensors['bird_sensor'] = np.where(sensors.fqdn.isin(bird_sensors), 1,0)\n",
    "bird_sensors = [(lambda x: x+'.h5')(x) for x in bird_sensors]"
   ]
  },
  {
   "cell_type": "code",
   "execution_count": 3,
   "metadata": {},
   "outputs": [
    {
     "data": {
      "text/html": [
       "<div>\n",
       "<style scoped>\n",
       "    .dataframe tbody tr th:only-of-type {\n",
       "        vertical-align: middle;\n",
       "    }\n",
       "\n",
       "    .dataframe tbody tr th {\n",
       "        vertical-align: top;\n",
       "    }\n",
       "\n",
       "    .dataframe thead th {\n",
       "        text-align: right;\n",
       "    }\n",
       "</style>\n",
       "<table border=\"1\" class=\"dataframe\">\n",
       "  <thead>\n",
       "    <tr style=\"text-align: right;\">\n",
       "      <th></th>\n",
       "      <th>fqdn</th>\n",
       "      <th>title</th>\n",
       "    </tr>\n",
       "  </thead>\n",
       "  <tbody>\n",
       "    <tr>\n",
       "      <th>74</th>\n",
       "      <td>sonycnode-b827eb905497.sonyc</td>\n",
       "      <td>Kimmel Center</td>\n",
       "    </tr>\n",
       "    <tr>\n",
       "      <th>76</th>\n",
       "      <td>sonycnode-b827eb8e2420.sonyc</td>\n",
       "      <td>4 Washington Square North</td>\n",
       "    </tr>\n",
       "    <tr>\n",
       "      <th>87</th>\n",
       "      <td>sonycnode-b827eb1685c7.sonyc</td>\n",
       "      <td>Shimkin Reading Room</td>\n",
       "    </tr>\n",
       "    <tr>\n",
       "      <th>88</th>\n",
       "      <td>sonycnode-b827eb815321.sonyc</td>\n",
       "      <td>19 Washington Square North</td>\n",
       "    </tr>\n",
       "    <tr>\n",
       "      <th>93</th>\n",
       "      <td>sonycnode-b827eb86d458.sonyc</td>\n",
       "      <td>Silver lab</td>\n",
       "    </tr>\n",
       "    <tr>\n",
       "      <th>97</th>\n",
       "      <td>sonycnode-b827eb0fedda.sonyc</td>\n",
       "      <td>Juan Carlos</td>\n",
       "    </tr>\n",
       "  </tbody>\n",
       "</table>\n",
       "</div>"
      ],
      "text/plain": [
       "                            fqdn                       title\n",
       "74  sonycnode-b827eb905497.sonyc               Kimmel Center\n",
       "76  sonycnode-b827eb8e2420.sonyc   4 Washington Square North\n",
       "87  sonycnode-b827eb1685c7.sonyc        Shimkin Reading Room\n",
       "88  sonycnode-b827eb815321.sonyc  19 Washington Square North\n",
       "93  sonycnode-b827eb86d458.sonyc                  Silver lab\n",
       "97  sonycnode-b827eb0fedda.sonyc                 Juan Carlos"
      ]
     },
     "execution_count": 3,
     "metadata": {},
     "output_type": "execute_result"
    }
   ],
   "source": [
    "sensors[sensors.bird_sensor==1][['fqdn', 'title']]"
   ]
  },
  {
   "cell_type": "code",
   "execution_count": 4,
   "metadata": {},
   "outputs": [],
   "source": [
    "def clean_spl_min(file = 'sensor_file_location', sensor = 'name'):\n",
    "    sensordf = pd.read_hdf(file, key = '/minute_intervals')\n",
    "    sensordf['sonyc_sensor_id'] = file[-31:-3]\n",
    "    sensordf['sonyc_sensor_name'] = sensor\n",
    "    sensordf['timestamp'] = pd.to_datetime(sensordf['timestamp'], unit='s')\n",
    "    sensordf['year'] = pd.DatetimeIndex(sensordf['timestamp']).year\n",
    "    sensordf['month'] = pd.DatetimeIndex(sensordf['timestamp']).month\n",
    "    sensordf['day'] = pd.DatetimeIndex(sensordf['timestamp']).day\n",
    "    sensordf['hour'] = pd.DatetimeIndex(sensordf['timestamp']).hour\n",
    "    sensordf['minute'] = pd.DatetimeIndex(sensordf['timestamp']).minute\n",
    "    sensordf['timestamp'] = sensordf['timestamp'].astype('str').str[0:16]\n",
    "    sensorfin = sensordf[['sonyc_sensor_id','sonyc_sensor_name','timestamp', 'year', 'month', 'day', 'hour', 'minute',\n",
    "                          'dBAS_lin_mean', 'dBAS_mean', 'dBAS_max']]\n",
    "    return(sensorfin)"
   ]
  },
  {
   "cell_type": "code",
   "execution_count": 5,
   "metadata": {},
   "outputs": [
    {
     "data": {
      "text/html": [
       "<div>\n",
       "<style scoped>\n",
       "    .dataframe tbody tr th:only-of-type {\n",
       "        vertical-align: middle;\n",
       "    }\n",
       "\n",
       "    .dataframe tbody tr th {\n",
       "        vertical-align: top;\n",
       "    }\n",
       "\n",
       "    .dataframe thead th {\n",
       "        text-align: right;\n",
       "    }\n",
       "</style>\n",
       "<table border=\"1\" class=\"dataframe\">\n",
       "  <thead>\n",
       "    <tr style=\"text-align: right;\">\n",
       "      <th></th>\n",
       "      <th>sonyc_sensor_id</th>\n",
       "      <th>sonyc_sensor_name</th>\n",
       "      <th>timestamp</th>\n",
       "      <th>year</th>\n",
       "      <th>month</th>\n",
       "      <th>day</th>\n",
       "      <th>hour</th>\n",
       "      <th>minute</th>\n",
       "      <th>dBAS_lin_mean</th>\n",
       "      <th>dBAS_mean</th>\n",
       "      <th>dBAS_max</th>\n",
       "    </tr>\n",
       "  </thead>\n",
       "  <tbody>\n",
       "    <tr>\n",
       "      <th>0</th>\n",
       "      <td>sonycnode-b827eb1685c7.sonyc</td>\n",
       "      <td>Kimmel Center</td>\n",
       "      <td>2017-01-20 18:21</td>\n",
       "      <td>2017</td>\n",
       "      <td>1</td>\n",
       "      <td>20</td>\n",
       "      <td>18</td>\n",
       "      <td>21</td>\n",
       "      <td>65.790405</td>\n",
       "      <td>64.380714</td>\n",
       "      <td>73.779999</td>\n",
       "    </tr>\n",
       "    <tr>\n",
       "      <th>1</th>\n",
       "      <td>sonycnode-b827eb1685c7.sonyc</td>\n",
       "      <td>Kimmel Center</td>\n",
       "      <td>2017-01-20 18:22</td>\n",
       "      <td>2017</td>\n",
       "      <td>1</td>\n",
       "      <td>20</td>\n",
       "      <td>18</td>\n",
       "      <td>22</td>\n",
       "      <td>64.585182</td>\n",
       "      <td>64.105667</td>\n",
       "      <td>70.980003</td>\n",
       "    </tr>\n",
       "    <tr>\n",
       "      <th>2</th>\n",
       "      <td>sonycnode-b827eb1685c7.sonyc</td>\n",
       "      <td>Kimmel Center</td>\n",
       "      <td>2017-01-20 18:23</td>\n",
       "      <td>2017</td>\n",
       "      <td>1</td>\n",
       "      <td>20</td>\n",
       "      <td>18</td>\n",
       "      <td>23</td>\n",
       "      <td>62.332256</td>\n",
       "      <td>62.321999</td>\n",
       "      <td>62.959999</td>\n",
       "    </tr>\n",
       "    <tr>\n",
       "      <th>3</th>\n",
       "      <td>sonycnode-b827eb1685c7.sonyc</td>\n",
       "      <td>Kimmel Center</td>\n",
       "      <td>2017-01-20 19:21</td>\n",
       "      <td>2017</td>\n",
       "      <td>1</td>\n",
       "      <td>20</td>\n",
       "      <td>19</td>\n",
       "      <td>21</td>\n",
       "      <td>62.327068</td>\n",
       "      <td>62.310001</td>\n",
       "      <td>62.720001</td>\n",
       "    </tr>\n",
       "    <tr>\n",
       "      <th>4</th>\n",
       "      <td>sonycnode-b827eb1685c7.sonyc</td>\n",
       "      <td>Kimmel Center</td>\n",
       "      <td>2017-01-20 19:22</td>\n",
       "      <td>2017</td>\n",
       "      <td>1</td>\n",
       "      <td>20</td>\n",
       "      <td>19</td>\n",
       "      <td>22</td>\n",
       "      <td>64.721664</td>\n",
       "      <td>63.962051</td>\n",
       "      <td>71.320000</td>\n",
       "    </tr>\n",
       "  </tbody>\n",
       "</table>\n",
       "</div>"
      ],
      "text/plain": [
       "                sonyc_sensor_id sonyc_sensor_name         timestamp  year  \\\n",
       "0  sonycnode-b827eb1685c7.sonyc     Kimmel Center  2017-01-20 18:21  2017   \n",
       "1  sonycnode-b827eb1685c7.sonyc     Kimmel Center  2017-01-20 18:22  2017   \n",
       "2  sonycnode-b827eb1685c7.sonyc     Kimmel Center  2017-01-20 18:23  2017   \n",
       "3  sonycnode-b827eb1685c7.sonyc     Kimmel Center  2017-01-20 19:21  2017   \n",
       "4  sonycnode-b827eb1685c7.sonyc     Kimmel Center  2017-01-20 19:22  2017   \n",
       "\n",
       "   month  day  hour  minute  dBAS_lin_mean  dBAS_mean   dBAS_max  \n",
       "0      1   20    18      21      65.790405  64.380714  73.779999  \n",
       "1      1   20    18      22      64.585182  64.105667  70.980003  \n",
       "2      1   20    18      23      62.332256  62.321999  62.959999  \n",
       "3      1   20    19      21      62.327068  62.310001  62.720001  \n",
       "4      1   20    19      22      64.721664  63.962051  71.320000  "
      ]
     },
     "execution_count": 5,
     "metadata": {},
     "output_type": "execute_result"
    }
   ],
   "source": [
    "# sample to see what dataframe the function returns\n",
    "clean_spl_min(config.dataFol+'spl/2017/'+'sonycnode-b827eb1685c7.sonyc.h5', sensor = 'Kimmel Center').head()"
   ]
  },
  {
   "cell_type": "code",
   "execution_count": 6,
   "metadata": {},
   "outputs": [
    {
     "name": "stdout",
     "output_type": "stream",
     "text": [
      "sonycnode-b827eb905497.sonyc\n",
      "sonycnode-b827eb8e2420.sonyc\n",
      "sonycnode-b827eb1685c7.sonyc\n",
      "sonycnode-b827eb815321.sonyc\n",
      "sonycnode-b827eb86d458.sonyc\n",
      "sonycnode-b827eb0fedda.sonyc\n"
     ]
    }
   ],
   "source": [
    "dfs = []\n",
    "for index, row in sensors[sensors.bird_sensor ==1][['fqdn', 'title']].iterrows():\n",
    "    print(row['fqdn'])\n",
    "    yeardfs = []\n",
    "    years = ['2017', '2018']\n",
    "    for yr in years:\n",
    "        sensor = clean_spl_min(file = config.dataFol+'spl/'+yr+'/'+row['fqdn']+'.h5', sensor = row['title'])\n",
    "        yeardfs.append(sensor)\n",
    "    dfs.append(pd.concat(yeardfs))"
   ]
  },
  {
   "cell_type": "code",
   "execution_count": 7,
   "metadata": {},
   "outputs": [],
   "source": [
    "df = pd.concat(dfs)"
   ]
  },
  {
   "cell_type": "markdown",
   "metadata": {},
   "source": [
    "#### Updated SPL File By Minute 2019 - 2020"
   ]
  },
  {
   "cell_type": "code",
   "execution_count": 13,
   "metadata": {},
   "outputs": [],
   "source": [
    "spl_new = pd.read_hdf(config.dataFol+'spl/master_df.h5')\n",
    "spl_new.reset_index(inplace=True)\n",
    "spl_new['timestamp']=pd.DatetimeIndex(spl_new['time']).tz_convert('UTC').astype('str').str[0:16]\n",
    "\n",
    "spl_new = spl_new[['timestamp','sensor_id', 'laeq']]\n",
    "spl_new.rename(columns=({'sensor_id': 'sonyc_sensor_id', 'laeq':'dBAS_lin_mean'}), inplace=True)\n",
    "\n",
    "spl_new = spl_new.merge(sensors[sensors.bird_sensor==1][['fqdn', 'title']], how='left', \n",
    "         left_on='sonyc_sensor_id', right_on='fqdn')\n",
    "\n",
    "spl_new = spl_new[['timestamp', 'sonyc_sensor_id', 'title', 'dBAS_lin_mean']]\n",
    "\n",
    "spl_new.rename(columns=({'title': 'sonyc_sensor_name'}), inplace=True)"
   ]
  },
  {
   "cell_type": "code",
   "execution_count": 14,
   "metadata": {},
<<<<<<< HEAD
   "outputs": [],
   "source": [
    "spl_new = pd.read_hdf(config.dataFol+'spl/master_df.h5')\n",
    "spl_new.reset_index(inplace=True)\n",
    "spl_new['timestamp']=spl_new['time'].astype('str').str[0:16]\n",
    "\n",
    "spl_new = spl_new[['timestamp','sensor_id', 'laeq']]\n",
    "spl_new.rename(columns=({'sensor_id': 'sonyc_sensor_id', 'laeq':'dBAS_lin_mean'}), inplace=True)\n",
    "\n",
    "spl_new = spl_new.merge(sensors[sensors.bird_sensor==1][['fqdn', 'title']], how='left', \n",
    "         left_on='sonyc_sensor_id', right_on='fqdn')\n",
    "\n",
    "spl_new = spl_new[['timestamp', 'sonyc_sensor_id', 'title', 'dBAS_lin_mean']]\n",
    "\n",
    "spl_new.rename(columns=({'title': 'sonyc_sensor_name'}), inplace=True)"
   ]
  },
  {
   "cell_type": "code",
   "execution_count": 9,
   "metadata": {},
   "outputs": [
    {
     "name": "stderr",
     "output_type": "stream",
     "text": [
      "/home/cusp/mbh329/.conda/envs/birdsVE3.7/lib/python3.7/site-packages/ipykernel_launcher.py:1: FutureWarning: Sorting because non-concatenation axis is not aligned. A future version\n",
      "of pandas will change to not sort by default.\n",
      "\n",
      "To accept the future behavior, pass 'sort=False'.\n",
      "\n",
      "To retain the current behavior and silence the warning, pass 'sort=True'.\n",
      "\n",
      "  \"\"\"Entry point for launching an IPython kernel.\n"
     ]
    }
   ],
   "source": [
    "df_new = pd.concat([df, spl_new])"
=======
   "outputs": [
    {
     "data": {
      "text/html": [
       "<div>\n",
       "<style scoped>\n",
       "    .dataframe tbody tr th:only-of-type {\n",
       "        vertical-align: middle;\n",
       "    }\n",
       "\n",
       "    .dataframe tbody tr th {\n",
       "        vertical-align: top;\n",
       "    }\n",
       "\n",
       "    .dataframe thead th {\n",
       "        text-align: right;\n",
       "    }\n",
       "</style>\n",
       "<table border=\"1\" class=\"dataframe\">\n",
       "  <thead>\n",
       "    <tr style=\"text-align: right;\">\n",
       "      <th></th>\n",
       "      <th>timestamp</th>\n",
       "      <th>sonyc_sensor_id</th>\n",
       "      <th>sonyc_sensor_name</th>\n",
       "      <th>dBAS_lin_mean</th>\n",
       "    </tr>\n",
       "  </thead>\n",
       "  <tbody>\n",
       "    <tr>\n",
       "      <th>0</th>\n",
       "      <td>2019-01-01 07:58</td>\n",
       "      <td>sonycnode-b827eb815321.sonyc</td>\n",
       "      <td>19 Washington Square North</td>\n",
       "      <td>70.687073</td>\n",
       "    </tr>\n",
       "    <tr>\n",
       "      <th>1</th>\n",
       "      <td>2019-01-01 07:59</td>\n",
       "      <td>sonycnode-b827eb815321.sonyc</td>\n",
       "      <td>19 Washington Square North</td>\n",
       "      <td>67.926041</td>\n",
       "    </tr>\n",
       "    <tr>\n",
       "      <th>2</th>\n",
       "      <td>2019-01-01 08:00</td>\n",
       "      <td>sonycnode-b827eb815321.sonyc</td>\n",
       "      <td>19 Washington Square North</td>\n",
       "      <td>62.928024</td>\n",
       "    </tr>\n",
       "    <tr>\n",
       "      <th>3</th>\n",
       "      <td>2019-01-01 08:01</td>\n",
       "      <td>sonycnode-b827eb815321.sonyc</td>\n",
       "      <td>19 Washington Square North</td>\n",
       "      <td>69.372772</td>\n",
       "    </tr>\n",
       "    <tr>\n",
       "      <th>4</th>\n",
       "      <td>2019-01-01 08:02</td>\n",
       "      <td>sonycnode-b827eb815321.sonyc</td>\n",
       "      <td>19 Washington Square North</td>\n",
       "      <td>65.137650</td>\n",
       "    </tr>\n",
       "  </tbody>\n",
       "</table>\n",
       "</div>"
      ],
      "text/plain": [
       "          timestamp               sonyc_sensor_id           sonyc_sensor_name  \\\n",
       "0  2019-01-01 07:58  sonycnode-b827eb815321.sonyc  19 Washington Square North   \n",
       "1  2019-01-01 07:59  sonycnode-b827eb815321.sonyc  19 Washington Square North   \n",
       "2  2019-01-01 08:00  sonycnode-b827eb815321.sonyc  19 Washington Square North   \n",
       "3  2019-01-01 08:01  sonycnode-b827eb815321.sonyc  19 Washington Square North   \n",
       "4  2019-01-01 08:02  sonycnode-b827eb815321.sonyc  19 Washington Square North   \n",
       "\n",
       "   dBAS_lin_mean  \n",
       "0      70.687073  \n",
       "1      67.926041  \n",
       "2      62.928024  \n",
       "3      69.372772  \n",
       "4      65.137650  "
      ]
     },
     "execution_count": 14,
     "metadata": {},
     "output_type": "execute_result"
    }
   ],
   "source": [
    "spl_new.head()"
>>>>>>> c4d05c19c4999914fba119761b73617f991bd3d4
   ]
  },
  {
   "cell_type": "code",
   "execution_count": 10,
   "metadata": {},
   "outputs": [
    {
     "ename": "KeyError",
     "evalue": "\"['timestamp_utc'] not in index\"",
     "output_type": "error",
     "traceback": [
      "\u001b[0;31m---------------------------------------------------------------------------\u001b[0m",
      "\u001b[0;31mKeyError\u001b[0m                                  Traceback (most recent call last)",
      "\u001b[0;32m<ipython-input-10-3f05fcd273f5>\u001b[0m in \u001b[0;36m<module>\u001b[0;34m\u001b[0m\n\u001b[0;32m----> 1\u001b[0;31m \u001b[0mdf_new\u001b[0m \u001b[0;34m=\u001b[0m \u001b[0mdf_new\u001b[0m\u001b[0;34m[\u001b[0m\u001b[0;34m[\u001b[0m\u001b[0;34m'timestamp_utc'\u001b[0m\u001b[0;34m,\u001b[0m \u001b[0;34m'sonyc_sensor_id'\u001b[0m\u001b[0;34m,\u001b[0m \u001b[0;34m'sonyc_sensor_name'\u001b[0m\u001b[0;34m,\u001b[0m \u001b[0;34m'dBAS_lin_mean'\u001b[0m\u001b[0;34m]\u001b[0m\u001b[0;34m]\u001b[0m\u001b[0;34m\u001b[0m\u001b[0;34m\u001b[0m\u001b[0m\n\u001b[0m",
      "\u001b[0;32m~/.conda/envs/birdsVE3.7/lib/python3.7/site-packages/pandas/core/frame.py\u001b[0m in \u001b[0;36m__getitem__\u001b[0;34m(self, key)\u001b[0m\n\u001b[1;32m   2984\u001b[0m             \u001b[0;32mif\u001b[0m \u001b[0mis_iterator\u001b[0m\u001b[0;34m(\u001b[0m\u001b[0mkey\u001b[0m\u001b[0;34m)\u001b[0m\u001b[0;34m:\u001b[0m\u001b[0;34m\u001b[0m\u001b[0;34m\u001b[0m\u001b[0m\n\u001b[1;32m   2985\u001b[0m                 \u001b[0mkey\u001b[0m \u001b[0;34m=\u001b[0m \u001b[0mlist\u001b[0m\u001b[0;34m(\u001b[0m\u001b[0mkey\u001b[0m\u001b[0;34m)\u001b[0m\u001b[0;34m\u001b[0m\u001b[0;34m\u001b[0m\u001b[0m\n\u001b[0;32m-> 2986\u001b[0;31m             \u001b[0mindexer\u001b[0m \u001b[0;34m=\u001b[0m \u001b[0mself\u001b[0m\u001b[0;34m.\u001b[0m\u001b[0mloc\u001b[0m\u001b[0;34m.\u001b[0m\u001b[0m_convert_to_indexer\u001b[0m\u001b[0;34m(\u001b[0m\u001b[0mkey\u001b[0m\u001b[0;34m,\u001b[0m \u001b[0maxis\u001b[0m\u001b[0;34m=\u001b[0m\u001b[0;36m1\u001b[0m\u001b[0;34m,\u001b[0m \u001b[0mraise_missing\u001b[0m\u001b[0;34m=\u001b[0m\u001b[0;32mTrue\u001b[0m\u001b[0;34m)\u001b[0m\u001b[0;34m\u001b[0m\u001b[0;34m\u001b[0m\u001b[0m\n\u001b[0m\u001b[1;32m   2987\u001b[0m \u001b[0;34m\u001b[0m\u001b[0m\n\u001b[1;32m   2988\u001b[0m         \u001b[0;31m# take() does not accept boolean indexers\u001b[0m\u001b[0;34m\u001b[0m\u001b[0;34m\u001b[0m\u001b[0;34m\u001b[0m\u001b[0m\n",
      "\u001b[0;32m~/.conda/envs/birdsVE3.7/lib/python3.7/site-packages/pandas/core/indexing.py\u001b[0m in \u001b[0;36m_convert_to_indexer\u001b[0;34m(self, obj, axis, is_setter, raise_missing)\u001b[0m\n\u001b[1;32m   1283\u001b[0m                 \u001b[0;31m# When setting, missing keys are not allowed, even with .loc:\u001b[0m\u001b[0;34m\u001b[0m\u001b[0;34m\u001b[0m\u001b[0;34m\u001b[0m\u001b[0m\n\u001b[1;32m   1284\u001b[0m                 \u001b[0mkwargs\u001b[0m \u001b[0;34m=\u001b[0m \u001b[0;34m{\u001b[0m\u001b[0;34m\"raise_missing\"\u001b[0m\u001b[0;34m:\u001b[0m \u001b[0;32mTrue\u001b[0m \u001b[0;32mif\u001b[0m \u001b[0mis_setter\u001b[0m \u001b[0;32melse\u001b[0m \u001b[0mraise_missing\u001b[0m\u001b[0;34m}\u001b[0m\u001b[0;34m\u001b[0m\u001b[0;34m\u001b[0m\u001b[0m\n\u001b[0;32m-> 1285\u001b[0;31m                 \u001b[0;32mreturn\u001b[0m \u001b[0mself\u001b[0m\u001b[0;34m.\u001b[0m\u001b[0m_get_listlike_indexer\u001b[0m\u001b[0;34m(\u001b[0m\u001b[0mobj\u001b[0m\u001b[0;34m,\u001b[0m \u001b[0maxis\u001b[0m\u001b[0;34m,\u001b[0m \u001b[0;34m**\u001b[0m\u001b[0mkwargs\u001b[0m\u001b[0;34m)\u001b[0m\u001b[0;34m[\u001b[0m\u001b[0;36m1\u001b[0m\u001b[0;34m]\u001b[0m\u001b[0;34m\u001b[0m\u001b[0;34m\u001b[0m\u001b[0m\n\u001b[0m\u001b[1;32m   1286\u001b[0m         \u001b[0;32melse\u001b[0m\u001b[0;34m:\u001b[0m\u001b[0;34m\u001b[0m\u001b[0;34m\u001b[0m\u001b[0m\n\u001b[1;32m   1287\u001b[0m             \u001b[0;32mtry\u001b[0m\u001b[0;34m:\u001b[0m\u001b[0;34m\u001b[0m\u001b[0;34m\u001b[0m\u001b[0m\n",
      "\u001b[0;32m~/.conda/envs/birdsVE3.7/lib/python3.7/site-packages/pandas/core/indexing.py\u001b[0m in \u001b[0;36m_get_listlike_indexer\u001b[0;34m(self, key, axis, raise_missing)\u001b[0m\n\u001b[1;32m   1090\u001b[0m \u001b[0;34m\u001b[0m\u001b[0m\n\u001b[1;32m   1091\u001b[0m         self._validate_read_indexer(\n\u001b[0;32m-> 1092\u001b[0;31m             \u001b[0mkeyarr\u001b[0m\u001b[0;34m,\u001b[0m \u001b[0mindexer\u001b[0m\u001b[0;34m,\u001b[0m \u001b[0mo\u001b[0m\u001b[0;34m.\u001b[0m\u001b[0m_get_axis_number\u001b[0m\u001b[0;34m(\u001b[0m\u001b[0maxis\u001b[0m\u001b[0;34m)\u001b[0m\u001b[0;34m,\u001b[0m \u001b[0mraise_missing\u001b[0m\u001b[0;34m=\u001b[0m\u001b[0mraise_missing\u001b[0m\u001b[0;34m\u001b[0m\u001b[0;34m\u001b[0m\u001b[0m\n\u001b[0m\u001b[1;32m   1093\u001b[0m         )\n\u001b[1;32m   1094\u001b[0m         \u001b[0;32mreturn\u001b[0m \u001b[0mkeyarr\u001b[0m\u001b[0;34m,\u001b[0m \u001b[0mindexer\u001b[0m\u001b[0;34m\u001b[0m\u001b[0;34m\u001b[0m\u001b[0m\n",
      "\u001b[0;32m~/.conda/envs/birdsVE3.7/lib/python3.7/site-packages/pandas/core/indexing.py\u001b[0m in \u001b[0;36m_validate_read_indexer\u001b[0;34m(self, key, indexer, axis, raise_missing)\u001b[0m\n\u001b[1;32m   1183\u001b[0m             \u001b[0;32mif\u001b[0m \u001b[0;32mnot\u001b[0m \u001b[0;34m(\u001b[0m\u001b[0mself\u001b[0m\u001b[0;34m.\u001b[0m\u001b[0mname\u001b[0m \u001b[0;34m==\u001b[0m \u001b[0;34m\"loc\"\u001b[0m \u001b[0;32mand\u001b[0m \u001b[0;32mnot\u001b[0m \u001b[0mraise_missing\u001b[0m\u001b[0;34m)\u001b[0m\u001b[0;34m:\u001b[0m\u001b[0;34m\u001b[0m\u001b[0;34m\u001b[0m\u001b[0m\n\u001b[1;32m   1184\u001b[0m                 \u001b[0mnot_found\u001b[0m \u001b[0;34m=\u001b[0m \u001b[0mlist\u001b[0m\u001b[0;34m(\u001b[0m\u001b[0mset\u001b[0m\u001b[0;34m(\u001b[0m\u001b[0mkey\u001b[0m\u001b[0;34m)\u001b[0m \u001b[0;34m-\u001b[0m \u001b[0mset\u001b[0m\u001b[0;34m(\u001b[0m\u001b[0max\u001b[0m\u001b[0;34m)\u001b[0m\u001b[0;34m)\u001b[0m\u001b[0;34m\u001b[0m\u001b[0;34m\u001b[0m\u001b[0m\n\u001b[0;32m-> 1185\u001b[0;31m                 \u001b[0;32mraise\u001b[0m \u001b[0mKeyError\u001b[0m\u001b[0;34m(\u001b[0m\u001b[0;34m\"{} not in index\"\u001b[0m\u001b[0;34m.\u001b[0m\u001b[0mformat\u001b[0m\u001b[0;34m(\u001b[0m\u001b[0mnot_found\u001b[0m\u001b[0;34m)\u001b[0m\u001b[0;34m)\u001b[0m\u001b[0;34m\u001b[0m\u001b[0;34m\u001b[0m\u001b[0m\n\u001b[0m\u001b[1;32m   1186\u001b[0m \u001b[0;34m\u001b[0m\u001b[0m\n\u001b[1;32m   1187\u001b[0m             \u001b[0;31m# we skip the warning on Categorical/Interval\u001b[0m\u001b[0;34m\u001b[0m\u001b[0;34m\u001b[0m\u001b[0;34m\u001b[0m\u001b[0m\n",
      "\u001b[0;31mKeyError\u001b[0m: \"['timestamp_utc'] not in index\""
     ]
    }
   ],
   "source": [
<<<<<<< HEAD
    "df_new = df_new[['timestamp_utc', 'sonyc_sensor_id', 'sonyc_sensor_name', 'dBAS_lin_mean']]"
   ]
  },
  {
   "cell_type": "code",
   "execution_count": null,
   "metadata": {},
   "outputs": [],
   "source": []
  },
  {
   "cell_type": "code",
   "execution_count": null,
   "metadata": {},
   "outputs": [],
   "source": [
    "df_new.to_csv(config.dataFol+'clean_spl/clean_spl.csv', index=False)"
=======
    "spl_new.to_csv(config.dataFol+'clean_spl/clean_spl.csv', index=False)"
>>>>>>> c4d05c19c4999914fba119761b73617f991bd3d4
   ]
  },
  {
   "cell_type": "code",
   "execution_count": null,
   "metadata": {},
   "outputs": [],
   "source": []
  },
  {
   "cell_type": "code",
   "execution_count": null,
   "metadata": {},
   "outputs": [],
   "source": []
  }
 ],
 "metadata": {
  "kernelspec": {
   "display_name": "birdsVE3.7",
   "language": "python",
   "name": "birdsve3.7"
  },
  "language_info": {
   "codemirror_mode": {
    "name": "ipython",
    "version": 3
   },
   "file_extension": ".py",
   "mimetype": "text/x-python",
   "name": "python",
   "nbconvert_exporter": "python",
   "pygments_lexer": "ipython3",
   "version": "3.7.6"
  }
 },
 "nbformat": 4,
 "nbformat_minor": 2
}
