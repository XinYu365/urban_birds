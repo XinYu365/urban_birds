{
 "cells": [
  {
   "cell_type": "markdown",
   "metadata": {},
   "source": [
    "### Download Google Drive Files"
   ]
  },
  {
   "cell_type": "code",
   "execution_count": 9,
   "metadata": {},
   "outputs": [],
   "source": [
    "import sys\n",
    "import os\n",
    "import io\n",
    "\n",
    "from httplib2 import Http\n",
    "from apiclient.discovery import build\n",
    "from oauth2client import file, client, tools\n",
    "from apiclient.http import MediaFileUpload, MediaIoBaseDownload\n",
    "\n",
    "sys.path.append('../')\n",
    "from envir import config"
   ]
  },
  {
   "cell_type": "code",
   "execution_count": 10,
   "metadata": {},
   "outputs": [],
   "source": [
    "SCOPES = 'https://www.googleapis.com/auth/drive.file'\n",
    "store = file.Storage(config.token)\n",
    "creds = store.get()\n",
    "if not creds or creds.invalid:\n",
    "    flow = client.flow_from_clientsecrets('client_secret.json', scopes = SCOPES)\n",
    "    creds = tools.run_flow(flow, store, flags) if flags else tools.run(flow, store)\n",
    "DRIVE = build('drive', 'v3', http=creds.authorize(Http()))"
   ]
  },
  {
   "cell_type": "code",
   "execution_count": 11,
   "metadata": {},
   "outputs": [],
   "source": [
    "def downGFile(file_id, filename):\n",
    "    request = DRIVE.files().get_media(fileId=file_id)\n",
    "    fh = io.FileIO(filename, 'wb')\n",
    "    downloader = MediaIoBaseDownload(fh, request)\n",
    "    done = False\n",
    "    while done is False:\n",
    "        status, done = downloader.next_chunk()\n",
    "        print(\"Download %d%%.\" % int(status.progress() * 100))"
   ]
  },
  {
   "cell_type": "code",
   "execution_count": 12,
   "metadata": {},
   "outputs": [
    {
     "name": "stdout",
     "output_type": "stream",
     "text": [
      "Download 100%.\n"
     ]
    }
   ],
   "source": [
    "downGFile(file_id = '19PzAm6I9YYIpfTz1RbgJ9sjEJsNpAU_H', \n",
    "          filename = config.dataFol+'KBGM2015/KBGM2015_integrated.txt')"
   ]
  },
  {
   "cell_type": "code",
   "execution_count": 13,
   "metadata": {},
   "outputs": [
    {
     "name": "stdout",
     "output_type": "stream",
     "text": [
      "Download 100%.\n"
     ]
    }
   ],
   "source": [
    "downGFile(file_id = '1LV1m-2t12eXIF8IFu5BKdc8qksP4hRJC', \n",
    "          filename = config.dataFol+'KBGM2015/KBGM2015_example.R')"
   ]
  },
  {
   "cell_type": "code",
   "execution_count": 14,
   "metadata": {},
   "outputs": [
    {
     "name": "stdout",
     "output_type": "stream",
     "text": [
      "Download 100%.\n"
     ]
    }
   ],
   "source": [
    "downGFile(file_id = '10HTyoJwvrafar9daIzNDoPkPFfjIwX-z', \n",
    "          filename = config.dataFol+'KBGM2015/KBGM2015.RData')"
   ]
  },
  {
   "cell_type": "code",
   "execution_count": 15,
   "metadata": {},
   "outputs": [
    {
     "name": "stdout",
     "output_type": "stream",
     "text": [
      "Download 100%.\n"
     ]
    }
   ],
   "source": [
    "downGFile(file_id = '12Oj-U_BX-zzlG3xakvrECzjY5N7sVBxh', \n",
    "          filename = config.dataFol+'KBGM2015/KBGM2015.txt')"
   ]
  },
  {
   "cell_type": "code",
   "execution_count": null,
   "metadata": {},
   "outputs": [],
   "source": []
  }
 ],
 "metadata": {
  "kernelspec": {
   "display_name": "birdsVE3.7",
   "language": "python",
   "name": "birdsve3.7"
  },
  "language_info": {
   "codemirror_mode": {
    "name": "ipython",
    "version": 3
   },
   "file_extension": ".py",
   "mimetype": "text/x-python",
   "name": "python",
   "nbconvert_exporter": "python",
   "pygments_lexer": "ipython3",
   "version": "3.7.4"
  }
 },
 "nbformat": 4,
 "nbformat_minor": 2
}
