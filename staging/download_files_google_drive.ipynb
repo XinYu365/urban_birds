{
 "cells": [
  {
   "cell_type": "markdown",
   "metadata": {},
   "source": [
    "### Download Google Drive Files"
   ]
  },
  {
   "cell_type": "code",
   "execution_count": 1,
   "metadata": {},
   "outputs": [],
   "source": [
    "import sys\n",
    "import os\n",
    "import io\n",
    "\n",
    "from httplib2 import Http\n",
    "from apiclient.discovery import build\n",
    "from oauth2client import file, client, tools\n",
    "from apiclient.http import MediaFileUpload, MediaIoBaseDownload\n",
    "\n",
    "sys.path.append('../')\n",
    "from envir import config"
   ]
  },
  {
   "cell_type": "code",
   "execution_count": 2,
   "metadata": {},
   "outputs": [],
   "source": [
    "SCOPES = 'https://www.googleapis.com/auth/drive.file'\n",
    "store = file.Storage(config.token)\n",
    "creds = store.get()\n",
    "if not creds or creds.invalid:\n",
    "    flow = client.flow_from_clientsecrets('client_secret.json', scopes = SCOPES)\n",
    "    creds = tools.run_flow(flow, store, flags) if flags else tools.run(flow, store)\n",
    "DRIVE = build('drive', 'v3', http=creds.authorize(Http()))"
   ]
  },
  {
   "cell_type": "code",
   "execution_count": 3,
   "metadata": {},
   "outputs": [],
   "source": [
    "def downGFile(file_id, filename):\n",
    "    request = DRIVE.files().get_media(fileId=file_id)\n",
    "    fh = io.FileIO(filename, 'wb')\n",
    "    downloader = MediaIoBaseDownload(fh, request)\n",
    "    done = False\n",
    "    while done is False:\n",
    "        status, done = downloader.next_chunk()\n",
    "        print(\"Download %d%%.\" % int(status.progress() * 100))"
   ]
  },
  {
   "cell_type": "code",
   "execution_count": 55,
   "metadata": {},
   "outputs": [
    {
     "name": "stdout",
     "output_type": "stream",
     "text": [
      "Download 16%.\n",
      "Download 33%.\n",
      "Download 50%.\n",
      "Download 66%.\n",
      "Download 83%.\n",
      "Download 100%.\n"
     ]
    }
   ],
   "source": [
    "downGFile(file_id = '1NkLAaiPYGfKieMXuklBldmmBHQb9ctIZ', \n",
    "          filename = config.dataFol+'BirdSpecies/eBird-Clements-v2019-integrated-checklist-August-2019.csv')"
   ]
  },
  {
   "cell_type": "code",
   "execution_count": 14,
   "metadata": {},
   "outputs": [
    {
     "name": "stdout",
     "output_type": "stream",
     "text": [
      "Download 100%.\n"
     ]
    }
   ],
   "source": [
    "#downGFile(file_id = '10HTyoJwvrafar9daIzNDoPkPFfjIwX-z', \n",
    "#         filename = config.dataFol+'KBGM2015/KBGM2015.RData')"
   ]
  },
  {
   "cell_type": "markdown",
   "metadata": {},
   "source": [
    "### get list of contents of a folder and download the files in the folder"
   ]
  },
  {
   "cell_type": "code",
   "execution_count": 14,
   "metadata": {},
   "outputs": [],
   "source": [
    "service = build('drive', 'v2', http=creds.authorize(Http()))"
   ]
  },
  {
   "cell_type": "code",
   "execution_count": 16,
   "metadata": {},
   "outputs": [],
   "source": [
    "folderContents = service.children().list(folderId='1vbGX2NtLPPvhAs8-vtqd6xsIUzFK4u_k').execute()"
   ]
  },
  {
   "cell_type": "code",
   "execution_count": 29,
   "metadata": {},
   "outputs": [
    {
     "data": {
      "text/plain": [
       "23"
      ]
     },
     "execution_count": 29,
     "metadata": {},
     "output_type": "execute_result"
    }
   ],
   "source": [
    "len(folderContents['items'])"
   ]
  },
  {
   "cell_type": "code",
   "execution_count": 40,
   "metadata": {},
   "outputs": [],
   "source": [
    "driveContents = DRIVE.files().list(q=\"mimeType='application/octet-stream' and fullText contains 'yamnet'\").execute()"
   ]
  },
  {
   "cell_type": "code",
   "execution_count": 45,
   "metadata": {},
   "outputs": [
    {
     "data": {
      "text/plain": [
       "23"
      ]
     },
     "execution_count": 45,
     "metadata": {},
     "output_type": "execute_result"
    }
   ],
   "source": [
    "len(driveContents['files'])"
   ]
  },
  {
   "cell_type": "code",
   "execution_count": 54,
   "metadata": {},
   "outputs": [
    {
     "name": "stdout",
     "output_type": "stream",
     "text": [
      "19m-epA9E3uBmoGNXGNtTftRo3EdCkv1Z\n",
      "b827eb0d8af7_yamnet-pred-bird.h5\n",
      "Download 100%.\n",
      "13KI-4nG__N2B-tkRVEJikHTZ-X-5HTUV\n",
      "b827ebf31214_yamnet-pred-bird.h5\n",
      "Download 100%.\n",
      "1rBiANrkb_45osxzQSPiXYFbdctj-lhhX\n",
      "b827ebf9d204_yamnet-pred-bird.h5\n",
      "Download 100%.\n",
      "12SVjqBLEfcsDzvQTA6Fhwz_8rZycqN14\n",
      "b827ebefb215_yamnet-pred-bird.h5\n",
      "Download 100%.\n",
      "1a8UQy_YeB4r0THplBXCEai4ZPtcyWT3f\n",
      "b827ebe3b72c_yamnet-pred-bird.h5\n",
      "Download 100%.\n",
      "1APQTbPTyakngeV7FEPWugUczC2vnbD6C\n",
      "b827ebc6dcc6_yamnet-pred-bird.h5\n",
      "Download 100%.\n",
      "1spYQe_gr5XRUKb2gNqB_m8gq0Rkgl5cO\n",
      "b827eb905497_yamnet-pred-bird.h5\n",
      "Download 100%.\n",
      "1RvuDVyCpiWARULyw-ft__34B_-iHWg4j\n",
      "b827eb815321_yamnet-pred-bird.h5\n",
      "Download 100%.\n",
      "184KxnlVLbctH5lYDO-SMJHox4Xx7pJ2d\n",
      "b827eb491436_yamnet-pred-bird.h5\n",
      "Download 100%.\n",
      "13amKtcL0U0PidTPEf8MK79cpTitomZOn\n",
      "b827eb132382_yamnet-pred-bird.h5\n",
      "Download 100%.\n",
      "1_u5G4_PaUqSfIrNZ2otGzLRt0JrL8zo6\n",
      "b827eb5895e9_yamnet-pred-bird.h5\n",
      "Download 100%.\n",
      "19aBHzvRdAVswHZphp3q_7iVZGJKttAQ-\n",
      "b827eb1685c7_yamnet-pred-bird.h5\n",
      "Download 100%.\n",
      "1BQsnurqKiZqXlgVKIGaXiAnajypctk_a\n",
      "b827eb122f0f_yamnet-pred-bird.h5\n",
      "Download 100%.\n",
      "1BRjFQ6w5-PapZ2MNecM89yu8129Rb8Vk\n",
      "b827eb73e772_yamnet-pred-bird.h5\n",
      "Download 100%.\n",
      "1YCsTY8nX7ALF2_4d9FnEclc7-v4DRm86\n",
      "b827eb42bd4a_yamnet-pred-bird.h5\n",
      "Download 100%.\n",
      "1_xc1A7XAgMXxRhR-WWxX1f9nQQ2vaS1O\n",
      "b827eb29eb77_yamnet-pred-bird.h5\n",
      "Download 100%.\n",
      "1e4Zm-OA8MYAMu6Bg5t4bJRr0yE_z8aIN\n",
      "b827eb8e2420_yamnet-pred-bird.h5\n",
      "Download 100%.\n",
      "18X5DKc6Mk920fJxMqdthXdg4i0sICaIY\n",
      "b827eb5a9021_yamnet-pred-bird.h5\n",
      "Download 100%.\n",
      "17ppftodlp3iflhEG9985Ui7UXRF5T5XM\n",
      "b827eb4e7821_yamnet-pred-bird.h5\n",
      "Download 100%.\n",
      "1MEUvIc4HUQE16g1_hlqisjA7GUy-ot1S\n",
      "b827eb4cc22e_yamnet-pred-bird.h5\n",
      "Download 100%.\n",
      "1mHPuOyk_v0I281bE99euwlizO33b344E\n",
      "b827eb3e842e_yamnet-pred-bird.h5\n",
      "Download 100%.\n",
      "1HY9CEuwLvurLTBoLDFD9crviLMZE7tpC\n",
      "b827eb0fedda_yamnet-pred-bird.h5\n",
      "Download 100%.\n",
      "1ZU27bf6D82dlU8csUObtpg43M1rmMJnd\n",
      "b827ebe3b72c_yamnet-pred.h5\n",
      "Download 29%.\n",
      "Download 58%.\n",
      "Download 87%.\n",
      "Download 100%.\n"
     ]
    }
   ],
   "source": [
    "for file in range(len(driveContents['files'])):\n",
    "    print(driveContents['files'][file]['id'])\n",
    "    print(driveContents['files'][file]['name'])\n",
    "    downGFile(file_id = driveContents['files'][file]['id'], \n",
    "              filename = config.dataFol+'YAMNet/dense-bird/'+driveContents['files'][file]['name'])"
   ]
  }
 ],
 "metadata": {
  "kernelspec": {
   "display_name": "birdsVE3.7",
   "language": "python",
   "name": "birdsve3.7"
  },
  "language_info": {
   "codemirror_mode": {
    "name": "ipython",
    "version": 3
   },
   "file_extension": ".py",
   "mimetype": "text/x-python",
   "name": "python",
   "nbconvert_exporter": "python",
   "pygments_lexer": "ipython3",
   "version": "3.7.4"
  }
 },
 "nbformat": 4,
 "nbformat_minor": 2
}
