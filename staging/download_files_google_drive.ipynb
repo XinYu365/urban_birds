{
 "cells": [
  {
   "cell_type": "markdown",
   "metadata": {},
   "source": [
    "### Download Google Drive Files"
   ]
  },
  {
   "cell_type": "code",
   "execution_count": 1,
   "metadata": {},
   "outputs": [],
   "source": [
    "import sys\n",
    "import os\n",
    "import io\n",
    "\n",
    "from httplib2 import Http\n",
    "from apiclient.discovery import build\n",
    "from oauth2client import file, client, tools\n",
    "from apiclient.http import MediaFileUpload, MediaIoBaseDownload\n",
    "\n",
    "sys.path.append('../')\n",
    "from envir import config"
   ]
  },
  {
   "cell_type": "code",
   "execution_count": 2,
   "metadata": {},
   "outputs": [],
   "source": [
    "SCOPES = 'https://www.googleapis.com/auth/drive.file'\n",
    "store = file.Storage(config.token)\n",
    "creds = store.get()\n",
    "if not creds or creds.invalid:\n",
    "    flow = client.flow_from_clientsecrets('client_secret.json', scopes = SCOPES)\n",
    "    creds = tools.run_flow(flow, store, flags) if flags else tools.run(flow, store)\n",
    "DRIVE = build('drive', 'v3', http=creds.authorize(Http()))"
   ]
  },
  {
   "cell_type": "code",
   "execution_count": 3,
   "metadata": {},
   "outputs": [],
   "source": [
    "def downGFile(file_id, filename):\n",
    "    request = DRIVE.files().get_media(fileId=file_id)\n",
    "    fh = io.FileIO(filename, 'wb')\n",
    "    downloader = MediaIoBaseDownload(fh, request)\n",
    "    done = False\n",
    "    while done is False:\n",
    "        status, done = downloader.next_chunk()\n",
    "        print(\"Download %d%%.\" % int(status.progress() * 100))"
   ]
  },
  {
   "cell_type": "code",
   "execution_count": 9,
   "metadata": {},
   "outputs": [
    {
     "name": "stdout",
     "output_type": "stream",
     "text": [
      "Download 100%.\n"
     ]
    }
   ],
   "source": [
    "downGFile(file_id = '1oPpfyMua4LSS9P59h333tZgxnZ7WGLqE', \n",
    "          filename = config.dataFol+'KOKX_spring_2020.RData')"
   ]
  },
  {
   "cell_type": "code",
   "execution_count": 14,
   "metadata": {},
   "outputs": [
    {
     "name": "stdout",
     "output_type": "stream",
     "text": [
      "Download 100%.\n"
     ]
    }
   ],
   "source": [
    "#downGFile(file_id = '10HTyoJwvrafar9daIzNDoPkPFfjIwX-z', \n",
    "#         filename = config.dataFol+'KBGM2015/KBGM2015.RData')"
   ]
  },
  {
   "cell_type": "markdown",
   "metadata": {},
   "source": [
    "### get list of contents of a folder and download the files in the folder\n",
    "https://developers.google.com/drive/api/v3/search-files"
   ]
  },
  {
   "cell_type": "code",
   "execution_count": 29,
   "metadata": {},
   "outputs": [],
   "source": [
    "driveContents = DRIVE.files().list(q=\"mimeType='application/octet-stream' and fullText contains 'KOKX20170517'\").execute()"
   ]
  },
  {
   "cell_type": "code",
   "execution_count": 35,
   "metadata": {},
   "outputs": [],
   "source": [
    "driveContents = DRIVE.files().list(q=\"mimeType='application/x-font-ttf' and fullText contains 'OpenSans'\").execute()"
   ]
  },
  {
   "cell_type": "code",
   "execution_count": 37,
   "metadata": {},
   "outputs": [
    {
     "data": {
      "text/plain": [
       "10"
      ]
     },
     "execution_count": 37,
     "metadata": {},
     "output_type": "execute_result"
    }
   ],
   "source": [
    "len(driveContents['files'])"
   ]
  },
  {
   "cell_type": "code",
   "execution_count": 38,
   "metadata": {},
   "outputs": [
    {
     "name": "stdout",
     "output_type": "stream",
     "text": [
      "1M49dL7S1Ymuv87taKKnGzB71i4AySTnS\n",
      "OpenSans-BoldItalic.ttf\n",
      "Download 100%.\n",
      "1jsQ6RmnYy-Ixg3Q24KUsvRmFvHAuw0tB\n",
      "OpenSans-SemiboldItalic.ttf\n",
      "Download 100%.\n",
      "1sQn7eI8cCSSPvEYvuSXwYaaNFMHcLDKT\n",
      "OpenSans-ExtraBoldItalic.ttf\n",
      "Download 100%.\n",
      "19gQXG909rZZw8GKQTJmRyDS1MwNoZ6Mj\n",
      "OpenSans-Regular.ttf\n",
      "Download 100%.\n",
      "15lZpJqc_0Wkqon6PbUS6eOdT3_RCvxkY\n",
      "OpenSans-LightItalic.ttf\n",
      "Download 100%.\n",
      "1jr7A_R9ftR5VmiDrXVUkb5PdYtzrqr5v\n",
      "OpenSans-Bold.ttf\n",
      "Download 100%.\n",
      "1WOYkttkWyvXGSkrMKaVVWg2UXC-cSDaR\n",
      "OpenSans-ExtraBold.ttf\n",
      "Download 100%.\n",
      "1P9wagkv9ItZIADDWVas6Zs5go9X0S-rM\n",
      "OpenSans-Light.ttf\n",
      "Download 100%.\n",
      "1iMxX_3ANdkxrVazIuGqlWumAiyPgHrJ_\n",
      "OpenSans-Italic.ttf\n",
      "Download 100%.\n",
      "1LKdRk67dK7qEyxkMTGD3sOi69WRHEnvz\n",
      "OpenSans-Semibold.ttf\n",
      "Download 100%.\n"
     ]
    }
   ],
   "source": [
    "for file in range(len(driveContents['files'])):\n",
    "    print(driveContents['files'][file]['id'])\n",
    "    print(driveContents['files'][file]['name'])\n",
    "    downGFile(file_id = driveContents['files'][file]['id'], \n",
    "              filename = config.dataFol+'fonts/'+driveContents['files'][file]['name'])"
   ]
  },
  {
   "cell_type": "code",
   "execution_count": null,
   "metadata": {},
   "outputs": [],
   "source": []
  }
 ],
 "metadata": {
  "kernelspec": {
   "display_name": "birdsVE3.7",
   "language": "python",
   "name": "birdsve3.7"
  },
  "language_info": {
   "codemirror_mode": {
    "name": "ipython",
    "version": 3
   },
   "file_extension": ".py",
   "mimetype": "text/x-python",
   "name": "python",
   "nbconvert_exporter": "python",
   "pygments_lexer": "ipython3",
   "version": "3.7.4"
  }
 },
 "nbformat": 4,
 "nbformat_minor": 2
}
