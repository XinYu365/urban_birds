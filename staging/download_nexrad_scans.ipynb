{
 "cells": [
  {
   "cell_type": "markdown",
   "metadata": {},
   "source": [
    "## Downloading NEXRAD data\n",
    "Scans are an available open data source: https://www.ncdc.noaa.gov/data-access/radar-data/noaa-big-data-project\n",
    "They are stored in AWS warehousing by year, month, date, and time of scan for each radar location. \n",
    "This is a sample for downloading scans from radar KOKX: "
   ]
  },
  {
   "cell_type": "code",
   "execution_count": 1,
   "metadata": {},
   "outputs": [],
   "source": [
    "import sys\n",
    "import urllib.request\n",
    "\n",
    "sys.path.append('../')\n",
    "from envir import config"
   ]
  },
  {
   "cell_type": "code",
   "execution_count": 2,
   "metadata": {},
   "outputs": [
    {
     "name": "stdout",
     "output_type": "stream",
     "text": [
      "Beginning file download with urllib2...\n"
     ]
    },
    {
     "data": {
      "text/plain": [
       "('/gws_gpfs/projects/project-urban_birds/workspace/share/data/nexrad_downloads/KOKX20170401_063244_V06.h5',\n",
       " <http.client.HTTPMessage at 0x7ff7f5118c90>)"
      ]
     },
     "execution_count": 2,
     "metadata": {},
     "output_type": "execute_result"
    }
   ],
   "source": [
    "print('Beginning file download with urllib2...')\n",
    "\n",
    "url = 'https://noaa-nexrad-level2.s3.amazonaws.com/2017/04/01/KOKX/KOKX20170401_063244_V06'\n",
    "urllib.request.urlretrieve(url, config.dataFol+'nexrad_downloads/KOKX20170401_063244_V06.h5')"
   ]
  },
  {
   "cell_type": "code",
   "execution_count": null,
   "metadata": {},
   "outputs": [],
   "source": []
  }
 ],
 "metadata": {
  "kernelspec": {
   "display_name": "birdsVE3.7",
   "language": "python",
   "name": "birdsve3.7"
  },
  "language_info": {
   "codemirror_mode": {
    "name": "ipython",
    "version": 3
   },
   "file_extension": ".py",
   "mimetype": "text/x-python",
   "name": "python",
   "nbconvert_exporter": "python",
   "pygments_lexer": "ipython3",
   "version": "3.7.4"
  }
 },
 "nbformat": 4,
 "nbformat_minor": 2
}
