{
 "cells": [
  {
   "cell_type": "markdown",
   "metadata": {},
   "source": [
    "## Downloading NEXRAD data\n",
    "Scans are an available open data source: https://www.ncdc.noaa.gov/data-access/radar-data/noaa-big-data-project\n",
    "They are stored in AWS warehousing by year, month, date, and time of scan for each radar location. \n",
    "\n",
    "Documentation: https://docs.opendata.aws/noaa-nexrad/readme.html\n",
    "code adopted from https://www1.ncdc.noaa.gov/pub/data/radar/bdp/scripts/\n",
    "\n",
    "Website to get sunrise time: https://www.esrl.noaa.gov/gmd/grad/solcalc/sunrise.html"
   ]
  },
  {
   "cell_type": "code",
   "execution_count": 1,
   "metadata": {},
   "outputs": [],
   "source": [
    "import sys\n",
    "import urllib.request\n",
    "from xml.dom import minidom\n",
    "from sys import stdin\n",
    "from subprocess import call\n",
    "import datetime\n",
    "import pandas as pd\n",
    "from pandas.io.json import json_normalize\n",
    "import json\n",
    "\n",
    "sys.path.append('../')\n",
    "from envir import config"
   ]
  },
  {
   "cell_type": "code",
   "execution_count": 2,
   "metadata": {},
   "outputs": [],
   "source": [
    "date_range = pd.date_range(start=\"2019/03/01\", end=\"2019/03/30\").astype(str)"
   ]
  },
  {
   "cell_type": "code",
   "execution_count": 3,
   "metadata": {},
   "outputs": [],
   "source": [
    "def getText(nodelist):\n",
    "    rc = []\n",
    "    for node in nodelist:\n",
    "        if node.nodeType == node.TEXT_NODE:\n",
    "            rc.append(node.data)\n",
    "    return ''.join(rc)"
   ]
  },
  {
   "cell_type": "code",
   "execution_count": 4,
   "metadata": {},
   "outputs": [],
   "source": [
    "sunrise_scans = pd.DataFrame()\n",
    "for i in date_range:\n",
    "    date = i.replace(\"-\", \"/\")\n",
    "    # get sunrise time\n",
    "    sundoc = urllib.request.urlopen('https://api.sunrise-sunset.org/json?lat=40.730959&lng=-73.9987294&date='+i)\n",
    "    sundoc = json.loads(sundoc.read())\n",
    "    sunrise = sundoc['results']['sunrise'][:-3].split(':')\n",
    "    sunrise = int(''.join(sunrise))\n",
    "    \n",
    "    site = \"KOKX\"\n",
    "    bucketURL = \"http://noaa-nexrad-level2.s3.amazonaws.com\"\n",
    "    dirListURL = bucketURL+ \"/?prefix=\" + date + \"/\" + site\n",
    "    #print(\"listing files from %s\" % dirListURL)\n",
    "    \n",
    "    #xmldoc = minidom.parse(stdin)\n",
    "    xmldoc = minidom.parse(urllib.request.urlopen(dirListURL))\n",
    "    itemlist = xmldoc.getElementsByTagName('Key')\n",
    "    #print(len(itemlist) , \"keys found...\")\n",
    "    \n",
    "    # For this test, WCT is downloaded and unzipped directly in the working directory\n",
    "    # The output files are going in 'output'\n",
    "    # http://www.ncdc.noaa.gov/wct/install.php\n",
    "    row_list = []\n",
    "    for x in itemlist:\n",
    "        file = getText(x.childNodes)\n",
    "        filetime = int(file.split(\"_\")[1])\n",
    "        timediff = abs(filetime - sunrise)\n",
    "        temp_rows = {'date':i, \n",
    "              'filename': file, \n",
    "              'timediff': timediff}\n",
    "        row_list.append(temp_rows)\n",
    "    row = pd.DataFrame(row_list)\n",
    "    row = row.loc[row.groupby(\"date\")[\"timediff\"].idxmin()]\n",
    "    sunrise_scans = sunrise_scans.append(row)"
   ]
  },
  {
   "cell_type": "code",
   "execution_count": 5,
   "metadata": {},
   "outputs": [
    {
     "name": "stdout",
     "output_type": "stream",
     "text": [
      "2019/03/01/KOKX/KOKX20190301_113144_V06\n",
      "2019/03/02/KOKX/KOKX20190302_112948_V06\n",
      "2019/03/03/KOKX/KOKX20190303_112630_V06\n",
      "2019/03/04/KOKX/KOKX20190304_112650_V06\n",
      "2019/03/05/KOKX/KOKX20190305_112127_V06\n",
      "2019/03/06/KOKX/KOKX20190306_112037_V06\n",
      "2019/03/07/KOKX/KOKX20190307_111814_V06\n",
      "2019/03/08/KOKX/KOKX20190308_112017_V06\n",
      "2019/03/09/KOKX/KOKX20190309_111630_V06\n",
      "2019/03/10/KOKX/KOKX20190310_111541_V06\n",
      "2019/03/11/KOKX/KOKX20190311_111535_V06\n",
      "2019/03/12/KOKX/KOKX20190312_110851_V06\n",
      "2019/03/13/KOKX/KOKX20190313_111123_V06\n",
      "2019/03/14/KOKX/KOKX20190314_110957_V06\n",
      "2019/03/15/KOKX/KOKX20190315_110708_V06\n",
      "2019/03/16/KOKX/KOKX20190316_110328_V06\n",
      "2019/03/17/KOKX/KOKX20190317_110313_V06\n",
      "2019/03/18/KOKX/KOKX20190318_111015_V06\n",
      "2019/03/19/KOKX/KOKX20190319_110335_V06\n",
      "2019/03/20/KOKX/KOKX20190320_105358_V06\n",
      "2019/03/21/KOKX/KOKX20190321_105731_V06\n",
      "2019/03/22/KOKX/KOKX20190322_105558_V06\n",
      "2019/03/23/KOKX/KOKX20190323_105455_V06\n",
      "2019/03/24/KOKX/KOKX20190324_105224_V06\n",
      "2019/03/25/KOKX/KOKX20190325_104848_V06\n",
      "2019/03/26/KOKX/KOKX20190326_104426_V06\n",
      "2019/03/27/KOKX/KOKX20190327_105036_V06\n",
      "2019/03/28/KOKX/KOKX20190328_104110_V06\n",
      "2019/03/29/KOKX/KOKX20190329_104236_V06\n",
      "2019/03/30/KOKX/KOKX20190330_103831_V06\n"
     ]
    }
   ],
   "source": [
    "for scan in sunrise_scans.filename:\n",
    "    print(scan)\n",
    "    url = 'https://noaa-nexrad-level2.s3.amazonaws.com/'+scan\n",
    "    filename = scan.replace(\"/\", \"_\")\n",
    "    urllib.request.urlretrieve(url, config.dataFol+'nexrad_downloads/'+filename+'.h5')"
   ]
  }
 ],
 "metadata": {
  "kernelspec": {
   "display_name": "birdsVE3.7",
   "language": "python",
   "name": "birdsve3.7"
  },
  "language_info": {
   "codemirror_mode": {
    "name": "ipython",
    "version": 3
   },
   "file_extension": ".py",
   "mimetype": "text/x-python",
   "name": "python",
   "nbconvert_exporter": "python",
   "pygments_lexer": "ipython3",
   "version": "3.7.4"
  }
 },
 "nbformat": 4,
 "nbformat_minor": 2
}
