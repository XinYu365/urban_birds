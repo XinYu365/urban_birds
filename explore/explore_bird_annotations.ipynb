{
 "cells": [
  {
   "cell_type": "markdown",
   "metadata": {},
   "source": [
    "# Bird Annotations File Exploration\n",
    "\n",
    "Project Sponsor Andrew Farnsworth annotated a set of SONYC audio recordings provided by SONYC team. This serves as our truth data set to assess the application of BirdVoxDetect on the urban audio files. \n",
    "The annotations were completed on roughly 1000 records each 10 seconds long for the dates of Feb 1 to June 1 in 2019--totaling roughly 3 hours of audio. \n"
   ]
  },
  {
   "cell_type": "code",
   "execution_count": 1,
   "metadata": {},
   "outputs": [],
   "source": [
    "import sys\n",
    "import datetime as dt\n",
    "import pandas as pd\n",
    "import numpy as np\n",
    "import h5py\n",
    "\n",
    "import matplotlib.pyplot as plt\n",
    "%matplotlib inline\n",
    "\n",
    "sys.path.append('../')\n",
    "from envir import config"
   ]
  },
  {
   "cell_type": "code",
   "execution_count": 2,
   "metadata": {},
   "outputs": [],
   "source": [
    "annot = pd.read_csv(config.dataFol+'bird_audio_annotations_AF20200610.txt', sep=\"\\t\")"
   ]
  },
  {
   "cell_type": "code",
   "execution_count": 7,
   "metadata": {},
   "outputs": [
    {
     "data": {
      "text/html": [
       "<div>\n",
       "<style scoped>\n",
       "    .dataframe tbody tr th:only-of-type {\n",
       "        vertical-align: middle;\n",
       "    }\n",
       "\n",
       "    .dataframe tbody tr th {\n",
       "        vertical-align: top;\n",
       "    }\n",
       "\n",
       "    .dataframe thead th {\n",
       "        text-align: right;\n",
       "    }\n",
       "</style>\n",
       "<table border=\"1\" class=\"dataframe\">\n",
       "  <thead>\n",
       "    <tr style=\"text-align: right;\">\n",
       "      <th></th>\n",
       "      <th>Selection</th>\n",
       "      <th>View</th>\n",
       "      <th>Channel</th>\n",
       "      <th>Begin Time (s)</th>\n",
       "      <th>End Time (s)</th>\n",
       "      <th>Low Freq (Hz)</th>\n",
       "      <th>High Freq (Hz)</th>\n",
       "      <th>Begin File</th>\n",
       "      <th>Begin Path</th>\n",
       "      <th>File Offset (s)</th>\n",
       "      <th>Species</th>\n",
       "      <th>Family</th>\n",
       "      <th>Order</th>\n",
       "    </tr>\n",
       "  </thead>\n",
       "  <tbody>\n",
       "    <tr>\n",
       "      <th>0</th>\n",
       "      <td>1</td>\n",
       "      <td>Spectrogram 1</td>\n",
       "      <td>1</td>\n",
       "      <td>1995.526631</td>\n",
       "      <td>1995.855331</td>\n",
       "      <td>6600.000</td>\n",
       "      <td>9952.941</td>\n",
       "      <td>b827eb905497_1555754780.42.wav</td>\n",
       "      <td>/Users/andrew/Google Drive/audio/b827eb905497_...</td>\n",
       "      <td>5.5266</td>\n",
       "      <td>WTSP</td>\n",
       "      <td>Sparrow</td>\n",
       "      <td>Passerine</td>\n",
       "    </tr>\n",
       "    <tr>\n",
       "      <th>1</th>\n",
       "      <td>2</td>\n",
       "      <td>Spectrogram 1</td>\n",
       "      <td>1</td>\n",
       "      <td>2113.347713</td>\n",
       "      <td>2113.623397</td>\n",
       "      <td>5152.941</td>\n",
       "      <td>8858.824</td>\n",
       "      <td>b827eb905497_1555667028.19.wav</td>\n",
       "      <td>/Users/andrew/Google Drive/audio/b827eb905497_...</td>\n",
       "      <td>3.3477</td>\n",
       "      <td>WTSP</td>\n",
       "      <td>Sparrow</td>\n",
       "      <td>Passerine</td>\n",
       "    </tr>\n",
       "    <tr>\n",
       "      <th>2</th>\n",
       "      <td>3</td>\n",
       "      <td>Spectrogram 1</td>\n",
       "      <td>1</td>\n",
       "      <td>2303.756591</td>\n",
       "      <td>2304.005767</td>\n",
       "      <td>6882.353</td>\n",
       "      <td>10270.588</td>\n",
       "      <td>b827eb905497_1555493332.03.wav</td>\n",
       "      <td>/Users/andrew/Google Drive/audio/b827eb905497_...</td>\n",
       "      <td>3.7566</td>\n",
       "      <td>WTSP</td>\n",
       "      <td>Sparrow</td>\n",
       "      <td>Passerine</td>\n",
       "    </tr>\n",
       "    <tr>\n",
       "      <th>3</th>\n",
       "      <td>4</td>\n",
       "      <td>Spectrogram 1</td>\n",
       "      <td>1</td>\n",
       "      <td>2482.380004</td>\n",
       "      <td>2482.554957</td>\n",
       "      <td>4905.882</td>\n",
       "      <td>8470.588</td>\n",
       "      <td>b827eb905497_1555236038.85.wav</td>\n",
       "      <td>/Users/andrew/Google Drive/audio/b827eb905497_...</td>\n",
       "      <td>2.3800</td>\n",
       "      <td>NaN</td>\n",
       "      <td>Sparrow</td>\n",
       "      <td>Passerine</td>\n",
       "    </tr>\n",
       "    <tr>\n",
       "      <th>4</th>\n",
       "      <td>5</td>\n",
       "      <td>Spectrogram 1</td>\n",
       "      <td>1</td>\n",
       "      <td>2552.947888</td>\n",
       "      <td>2553.351672</td>\n",
       "      <td>6187.500</td>\n",
       "      <td>10125.000</td>\n",
       "      <td>b827eb905497_1553165757.37.wav</td>\n",
       "      <td>/Users/andrew/Google Drive/audio/b827eb905497_...</td>\n",
       "      <td>2.9479</td>\n",
       "      <td>WTSP</td>\n",
       "      <td>Sparrow</td>\n",
       "      <td>Passerine</td>\n",
       "    </tr>\n",
       "  </tbody>\n",
       "</table>\n",
       "</div>"
      ],
      "text/plain": [
       "   Selection           View  Channel  Begin Time (s)  End Time (s)  \\\n",
       "0          1  Spectrogram 1        1     1995.526631   1995.855331   \n",
       "1          2  Spectrogram 1        1     2113.347713   2113.623397   \n",
       "2          3  Spectrogram 1        1     2303.756591   2304.005767   \n",
       "3          4  Spectrogram 1        1     2482.380004   2482.554957   \n",
       "4          5  Spectrogram 1        1     2552.947888   2553.351672   \n",
       "\n",
       "   Low Freq (Hz)  High Freq (Hz)                      Begin File  \\\n",
       "0       6600.000        9952.941  b827eb905497_1555754780.42.wav   \n",
       "1       5152.941        8858.824  b827eb905497_1555667028.19.wav   \n",
       "2       6882.353       10270.588  b827eb905497_1555493332.03.wav   \n",
       "3       4905.882        8470.588  b827eb905497_1555236038.85.wav   \n",
       "4       6187.500       10125.000  b827eb905497_1553165757.37.wav   \n",
       "\n",
       "                                          Begin Path  File Offset (s) Species  \\\n",
       "0  /Users/andrew/Google Drive/audio/b827eb905497_...           5.5266    WTSP   \n",
       "1  /Users/andrew/Google Drive/audio/b827eb905497_...           3.3477    WTSP   \n",
       "2  /Users/andrew/Google Drive/audio/b827eb905497_...           3.7566    WTSP   \n",
       "3  /Users/andrew/Google Drive/audio/b827eb905497_...           2.3800     NaN   \n",
       "4  /Users/andrew/Google Drive/audio/b827eb905497_...           2.9479    WTSP   \n",
       "\n",
       "    Family      Order  \n",
       "0  Sparrow  Passerine  \n",
       "1  Sparrow  Passerine  \n",
       "2  Sparrow  Passerine  \n",
       "3  Sparrow  Passerine  \n",
       "4  Sparrow  Passerine  "
      ]
     },
     "execution_count": 7,
     "metadata": {},
     "output_type": "execute_result"
    }
   ],
   "source": [
    "annot.head()"
   ]
  },
  {
   "cell_type": "code",
   "execution_count": 5,
   "metadata": {},
   "outputs": [
    {
     "data": {
      "text/plain": [
       "Species\n",
       "CHSP      5\n",
       "SOSP      3\n",
       "SWSP      1\n",
       "SWTH      1\n",
       "WTSP    165\n",
       "Name: Selection, dtype: int64"
      ]
     },
     "execution_count": 5,
     "metadata": {},
     "output_type": "execute_result"
    }
   ],
   "source": [
    "annot.groupby('Species').count()['Selection']"
   ]
  },
  {
   "cell_type": "code",
   "execution_count": 6,
   "metadata": {},
   "outputs": [
    {
     "data": {
      "text/plain": [
       "Family\n",
       "Sparrow    179\n",
       "Thrush       1\n",
       "t            1\n",
       "Name: Selection, dtype: int64"
      ]
     },
     "execution_count": 6,
     "metadata": {},
     "output_type": "execute_result"
    }
   ],
   "source": [
    "annot.groupby('Family').count()['Selection']"
   ]
  }
 ],
 "metadata": {
  "kernelspec": {
   "display_name": "birdsVE3.7",
   "language": "python",
   "name": "birdsve3.7"
  },
  "language_info": {
   "codemirror_mode": {
    "name": "ipython",
    "version": 3
   },
   "file_extension": ".py",
   "mimetype": "text/x-python",
   "name": "python",
   "nbconvert_exporter": "python",
   "pygments_lexer": "ipython3",
   "version": "3.7.4"
  }
 },
 "nbformat": 4,
 "nbformat_minor": 2
}
