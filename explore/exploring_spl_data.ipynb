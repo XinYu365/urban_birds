{
 "cells": [
  {
   "cell_type": "code",
   "execution_count": 1,
   "metadata": {},
   "outputs": [],
   "source": [
    "import sys\n",
    "import datetime\n",
    "from os import listdir\n",
    "from os.path import isfile, join\n",
    "import numpy as np \n",
    "import pandas as pd\n",
    "import h5py\n",
    "\n",
    "import matplotlib.pyplot as plt\n",
    "%matplotlib inline\n",
    "\n",
    "sys.path.append('../')\n",
    "from envir import config"
   ]
  },
  {
   "cell_type": "markdown",
   "metadata": {},
   "source": [
    "### UPLOAD SENSOR CODES \n"
   ]
  },
  {
   "cell_type": "code",
   "execution_count": 2,
   "metadata": {},
   "outputs": [],
   "source": [
    "### UPLOAD SENSORS FOR \n",
    "\n",
    "sensors = pd.read_json(config.dataFol+\"sonyc_test.collection.json\")\n"
   ]
  },
  {
   "cell_type": "code",
   "execution_count": 3,
   "metadata": {},
   "outputs": [
    {
     "data": {
      "text/plain": [
       "0      sonycnode-b827ebed47a6.sonyc\n",
       "1      sonycnode-b827eb74a9e8.sonyc\n",
       "2      sonycnode-b827ebafe148.sonyc\n",
       "3      sonycnode-b827ebe3b72c.sonyc\n",
       "4      sonycnode-b827eb0535b8.sonyc\n",
       "                   ...             \n",
       "96     sonycnode-b827ebc6dcc6.sonyc\n",
       "97     sonycnode-b827eb0fedda.sonyc\n",
       "98     sonycnode-b827ebcf5bfc.sonyc\n",
       "99     sonycnode-b827eb132382.sonyc\n",
       "100                       foo.sonyc\n",
       "Name: fqdn, Length: 101, dtype: object"
      ]
     },
     "execution_count": 3,
     "metadata": {},
     "output_type": "execute_result"
    }
   ],
   "source": [
    "sensors.fqdn"
   ]
  },
  {
   "cell_type": "markdown",
   "metadata": {},
   "source": [
    "# WSQ PARK SENSORS \n",
    "\n",
    "#### - sonycnode-b827eb815321.sonyc\n",
    "#### 19 Washington Square North - 15-61 Washington Square N, New York, NY 10011\n",
    "\n",
    "#### - sonycnode-b827eb8e2420.sonyc\n",
    "#### 4 Washington Square North 1-6 Washington Square North, New York, NY 10003\n",
    "\n",
    "#### - sonycnode-b827eb86d458.sonyc\n",
    "#### Silver Lab - 60 5th Ave\n",
    "\n",
    "#### - sonycnode-b827eb905497.sonyc\n",
    "#### Kimmel Center\t60 Washington Square S, New York, NY 10012\n",
    "\n",
    "\n",
    "#### - sonycnode-b827eb0fedda.sonyc\n",
    "#### Juan Carlos\tKing Juan Carlos I of Spain Center, 53 Washington Square S, New York, NY 10012\n",
    "\n",
    "\n",
    "#### - sonycnode-b827eb1685c7.sonyc\n",
    "#### Shimkin Reading Room\t35-51 West 4th Street, New York, NY 10012\n",
    "\n",
    "\n"
   ]
  },
  {
   "cell_type": "code",
   "execution_count": 4,
   "metadata": {},
   "outputs": [],
   "source": [
    "#- sonycnode-b827eb815321.sonyc\n",
    "# 19 Washington Square North - 15-61 Washington Square N, New York, NY 10011\n",
    "\n",
    "sensor1_2017 = h5py.File(config.dataFol+'spl/2017/sonycnode-b827eb815321.sonyc.h5', 'r')\n",
    "\n"
   ]
  },
  {
   "cell_type": "code",
   "execution_count": 5,
   "metadata": {},
   "outputs": [
    {
     "data": {
      "text/plain": [
       "['minute_intervals', 'second_intervals']"
      ]
     },
     "execution_count": 5,
     "metadata": {},
     "output_type": "execute_result"
    }
   ],
   "source": [
    "list(sensor1_2017.keys())\n"
   ]
  },
  {
   "cell_type": "code",
   "execution_count": 6,
   "metadata": {},
   "outputs": [],
   "source": [
    "#for key in sensor1_2017.keys():\n",
    "#    print(key)"
   ]
  },
  {
   "cell_type": "code",
   "execution_count": 7,
   "metadata": {},
   "outputs": [
    {
     "name": "stdout",
     "output_type": "stream",
     "text": [
      "minute_intervals\n",
      "second_intervals\n"
     ]
    }
   ],
   "source": [
    "sensor1_2017.visit(print)\n",
    "\n"
   ]
  },
  {
   "cell_type": "code",
   "execution_count": 8,
   "metadata": {},
   "outputs": [],
   "source": [
    "dset = sensor1_2017[\"minute_intervals\"]\n",
    "\n"
   ]
  },
  {
   "cell_type": "code",
   "execution_count": 9,
   "metadata": {},
   "outputs": [
    {
     "data": {
      "text/plain": [
       "(491936,)"
      ]
     },
     "execution_count": 9,
     "metadata": {},
     "output_type": "execute_result"
    }
   ],
   "source": [
    "dset.shape"
   ]
  },
  {
   "cell_type": "code",
   "execution_count": 10,
   "metadata": {
    "scrolled": false
   },
   "outputs": [
    {
     "data": {
      "text/html": [
       "<div>\n",
       "<style scoped>\n",
       "    .dataframe tbody tr th:only-of-type {\n",
       "        vertical-align: middle;\n",
       "    }\n",
       "\n",
       "    .dataframe tbody tr th {\n",
       "        vertical-align: top;\n",
       "    }\n",
       "\n",
       "    .dataframe thead th {\n",
       "        text-align: right;\n",
       "    }\n",
       "</style>\n",
       "<table border=\"1\" class=\"dataframe\">\n",
       "  <thead>\n",
       "    <tr style=\"text-align: right;\">\n",
       "      <th></th>\n",
       "      <th>target_column</th>\n",
       "    </tr>\n",
       "  </thead>\n",
       "  <tbody>\n",
       "    <tr>\n",
       "      <td>0</td>\n",
       "      <td>[1484334299.99, 60.71689, 60.58235, 63.65]</td>\n",
       "    </tr>\n",
       "    <tr>\n",
       "      <td>1</td>\n",
       "      <td>[1484334359.0, 62.19081, 61.182587, 68.22]</td>\n",
       "    </tr>\n",
       "    <tr>\n",
       "      <td>2</td>\n",
       "      <td>[1484334419.01, 65.20397, 64.31627, 68.85]</td>\n",
       "    </tr>\n",
       "    <tr>\n",
       "      <td>3</td>\n",
       "      <td>[1484334479.01, 70.33647, 69.63593, 78.42]</td>\n",
       "    </tr>\n",
       "    <tr>\n",
       "      <td>4</td>\n",
       "      <td>[1484334539.02, 66.32391, 63.955086, 77.13]</td>\n",
       "    </tr>\n",
       "  </tbody>\n",
       "</table>\n",
       "</div>"
      ],
      "text/plain": [
       "                                 target_column\n",
       "0   [1484334299.99, 60.71689, 60.58235, 63.65]\n",
       "1   [1484334359.0, 62.19081, 61.182587, 68.22]\n",
       "2   [1484334419.01, 65.20397, 64.31627, 68.85]\n",
       "3   [1484334479.01, 70.33647, 69.63593, 78.42]\n",
       "4  [1484334539.02, 66.32391, 63.955086, 77.13]"
      ]
     },
     "execution_count": 10,
     "metadata": {},
     "output_type": "execute_result"
    }
   ],
   "source": [
    "df = pd.DataFrame(dset, columns = ['target_column'])\n",
    "df.head()"
   ]
  },
  {
   "cell_type": "code",
   "execution_count": null,
   "metadata": {},
   "outputs": [],
   "source": []
  },
  {
   "cell_type": "code",
   "execution_count": 11,
   "metadata": {},
   "outputs": [],
   "source": [
    "#columns=['timestamp', 'dbas_lin_mean', 'dbas_mean', 'dbas_max'])"
   ]
  },
  {
   "cell_type": "code",
   "execution_count": 12,
   "metadata": {},
   "outputs": [],
   "source": [
    "df.loc[:, 'timestamp'] = df.target_column.map(lambda x: x[0])\n",
    "df.loc[:, 'dbas_lin_mean'] = df.target_column.map(lambda x: x[1])\n",
    "df.loc[:, 'dbas_mean'] = df.target_column.map(lambda x: x[2])\n",
    "df.loc[:, 'dbas_max'] = df.target_column.map(lambda x: x[3])"
   ]
  },
  {
   "cell_type": "code",
   "execution_count": 13,
   "metadata": {},
   "outputs": [],
   "source": [
    "sensor1_2017_min_int_df = df.drop(['target_column'], axis =1)\n",
    "\n"
   ]
  },
  {
   "cell_type": "code",
   "execution_count": 14,
   "metadata": {},
   "outputs": [
    {
     "data": {
      "text/html": [
       "<div>\n",
       "<style scoped>\n",
       "    .dataframe tbody tr th:only-of-type {\n",
       "        vertical-align: middle;\n",
       "    }\n",
       "\n",
       "    .dataframe tbody tr th {\n",
       "        vertical-align: top;\n",
       "    }\n",
       "\n",
       "    .dataframe thead th {\n",
       "        text-align: right;\n",
       "    }\n",
       "</style>\n",
       "<table border=\"1\" class=\"dataframe\">\n",
       "  <thead>\n",
       "    <tr style=\"text-align: right;\">\n",
       "      <th></th>\n",
       "      <th>timestamp</th>\n",
       "      <th>dbas_lin_mean</th>\n",
       "      <th>dbas_mean</th>\n",
       "      <th>dbas_max</th>\n",
       "    </tr>\n",
       "  </thead>\n",
       "  <tbody>\n",
       "    <tr>\n",
       "      <td>0</td>\n",
       "      <td>1.484334e+09</td>\n",
       "      <td>60.716888</td>\n",
       "      <td>60.582352</td>\n",
       "      <td>63.650002</td>\n",
       "    </tr>\n",
       "    <tr>\n",
       "      <td>1</td>\n",
       "      <td>1.484334e+09</td>\n",
       "      <td>62.190811</td>\n",
       "      <td>61.182587</td>\n",
       "      <td>68.220001</td>\n",
       "    </tr>\n",
       "    <tr>\n",
       "      <td>2</td>\n",
       "      <td>1.484334e+09</td>\n",
       "      <td>65.203972</td>\n",
       "      <td>64.316269</td>\n",
       "      <td>68.849998</td>\n",
       "    </tr>\n",
       "    <tr>\n",
       "      <td>3</td>\n",
       "      <td>1.484334e+09</td>\n",
       "      <td>70.336472</td>\n",
       "      <td>69.635933</td>\n",
       "      <td>78.419998</td>\n",
       "    </tr>\n",
       "    <tr>\n",
       "      <td>4</td>\n",
       "      <td>1.484335e+09</td>\n",
       "      <td>66.323914</td>\n",
       "      <td>63.955086</td>\n",
       "      <td>77.129997</td>\n",
       "    </tr>\n",
       "  </tbody>\n",
       "</table>\n",
       "</div>"
      ],
      "text/plain": [
       "      timestamp  dbas_lin_mean  dbas_mean   dbas_max\n",
       "0  1.484334e+09      60.716888  60.582352  63.650002\n",
       "1  1.484334e+09      62.190811  61.182587  68.220001\n",
       "2  1.484334e+09      65.203972  64.316269  68.849998\n",
       "3  1.484334e+09      70.336472  69.635933  78.419998\n",
       "4  1.484335e+09      66.323914  63.955086  77.129997"
      ]
     },
     "execution_count": 14,
     "metadata": {},
     "output_type": "execute_result"
    }
   ],
   "source": [
    "sensor1_2017_min_int_df.head()"
   ]
  },
  {
   "cell_type": "code",
   "execution_count": 15,
   "metadata": {},
   "outputs": [
    {
     "data": {
      "text/plain": [
       "timestamp        float64\n",
       "dbas_lin_mean    float64\n",
       "dbas_mean        float64\n",
       "dbas_max         float64\n",
       "dtype: object"
      ]
     },
     "execution_count": 15,
     "metadata": {},
     "output_type": "execute_result"
    }
   ],
   "source": [
    "sensor1_2017_min_int_df.dtypes"
   ]
  },
  {
   "cell_type": "code",
   "execution_count": 16,
   "metadata": {},
   "outputs": [],
   "source": [
    "#df['time_est'] = pd.to_datetime(sensor1_2017_min_int_df.timestamp, format = '%Y-%m-%d %H:%M:%S', errors ='coerce')"
   ]
  },
  {
   "cell_type": "code",
   "execution_count": 17,
   "metadata": {
    "scrolled": true
   },
   "outputs": [
    {
     "data": {
      "text/html": [
       "<div>\n",
       "<style scoped>\n",
       "    .dataframe tbody tr th:only-of-type {\n",
       "        vertical-align: middle;\n",
       "    }\n",
       "\n",
       "    .dataframe tbody tr th {\n",
       "        vertical-align: top;\n",
       "    }\n",
       "\n",
       "    .dataframe thead th {\n",
       "        text-align: right;\n",
       "    }\n",
       "</style>\n",
       "<table border=\"1\" class=\"dataframe\">\n",
       "  <thead>\n",
       "    <tr style=\"text-align: right;\">\n",
       "      <th></th>\n",
       "      <th>timestamp</th>\n",
       "      <th>dbas_lin_mean</th>\n",
       "      <th>dbas_mean</th>\n",
       "      <th>dbas_max</th>\n",
       "    </tr>\n",
       "  </thead>\n",
       "  <tbody>\n",
       "    <tr>\n",
       "      <td>0</td>\n",
       "      <td>1.484334e+09</td>\n",
       "      <td>60.716888</td>\n",
       "      <td>60.582352</td>\n",
       "      <td>63.650002</td>\n",
       "    </tr>\n",
       "    <tr>\n",
       "      <td>1</td>\n",
       "      <td>1.484334e+09</td>\n",
       "      <td>62.190811</td>\n",
       "      <td>61.182587</td>\n",
       "      <td>68.220001</td>\n",
       "    </tr>\n",
       "    <tr>\n",
       "      <td>2</td>\n",
       "      <td>1.484334e+09</td>\n",
       "      <td>65.203972</td>\n",
       "      <td>64.316269</td>\n",
       "      <td>68.849998</td>\n",
       "    </tr>\n",
       "    <tr>\n",
       "      <td>3</td>\n",
       "      <td>1.484334e+09</td>\n",
       "      <td>70.336472</td>\n",
       "      <td>69.635933</td>\n",
       "      <td>78.419998</td>\n",
       "    </tr>\n",
       "    <tr>\n",
       "      <td>4</td>\n",
       "      <td>1.484335e+09</td>\n",
       "      <td>66.323914</td>\n",
       "      <td>63.955086</td>\n",
       "      <td>77.129997</td>\n",
       "    </tr>\n",
       "  </tbody>\n",
       "</table>\n",
       "</div>"
      ],
      "text/plain": [
       "      timestamp  dbas_lin_mean  dbas_mean   dbas_max\n",
       "0  1.484334e+09      60.716888  60.582352  63.650002\n",
       "1  1.484334e+09      62.190811  61.182587  68.220001\n",
       "2  1.484334e+09      65.203972  64.316269  68.849998\n",
       "3  1.484334e+09      70.336472  69.635933  78.419998\n",
       "4  1.484335e+09      66.323914  63.955086  77.129997"
      ]
     },
     "execution_count": 17,
     "metadata": {},
     "output_type": "execute_result"
    }
   ],
   "source": [
    "sensor1_2017_min_int_df.head()"
   ]
  },
  {
   "cell_type": "code",
   "execution_count": 18,
   "metadata": {},
   "outputs": [],
   "source": [
    "sensor1_2017_min_int_df['timestamp'] = pd.to_datetime(sensor1_2017_min_int_df['timestamp'], unit = \"s\")"
   ]
  },
  {
   "cell_type": "code",
   "execution_count": 19,
   "metadata": {},
   "outputs": [
    {
     "data": {
      "text/plain": [
       "15742080"
      ]
     },
     "execution_count": 19,
     "metadata": {},
     "output_type": "execute_result"
    }
   ],
   "source": [
    "sensor1_2017_min_int_df.memory_usage(index=True).sum()"
   ]
  },
  {
   "cell_type": "code",
   "execution_count": null,
   "metadata": {},
   "outputs": [],
   "source": []
  },
  {
   "cell_type": "code",
   "execution_count": null,
   "metadata": {},
   "outputs": [],
   "source": []
  },
  {
   "cell_type": "code",
   "execution_count": 20,
   "metadata": {},
   "outputs": [],
   "source": [
    "#plt.figure(figsize=(9, 3))\n",
    "\n",
    "#plt.plot(timestamp, dbas_mean, data = sensor1_2017_min_int_df)"
   ]
  },
  {
   "cell_type": "markdown",
   "metadata": {},
   "source": [
    "## SENSOR 2\n",
    "### sonycnode-b827eb8e2420.sonyc\n",
    "### 4 Washington Square North 1-6 Washington Square North, New York, NY 10003"
   ]
  },
  {
   "cell_type": "code",
   "execution_count": 21,
   "metadata": {},
   "outputs": [],
   "source": [
    "# Sensor 2\n",
    "#- sonycnode-b827eb8e2420.sonyc\n",
    "# 4 Washington Square North 1-6 Washington Square North, New York, NY 10003\n",
    "\n",
    "\n",
    "### upload Sensor\n",
    "sensor2_2017 = h5py.File(config.dataFol+'spl/2017/sonycnode-b827eb8e2420.sonyc.h5', 'r')\n"
   ]
  },
  {
   "cell_type": "code",
   "execution_count": 22,
   "metadata": {
    "scrolled": true
   },
   "outputs": [],
   "source": [
    "# Grab minute interval from the h5 - figure out periodicty \n",
    "dset2 = sensor2_2017['minute_intervals']"
   ]
  },
  {
   "cell_type": "code",
   "execution_count": 23,
   "metadata": {},
   "outputs": [
    {
     "data": {
      "text/html": [
       "<div>\n",
       "<style scoped>\n",
       "    .dataframe tbody tr th:only-of-type {\n",
       "        vertical-align: middle;\n",
       "    }\n",
       "\n",
       "    .dataframe tbody tr th {\n",
       "        vertical-align: top;\n",
       "    }\n",
       "\n",
       "    .dataframe thead th {\n",
       "        text-align: right;\n",
       "    }\n",
       "</style>\n",
       "<table border=\"1\" class=\"dataframe\">\n",
       "  <thead>\n",
       "    <tr style=\"text-align: right;\">\n",
       "      <th></th>\n",
       "      <th>target_column</th>\n",
       "    </tr>\n",
       "  </thead>\n",
       "  <tbody>\n",
       "    <tr>\n",
       "      <td>0</td>\n",
       "      <td>[1484137073.85, 58.002308, 57.841667, 63.1]</td>\n",
       "    </tr>\n",
       "    <tr>\n",
       "      <td>1</td>\n",
       "      <td>[1489175399.54, 60.70463, 60.21913, 69.06]</td>\n",
       "    </tr>\n",
       "    <tr>\n",
       "      <td>2</td>\n",
       "      <td>[1489175459.39, 59.98697, 59.82389, 62.75]</td>\n",
       "    </tr>\n",
       "    <tr>\n",
       "      <td>3</td>\n",
       "      <td>[1489175519.4, 60.19102, 60.038166, 62.37]</td>\n",
       "    </tr>\n",
       "    <tr>\n",
       "      <td>4</td>\n",
       "      <td>[1489175579.4, 58.72285, 58.669334, 61.29]</td>\n",
       "    </tr>\n",
       "  </tbody>\n",
       "</table>\n",
       "</div>"
      ],
      "text/plain": [
       "                                 target_column\n",
       "0  [1484137073.85, 58.002308, 57.841667, 63.1]\n",
       "1   [1489175399.54, 60.70463, 60.21913, 69.06]\n",
       "2   [1489175459.39, 59.98697, 59.82389, 62.75]\n",
       "3   [1489175519.4, 60.19102, 60.038166, 62.37]\n",
       "4   [1489175579.4, 58.72285, 58.669334, 61.29]"
      ]
     },
     "execution_count": 23,
     "metadata": {},
     "output_type": "execute_result"
    }
   ],
   "source": [
    "df2 = pd.DataFrame(dset2, columns = ['target_column'])\n",
    "df2.head()"
   ]
  },
  {
   "cell_type": "code",
   "execution_count": 24,
   "metadata": {},
   "outputs": [],
   "source": [
    "#df2.loc[:, 'timestamp', 'dbas_lin_mean', 'dbas_mean', 'dbas_max'] = df2.target_column.map(lambda x: x[0:3])"
   ]
  },
  {
   "cell_type": "code",
   "execution_count": 25,
   "metadata": {},
   "outputs": [
    {
     "data": {
      "text/html": [
       "<div>\n",
       "<style scoped>\n",
       "    .dataframe tbody tr th:only-of-type {\n",
       "        vertical-align: middle;\n",
       "    }\n",
       "\n",
       "    .dataframe tbody tr th {\n",
       "        vertical-align: top;\n",
       "    }\n",
       "\n",
       "    .dataframe thead th {\n",
       "        text-align: right;\n",
       "    }\n",
       "</style>\n",
       "<table border=\"1\" class=\"dataframe\">\n",
       "  <thead>\n",
       "    <tr style=\"text-align: right;\">\n",
       "      <th></th>\n",
       "      <th>target_column</th>\n",
       "      <th>timestamp</th>\n",
       "      <th>dbas_lin_mean</th>\n",
       "      <th>dbas_mean</th>\n",
       "      <th>dbas_max</th>\n",
       "    </tr>\n",
       "  </thead>\n",
       "  <tbody>\n",
       "    <tr>\n",
       "      <td>0</td>\n",
       "      <td>[1484137073.85, 58.002308, 57.841667, 63.1]</td>\n",
       "      <td>1.484137e+09</td>\n",
       "      <td>58.002308</td>\n",
       "      <td>57.841667</td>\n",
       "      <td>63.099998</td>\n",
       "    </tr>\n",
       "    <tr>\n",
       "      <td>1</td>\n",
       "      <td>[1489175399.54, 60.70463, 60.21913, 69.06]</td>\n",
       "      <td>1.489175e+09</td>\n",
       "      <td>60.704632</td>\n",
       "      <td>60.219131</td>\n",
       "      <td>69.059998</td>\n",
       "    </tr>\n",
       "    <tr>\n",
       "      <td>2</td>\n",
       "      <td>[1489175459.39, 59.98697, 59.82389, 62.75]</td>\n",
       "      <td>1.489175e+09</td>\n",
       "      <td>59.986969</td>\n",
       "      <td>59.823891</td>\n",
       "      <td>62.750000</td>\n",
       "    </tr>\n",
       "    <tr>\n",
       "      <td>3</td>\n",
       "      <td>[1489175519.4, 60.19102, 60.038166, 62.37]</td>\n",
       "      <td>1.489176e+09</td>\n",
       "      <td>60.191021</td>\n",
       "      <td>60.038166</td>\n",
       "      <td>62.369999</td>\n",
       "    </tr>\n",
       "    <tr>\n",
       "      <td>4</td>\n",
       "      <td>[1489175579.4, 58.72285, 58.669334, 61.29]</td>\n",
       "      <td>1.489176e+09</td>\n",
       "      <td>58.722851</td>\n",
       "      <td>58.669334</td>\n",
       "      <td>61.290001</td>\n",
       "    </tr>\n",
       "  </tbody>\n",
       "</table>\n",
       "</div>"
      ],
      "text/plain": [
       "                                 target_column     timestamp  dbas_lin_mean  \\\n",
       "0  [1484137073.85, 58.002308, 57.841667, 63.1]  1.484137e+09      58.002308   \n",
       "1   [1489175399.54, 60.70463, 60.21913, 69.06]  1.489175e+09      60.704632   \n",
       "2   [1489175459.39, 59.98697, 59.82389, 62.75]  1.489175e+09      59.986969   \n",
       "3   [1489175519.4, 60.19102, 60.038166, 62.37]  1.489176e+09      60.191021   \n",
       "4   [1489175579.4, 58.72285, 58.669334, 61.29]  1.489176e+09      58.722851   \n",
       "\n",
       "   dbas_mean   dbas_max  \n",
       "0  57.841667  63.099998  \n",
       "1  60.219131  69.059998  \n",
       "2  59.823891  62.750000  \n",
       "3  60.038166  62.369999  \n",
       "4  58.669334  61.290001  "
      ]
     },
     "execution_count": 25,
     "metadata": {},
     "output_type": "execute_result"
    }
   ],
   "source": [
    "### Extract values from position \n",
    "# TODO: REWORK THIS CODE - concise \n",
    "\n",
    "df2.loc[:, 'timestamp'] = df2.target_column.map(lambda x: x[0])\n",
    "df2.loc[:, 'dbas_lin_mean'] = df2.target_column.map(lambda x: x[1])\n",
    "df2.loc[:, 'dbas_mean'] = df2.target_column.map(lambda x: x[2])\n",
    "df2.loc[:, 'dbas_max'] = df2.target_column.map(lambda x: x[3])\n",
    "df2.head()"
   ]
  },
  {
   "cell_type": "code",
   "execution_count": 26,
   "metadata": {},
   "outputs": [],
   "source": [
    "sensor2_2017_min_int_df = df2.drop(['target_column'], axis =1)"
   ]
  },
  {
   "cell_type": "code",
   "execution_count": null,
   "metadata": {},
   "outputs": [],
   "source": []
  },
  {
   "cell_type": "code",
   "execution_count": 27,
   "metadata": {},
   "outputs": [
    {
     "data": {
      "text/html": [
       "<div>\n",
       "<style scoped>\n",
       "    .dataframe tbody tr th:only-of-type {\n",
       "        vertical-align: middle;\n",
       "    }\n",
       "\n",
       "    .dataframe tbody tr th {\n",
       "        vertical-align: top;\n",
       "    }\n",
       "\n",
       "    .dataframe thead th {\n",
       "        text-align: right;\n",
       "    }\n",
       "</style>\n",
       "<table border=\"1\" class=\"dataframe\">\n",
       "  <thead>\n",
       "    <tr style=\"text-align: right;\">\n",
       "      <th></th>\n",
       "      <th>timestamp</th>\n",
       "      <th>dbas_lin_mean</th>\n",
       "      <th>dbas_mean</th>\n",
       "      <th>dbas_max</th>\n",
       "    </tr>\n",
       "  </thead>\n",
       "  <tbody>\n",
       "    <tr>\n",
       "      <td>0</td>\n",
       "      <td>1.484137e+09</td>\n",
       "      <td>58.002308</td>\n",
       "      <td>57.841667</td>\n",
       "      <td>63.099998</td>\n",
       "    </tr>\n",
       "    <tr>\n",
       "      <td>1</td>\n",
       "      <td>1.489175e+09</td>\n",
       "      <td>60.704632</td>\n",
       "      <td>60.219131</td>\n",
       "      <td>69.059998</td>\n",
       "    </tr>\n",
       "    <tr>\n",
       "      <td>2</td>\n",
       "      <td>1.489175e+09</td>\n",
       "      <td>59.986969</td>\n",
       "      <td>59.823891</td>\n",
       "      <td>62.750000</td>\n",
       "    </tr>\n",
       "    <tr>\n",
       "      <td>3</td>\n",
       "      <td>1.489176e+09</td>\n",
       "      <td>60.191021</td>\n",
       "      <td>60.038166</td>\n",
       "      <td>62.369999</td>\n",
       "    </tr>\n",
       "    <tr>\n",
       "      <td>4</td>\n",
       "      <td>1.489176e+09</td>\n",
       "      <td>58.722851</td>\n",
       "      <td>58.669334</td>\n",
       "      <td>61.290001</td>\n",
       "    </tr>\n",
       "  </tbody>\n",
       "</table>\n",
       "</div>"
      ],
      "text/plain": [
       "      timestamp  dbas_lin_mean  dbas_mean   dbas_max\n",
       "0  1.484137e+09      58.002308  57.841667  63.099998\n",
       "1  1.489175e+09      60.704632  60.219131  69.059998\n",
       "2  1.489175e+09      59.986969  59.823891  62.750000\n",
       "3  1.489176e+09      60.191021  60.038166  62.369999\n",
       "4  1.489176e+09      58.722851  58.669334  61.290001"
      ]
     },
     "execution_count": 27,
     "metadata": {},
     "output_type": "execute_result"
    }
   ],
   "source": [
    "sensor2_2017_min_int_df.head()"
   ]
  },
  {
   "cell_type": "code",
   "execution_count": 28,
   "metadata": {},
   "outputs": [],
   "source": [
    "sensor2_2017_min_int_df['timestamp'] = pd.to_datetime(sensor2_2017_min_int_df['timestamp'], unit = \"s\")"
   ]
  },
  {
   "cell_type": "markdown",
   "metadata": {
    "scrolled": true
   },
   "source": [
    "# SENSOR 3 -2017 "
   ]
  },
  {
   "cell_type": "code",
   "execution_count": 29,
   "metadata": {},
   "outputs": [],
   "source": [
    "#### - sonycnode-b827eb86d458.sonyc\n",
    "#### Silver Lab - 60 5th Ave\n",
    "\n",
    "sensor3_2017 = h5py.File(config.dataFol+'spl/2017/sonycnode-b827eb86d458.sonyc.h5', 'r')"
   ]
  },
  {
   "cell_type": "code",
   "execution_count": 30,
   "metadata": {},
   "outputs": [],
   "source": [
    "dset3 = sensor3_2017['minute_intervals']"
   ]
  },
  {
   "cell_type": "code",
   "execution_count": 31,
   "metadata": {},
   "outputs": [
    {
     "data": {
      "text/html": [
       "<div>\n",
       "<style scoped>\n",
       "    .dataframe tbody tr th:only-of-type {\n",
       "        vertical-align: middle;\n",
       "    }\n",
       "\n",
       "    .dataframe tbody tr th {\n",
       "        vertical-align: top;\n",
       "    }\n",
       "\n",
       "    .dataframe thead th {\n",
       "        text-align: right;\n",
       "    }\n",
       "</style>\n",
       "<table border=\"1\" class=\"dataframe\">\n",
       "  <thead>\n",
       "    <tr style=\"text-align: right;\">\n",
       "      <th></th>\n",
       "      <th>target_column</th>\n",
       "    </tr>\n",
       "  </thead>\n",
       "  <tbody>\n",
       "    <tr>\n",
       "      <td>0</td>\n",
       "      <td>[1483246859.23, 62.054955, 61.132324, 67.0]</td>\n",
       "    </tr>\n",
       "    <tr>\n",
       "      <td>1</td>\n",
       "      <td>[1483246919.25, 61.978256, 60.498814, 73.56]</td>\n",
       "    </tr>\n",
       "    <tr>\n",
       "      <td>2</td>\n",
       "      <td>[1483246979.25, 67.13952, 64.938644, 75.52]</td>\n",
       "    </tr>\n",
       "    <tr>\n",
       "      <td>3</td>\n",
       "      <td>[1483247039.25, 63.978664, 60.93949, 72.41]</td>\n",
       "    </tr>\n",
       "    <tr>\n",
       "      <td>4</td>\n",
       "      <td>[1483247099.26, 62.555042, 60.661354, 71.73]</td>\n",
       "    </tr>\n",
       "  </tbody>\n",
       "</table>\n",
       "</div>"
      ],
      "text/plain": [
       "                                  target_column\n",
       "0   [1483246859.23, 62.054955, 61.132324, 67.0]\n",
       "1  [1483246919.25, 61.978256, 60.498814, 73.56]\n",
       "2   [1483246979.25, 67.13952, 64.938644, 75.52]\n",
       "3   [1483247039.25, 63.978664, 60.93949, 72.41]\n",
       "4  [1483247099.26, 62.555042, 60.661354, 71.73]"
      ]
     },
     "execution_count": 31,
     "metadata": {},
     "output_type": "execute_result"
    }
   ],
   "source": [
    "df3 = pd.DataFrame(dset3, columns = ['target_column'])\n",
    "df3.head()"
   ]
  },
  {
   "cell_type": "code",
   "execution_count": 32,
   "metadata": {},
   "outputs": [
    {
     "data": {
      "text/html": [
       "<div>\n",
       "<style scoped>\n",
       "    .dataframe tbody tr th:only-of-type {\n",
       "        vertical-align: middle;\n",
       "    }\n",
       "\n",
       "    .dataframe tbody tr th {\n",
       "        vertical-align: top;\n",
       "    }\n",
       "\n",
       "    .dataframe thead th {\n",
       "        text-align: right;\n",
       "    }\n",
       "</style>\n",
       "<table border=\"1\" class=\"dataframe\">\n",
       "  <thead>\n",
       "    <tr style=\"text-align: right;\">\n",
       "      <th></th>\n",
       "      <th>target_column</th>\n",
       "      <th>timestamp</th>\n",
       "      <th>dbas_lin_mean</th>\n",
       "      <th>dbas_mean</th>\n",
       "      <th>dbas_max</th>\n",
       "    </tr>\n",
       "  </thead>\n",
       "  <tbody>\n",
       "    <tr>\n",
       "      <td>0</td>\n",
       "      <td>[1483246859.23, 62.054955, 61.132324, 67.0]</td>\n",
       "      <td>1.483247e+09</td>\n",
       "      <td>62.054955</td>\n",
       "      <td>61.132324</td>\n",
       "      <td>67.000000</td>\n",
       "    </tr>\n",
       "    <tr>\n",
       "      <td>1</td>\n",
       "      <td>[1483246919.25, 61.978256, 60.498814, 73.56]</td>\n",
       "      <td>1.483247e+09</td>\n",
       "      <td>61.978256</td>\n",
       "      <td>60.498814</td>\n",
       "      <td>73.559998</td>\n",
       "    </tr>\n",
       "    <tr>\n",
       "      <td>2</td>\n",
       "      <td>[1483246979.25, 67.13952, 64.938644, 75.52]</td>\n",
       "      <td>1.483247e+09</td>\n",
       "      <td>67.139519</td>\n",
       "      <td>64.938644</td>\n",
       "      <td>75.519997</td>\n",
       "    </tr>\n",
       "    <tr>\n",
       "      <td>3</td>\n",
       "      <td>[1483247039.25, 63.978664, 60.93949, 72.41]</td>\n",
       "      <td>1.483247e+09</td>\n",
       "      <td>63.978664</td>\n",
       "      <td>60.939491</td>\n",
       "      <td>72.410004</td>\n",
       "    </tr>\n",
       "    <tr>\n",
       "      <td>4</td>\n",
       "      <td>[1483247099.26, 62.555042, 60.661354, 71.73]</td>\n",
       "      <td>1.483247e+09</td>\n",
       "      <td>62.555042</td>\n",
       "      <td>60.661354</td>\n",
       "      <td>71.730003</td>\n",
       "    </tr>\n",
       "  </tbody>\n",
       "</table>\n",
       "</div>"
      ],
      "text/plain": [
       "                                  target_column     timestamp  dbas_lin_mean  \\\n",
       "0   [1483246859.23, 62.054955, 61.132324, 67.0]  1.483247e+09      62.054955   \n",
       "1  [1483246919.25, 61.978256, 60.498814, 73.56]  1.483247e+09      61.978256   \n",
       "2   [1483246979.25, 67.13952, 64.938644, 75.52]  1.483247e+09      67.139519   \n",
       "3   [1483247039.25, 63.978664, 60.93949, 72.41]  1.483247e+09      63.978664   \n",
       "4  [1483247099.26, 62.555042, 60.661354, 71.73]  1.483247e+09      62.555042   \n",
       "\n",
       "   dbas_mean   dbas_max  \n",
       "0  61.132324  67.000000  \n",
       "1  60.498814  73.559998  \n",
       "2  64.938644  75.519997  \n",
       "3  60.939491  72.410004  \n",
       "4  60.661354  71.730003  "
      ]
     },
     "execution_count": 32,
     "metadata": {},
     "output_type": "execute_result"
    }
   ],
   "source": [
    "df3.loc[:, 'timestamp'] = df3.target_column.map(lambda x: x[0])\n",
    "df3.loc[:, 'dbas_lin_mean'] = df3.target_column.map(lambda x: x[1])\n",
    "df3.loc[:, 'dbas_mean'] = df3.target_column.map(lambda x: x[2])\n",
    "df3.loc[:, 'dbas_max'] = df3.target_column.map(lambda x: x[3])\n",
    "df3.head()"
   ]
  },
  {
   "cell_type": "code",
   "execution_count": 33,
   "metadata": {},
   "outputs": [],
   "source": [
    "sensor3_2017_min_int_df = df3.drop(['target_column'], axis =1)"
   ]
  },
  {
   "cell_type": "code",
   "execution_count": 34,
   "metadata": {},
   "outputs": [],
   "source": [
    "#sensor3_2017_min_int_df['sensor#'] = 'sonycnode-b827eb86d458'"
   ]
  },
  {
   "cell_type": "code",
   "execution_count": 35,
   "metadata": {},
   "outputs": [
    {
     "data": {
      "text/html": [
       "<div>\n",
       "<style scoped>\n",
       "    .dataframe tbody tr th:only-of-type {\n",
       "        vertical-align: middle;\n",
       "    }\n",
       "\n",
       "    .dataframe tbody tr th {\n",
       "        vertical-align: top;\n",
       "    }\n",
       "\n",
       "    .dataframe thead th {\n",
       "        text-align: right;\n",
       "    }\n",
       "</style>\n",
       "<table border=\"1\" class=\"dataframe\">\n",
       "  <thead>\n",
       "    <tr style=\"text-align: right;\">\n",
       "      <th></th>\n",
       "      <th>timestamp</th>\n",
       "      <th>dbas_lin_mean</th>\n",
       "      <th>dbas_mean</th>\n",
       "      <th>dbas_max</th>\n",
       "    </tr>\n",
       "  </thead>\n",
       "  <tbody>\n",
       "    <tr>\n",
       "      <td>0</td>\n",
       "      <td>1.483247e+09</td>\n",
       "      <td>62.054955</td>\n",
       "      <td>61.132324</td>\n",
       "      <td>67.000000</td>\n",
       "    </tr>\n",
       "    <tr>\n",
       "      <td>1</td>\n",
       "      <td>1.483247e+09</td>\n",
       "      <td>61.978256</td>\n",
       "      <td>60.498814</td>\n",
       "      <td>73.559998</td>\n",
       "    </tr>\n",
       "    <tr>\n",
       "      <td>2</td>\n",
       "      <td>1.483247e+09</td>\n",
       "      <td>67.139519</td>\n",
       "      <td>64.938644</td>\n",
       "      <td>75.519997</td>\n",
       "    </tr>\n",
       "    <tr>\n",
       "      <td>3</td>\n",
       "      <td>1.483247e+09</td>\n",
       "      <td>63.978664</td>\n",
       "      <td>60.939491</td>\n",
       "      <td>72.410004</td>\n",
       "    </tr>\n",
       "    <tr>\n",
       "      <td>4</td>\n",
       "      <td>1.483247e+09</td>\n",
       "      <td>62.555042</td>\n",
       "      <td>60.661354</td>\n",
       "      <td>71.730003</td>\n",
       "    </tr>\n",
       "  </tbody>\n",
       "</table>\n",
       "</div>"
      ],
      "text/plain": [
       "      timestamp  dbas_lin_mean  dbas_mean   dbas_max\n",
       "0  1.483247e+09      62.054955  61.132324  67.000000\n",
       "1  1.483247e+09      61.978256  60.498814  73.559998\n",
       "2  1.483247e+09      67.139519  64.938644  75.519997\n",
       "3  1.483247e+09      63.978664  60.939491  72.410004\n",
       "4  1.483247e+09      62.555042  60.661354  71.730003"
      ]
     },
     "execution_count": 35,
     "metadata": {},
     "output_type": "execute_result"
    }
   ],
   "source": [
    "sensor3_2017_min_int_df.head()"
   ]
  },
  {
   "cell_type": "code",
   "execution_count": 36,
   "metadata": {},
   "outputs": [],
   "source": [
    "sensor3_2017_min_int_df['timestamp'] = pd.to_datetime(sensor3_2017_min_int_df['timestamp'], unit = \"s\")"
   ]
  },
  {
   "cell_type": "markdown",
   "metadata": {},
   "source": [
    "# Sensor 4 \n",
    "\n",
    "#### - sonycnode-b827eb905497.sonyc\n",
    "#### Kimmel Center\t60 Washington Square S, New York, NY 10012\n"
   ]
  },
  {
   "cell_type": "code",
   "execution_count": 37,
   "metadata": {},
   "outputs": [],
   "source": [
    "s4_2017 = h5py.File(config.dataFol+'spl/2017/sonycnode-b827eb905497.sonyc.h5', 'r')"
   ]
  },
  {
   "cell_type": "code",
   "execution_count": 38,
   "metadata": {},
   "outputs": [],
   "source": [
    "dset4 = s4_2017['minute_intervals']"
   ]
  },
  {
   "cell_type": "code",
   "execution_count": 39,
   "metadata": {},
   "outputs": [],
   "source": [
    "df4 = pd.DataFrame(dset4, columns = ['target_column'])\n"
   ]
  },
  {
   "cell_type": "code",
   "execution_count": 40,
   "metadata": {
    "scrolled": true
   },
   "outputs": [
    {
     "data": {
      "text/html": [
       "<div>\n",
       "<style scoped>\n",
       "    .dataframe tbody tr th:only-of-type {\n",
       "        vertical-align: middle;\n",
       "    }\n",
       "\n",
       "    .dataframe tbody tr th {\n",
       "        vertical-align: top;\n",
       "    }\n",
       "\n",
       "    .dataframe thead th {\n",
       "        text-align: right;\n",
       "    }\n",
       "</style>\n",
       "<table border=\"1\" class=\"dataframe\">\n",
       "  <thead>\n",
       "    <tr style=\"text-align: right;\">\n",
       "      <th></th>\n",
       "      <th>target_column</th>\n",
       "      <th>timestamp</th>\n",
       "      <th>dbas_lin_mean</th>\n",
       "      <th>dbas_mean</th>\n",
       "      <th>dbas_max</th>\n",
       "    </tr>\n",
       "  </thead>\n",
       "  <tbody>\n",
       "    <tr>\n",
       "      <td>0</td>\n",
       "      <td>[1483496279.12, 67.65112, 66.04513, 76.51]</td>\n",
       "      <td>1.483496e+09</td>\n",
       "      <td>67.651123</td>\n",
       "      <td>66.045128</td>\n",
       "      <td>76.510002</td>\n",
       "    </tr>\n",
       "    <tr>\n",
       "      <td>1</td>\n",
       "      <td>[1483496339.12, 66.96185, 64.7135, 77.19]</td>\n",
       "      <td>1.483496e+09</td>\n",
       "      <td>66.961853</td>\n",
       "      <td>64.713501</td>\n",
       "      <td>77.190002</td>\n",
       "    </tr>\n",
       "    <tr>\n",
       "      <td>2</td>\n",
       "      <td>[1483496399.68, 64.16872, 62.83353, 72.68]</td>\n",
       "      <td>1.483496e+09</td>\n",
       "      <td>64.168716</td>\n",
       "      <td>62.833530</td>\n",
       "      <td>72.680000</td>\n",
       "    </tr>\n",
       "    <tr>\n",
       "      <td>3</td>\n",
       "      <td>[1483496459.14, 60.71768, 60.404675, 65.08]</td>\n",
       "      <td>1.483496e+09</td>\n",
       "      <td>60.717682</td>\n",
       "      <td>60.404675</td>\n",
       "      <td>65.080002</td>\n",
       "    </tr>\n",
       "    <tr>\n",
       "      <td>4</td>\n",
       "      <td>[1483496519.15, 63.59528, 62.72477, 72.16]</td>\n",
       "      <td>1.483497e+09</td>\n",
       "      <td>63.595280</td>\n",
       "      <td>62.724770</td>\n",
       "      <td>72.160004</td>\n",
       "    </tr>\n",
       "  </tbody>\n",
       "</table>\n",
       "</div>"
      ],
      "text/plain": [
       "                                 target_column     timestamp  dbas_lin_mean  \\\n",
       "0   [1483496279.12, 67.65112, 66.04513, 76.51]  1.483496e+09      67.651123   \n",
       "1    [1483496339.12, 66.96185, 64.7135, 77.19]  1.483496e+09      66.961853   \n",
       "2   [1483496399.68, 64.16872, 62.83353, 72.68]  1.483496e+09      64.168716   \n",
       "3  [1483496459.14, 60.71768, 60.404675, 65.08]  1.483496e+09      60.717682   \n",
       "4   [1483496519.15, 63.59528, 62.72477, 72.16]  1.483497e+09      63.595280   \n",
       "\n",
       "   dbas_mean   dbas_max  \n",
       "0  66.045128  76.510002  \n",
       "1  64.713501  77.190002  \n",
       "2  62.833530  72.680000  \n",
       "3  60.404675  65.080002  \n",
       "4  62.724770  72.160004  "
      ]
     },
     "execution_count": 40,
     "metadata": {},
     "output_type": "execute_result"
    }
   ],
   "source": [
    "df4.loc[:, 'timestamp'] = df4.target_column.map(lambda x: x[0])\n",
    "df4.loc[:, 'dbas_lin_mean'] = df4.target_column.map(lambda x: x[1])\n",
    "df4.loc[:, 'dbas_mean'] = df4.target_column.map(lambda x: x[2])\n",
    "df4.loc[:, 'dbas_max'] = df4.target_column.map(lambda x: x[3])\n",
    "df4.head()"
   ]
  },
  {
   "cell_type": "code",
   "execution_count": 41,
   "metadata": {},
   "outputs": [],
   "source": [
    "sensor4_2017_min_int_df = df4.drop(['target_column'], axis =1)"
   ]
  },
  {
   "cell_type": "code",
   "execution_count": null,
   "metadata": {},
   "outputs": [],
   "source": []
  },
  {
   "cell_type": "code",
   "execution_count": 42,
   "metadata": {},
   "outputs": [],
   "source": [
    "sensor4_2017_min_int_df['timestamp'] = pd.to_datetime(sensor4_2017_min_int_df['timestamp'], unit = \"s\")"
   ]
  },
  {
   "cell_type": "markdown",
   "metadata": {},
   "source": [
    "# SENSOR 5\n",
    "\n",
    "#### - sonycnode-b827eb0fedda.sonyc\n",
    "#### Juan Carlos\tKing Juan Carlos I of Spain Center, 53 Washington Square S, New York, NY 10012"
   ]
  },
  {
   "cell_type": "code",
   "execution_count": 43,
   "metadata": {},
   "outputs": [],
   "source": [
    "s5_2017 = h5py.File(config.dataFol+'spl/2017/sonycnode-b827eb0fedda.sonyc.h5', 'r')"
   ]
  },
  {
   "cell_type": "code",
   "execution_count": 44,
   "metadata": {},
   "outputs": [],
   "source": [
    "dset5 = s5_2017['minute_intervals']"
   ]
  },
  {
   "cell_type": "code",
   "execution_count": 45,
   "metadata": {},
   "outputs": [],
   "source": [
    "df5 = pd.DataFrame(dset5, columns = ['target_column'])"
   ]
  },
  {
   "cell_type": "code",
   "execution_count": 46,
   "metadata": {},
   "outputs": [
    {
     "data": {
      "text/html": [
       "<div>\n",
       "<style scoped>\n",
       "    .dataframe tbody tr th:only-of-type {\n",
       "        vertical-align: middle;\n",
       "    }\n",
       "\n",
       "    .dataframe tbody tr th {\n",
       "        vertical-align: top;\n",
       "    }\n",
       "\n",
       "    .dataframe thead th {\n",
       "        text-align: right;\n",
       "    }\n",
       "</style>\n",
       "<table border=\"1\" class=\"dataframe\">\n",
       "  <thead>\n",
       "    <tr style=\"text-align: right;\">\n",
       "      <th></th>\n",
       "      <th>target_column</th>\n",
       "      <th>timestamp</th>\n",
       "      <th>dbas_lin_mean</th>\n",
       "      <th>dbas_mean</th>\n",
       "      <th>dbas_max</th>\n",
       "    </tr>\n",
       "  </thead>\n",
       "  <tbody>\n",
       "    <tr>\n",
       "      <td>0</td>\n",
       "      <td>[1483246859.5, 70.23042, 69.63875, 74.15]</td>\n",
       "      <td>1.483247e+09</td>\n",
       "      <td>70.230423</td>\n",
       "      <td>69.638748</td>\n",
       "      <td>74.150002</td>\n",
       "    </tr>\n",
       "    <tr>\n",
       "      <td>1</td>\n",
       "      <td>[1483246919.51, 59.767212, 58.888306, 64.16]</td>\n",
       "      <td>1.483247e+09</td>\n",
       "      <td>59.767212</td>\n",
       "      <td>58.888306</td>\n",
       "      <td>64.160004</td>\n",
       "    </tr>\n",
       "    <tr>\n",
       "      <td>2</td>\n",
       "      <td>[1483246979.52, 69.04428, 65.84152, 79.27]</td>\n",
       "      <td>1.483247e+09</td>\n",
       "      <td>69.044281</td>\n",
       "      <td>65.841522</td>\n",
       "      <td>79.269997</td>\n",
       "    </tr>\n",
       "    <tr>\n",
       "      <td>3</td>\n",
       "      <td>[1483247039.52, 58.78007, 58.308304, 65.26]</td>\n",
       "      <td>1.483247e+09</td>\n",
       "      <td>58.780071</td>\n",
       "      <td>58.308304</td>\n",
       "      <td>65.260002</td>\n",
       "    </tr>\n",
       "    <tr>\n",
       "      <td>4</td>\n",
       "      <td>[1483247099.53, 64.88857, 61.37305, 75.07]</td>\n",
       "      <td>1.483247e+09</td>\n",
       "      <td>64.888573</td>\n",
       "      <td>61.373051</td>\n",
       "      <td>75.070000</td>\n",
       "    </tr>\n",
       "  </tbody>\n",
       "</table>\n",
       "</div>"
      ],
      "text/plain": [
       "                                  target_column     timestamp  dbas_lin_mean  \\\n",
       "0     [1483246859.5, 70.23042, 69.63875, 74.15]  1.483247e+09      70.230423   \n",
       "1  [1483246919.51, 59.767212, 58.888306, 64.16]  1.483247e+09      59.767212   \n",
       "2    [1483246979.52, 69.04428, 65.84152, 79.27]  1.483247e+09      69.044281   \n",
       "3   [1483247039.52, 58.78007, 58.308304, 65.26]  1.483247e+09      58.780071   \n",
       "4    [1483247099.53, 64.88857, 61.37305, 75.07]  1.483247e+09      64.888573   \n",
       "\n",
       "   dbas_mean   dbas_max  \n",
       "0  69.638748  74.150002  \n",
       "1  58.888306  64.160004  \n",
       "2  65.841522  79.269997  \n",
       "3  58.308304  65.260002  \n",
       "4  61.373051  75.070000  "
      ]
     },
     "execution_count": 46,
     "metadata": {},
     "output_type": "execute_result"
    }
   ],
   "source": [
    "df5.loc[:, 'timestamp'] = df5.target_column.map(lambda x: x[0])\n",
    "df5.loc[:, 'dbas_lin_mean'] = df5.target_column.map(lambda x: x[1])\n",
    "df5.loc[:, 'dbas_mean'] = df5.target_column.map(lambda x: x[2])\n",
    "df5.loc[:, 'dbas_max'] = df5.target_column.map(lambda x: x[3])\n",
    "df5.head()"
   ]
  },
  {
   "cell_type": "code",
   "execution_count": 47,
   "metadata": {},
   "outputs": [
    {
     "data": {
      "text/html": [
       "<div>\n",
       "<style scoped>\n",
       "    .dataframe tbody tr th:only-of-type {\n",
       "        vertical-align: middle;\n",
       "    }\n",
       "\n",
       "    .dataframe tbody tr th {\n",
       "        vertical-align: top;\n",
       "    }\n",
       "\n",
       "    .dataframe thead th {\n",
       "        text-align: right;\n",
       "    }\n",
       "</style>\n",
       "<table border=\"1\" class=\"dataframe\">\n",
       "  <thead>\n",
       "    <tr style=\"text-align: right;\">\n",
       "      <th></th>\n",
       "      <th>timestamp</th>\n",
       "      <th>dbas_lin_mean</th>\n",
       "      <th>dbas_mean</th>\n",
       "      <th>dbas_max</th>\n",
       "    </tr>\n",
       "  </thead>\n",
       "  <tbody>\n",
       "    <tr>\n",
       "      <td>0</td>\n",
       "      <td>1.483247e+09</td>\n",
       "      <td>70.230423</td>\n",
       "      <td>69.638748</td>\n",
       "      <td>74.150002</td>\n",
       "    </tr>\n",
       "    <tr>\n",
       "      <td>1</td>\n",
       "      <td>1.483247e+09</td>\n",
       "      <td>59.767212</td>\n",
       "      <td>58.888306</td>\n",
       "      <td>64.160004</td>\n",
       "    </tr>\n",
       "    <tr>\n",
       "      <td>2</td>\n",
       "      <td>1.483247e+09</td>\n",
       "      <td>69.044281</td>\n",
       "      <td>65.841522</td>\n",
       "      <td>79.269997</td>\n",
       "    </tr>\n",
       "    <tr>\n",
       "      <td>3</td>\n",
       "      <td>1.483247e+09</td>\n",
       "      <td>58.780071</td>\n",
       "      <td>58.308304</td>\n",
       "      <td>65.260002</td>\n",
       "    </tr>\n",
       "    <tr>\n",
       "      <td>4</td>\n",
       "      <td>1.483247e+09</td>\n",
       "      <td>64.888573</td>\n",
       "      <td>61.373051</td>\n",
       "      <td>75.070000</td>\n",
       "    </tr>\n",
       "  </tbody>\n",
       "</table>\n",
       "</div>"
      ],
      "text/plain": [
       "      timestamp  dbas_lin_mean  dbas_mean   dbas_max\n",
       "0  1.483247e+09      70.230423  69.638748  74.150002\n",
       "1  1.483247e+09      59.767212  58.888306  64.160004\n",
       "2  1.483247e+09      69.044281  65.841522  79.269997\n",
       "3  1.483247e+09      58.780071  58.308304  65.260002\n",
       "4  1.483247e+09      64.888573  61.373051  75.070000"
      ]
     },
     "execution_count": 47,
     "metadata": {},
     "output_type": "execute_result"
    }
   ],
   "source": [
    "sensor5_2017_min_int_df = df5.drop(['target_column'], axis =1)\n",
    "sensor5_2017_min_int_df.head()"
   ]
  },
  {
   "cell_type": "code",
   "execution_count": 48,
   "metadata": {},
   "outputs": [],
   "source": [
    "sensor5_2017_min_int_df['timestamp'] = pd.to_datetime(sensor5_2017_min_int_df['timestamp'], unit = \"s\")"
   ]
  },
  {
   "cell_type": "markdown",
   "metadata": {},
   "source": [
    "# SENSOR 6\n",
    "\n",
    "#### - sonycnode-b827eb1685c7.sonyc\n",
    "#### Shimkin Reading Room\t35-51 West 4th Street, New York, NY 10012\n"
   ]
  },
  {
   "cell_type": "code",
   "execution_count": 49,
   "metadata": {},
   "outputs": [],
   "source": [
    "s6_2017 = h5py.File(config.dataFol+'spl/2017/sonycnode-b827eb1685c7.sonyc.h5', 'r')"
   ]
  },
  {
   "cell_type": "code",
   "execution_count": 50,
   "metadata": {},
   "outputs": [],
   "source": [
    "dset6 = s6_2017['minute_intervals']"
   ]
  },
  {
   "cell_type": "code",
   "execution_count": 51,
   "metadata": {},
   "outputs": [],
   "source": [
    "df6 = pd.DataFrame(dset6, columns = ['target_column'])"
   ]
  },
  {
   "cell_type": "code",
   "execution_count": 52,
   "metadata": {},
   "outputs": [
    {
     "data": {
      "text/html": [
       "<div>\n",
       "<style scoped>\n",
       "    .dataframe tbody tr th:only-of-type {\n",
       "        vertical-align: middle;\n",
       "    }\n",
       "\n",
       "    .dataframe tbody tr th {\n",
       "        vertical-align: top;\n",
       "    }\n",
       "\n",
       "    .dataframe thead th {\n",
       "        text-align: right;\n",
       "    }\n",
       "</style>\n",
       "<table border=\"1\" class=\"dataframe\">\n",
       "  <thead>\n",
       "    <tr style=\"text-align: right;\">\n",
       "      <th></th>\n",
       "      <th>target_column</th>\n",
       "      <th>timestamp</th>\n",
       "      <th>dbas_lin_mean</th>\n",
       "      <th>dbas_mean</th>\n",
       "      <th>dbas_max</th>\n",
       "    </tr>\n",
       "  </thead>\n",
       "  <tbody>\n",
       "    <tr>\n",
       "      <td>0</td>\n",
       "      <td>[1484936519.2, 65.790405, 64.380714, 73.78]</td>\n",
       "      <td>1.484937e+09</td>\n",
       "      <td>65.790405</td>\n",
       "      <td>64.380714</td>\n",
       "      <td>73.779999</td>\n",
       "    </tr>\n",
       "    <tr>\n",
       "      <td>1</td>\n",
       "      <td>[1484936579.21, 64.58518, 64.10567, 70.98]</td>\n",
       "      <td>1.484937e+09</td>\n",
       "      <td>64.585182</td>\n",
       "      <td>64.105667</td>\n",
       "      <td>70.980003</td>\n",
       "    </tr>\n",
       "    <tr>\n",
       "      <td>2</td>\n",
       "      <td>[1484936594.21, 62.332256, 62.322, 62.96]</td>\n",
       "      <td>1.484937e+09</td>\n",
       "      <td>62.332256</td>\n",
       "      <td>62.321999</td>\n",
       "      <td>62.959999</td>\n",
       "    </tr>\n",
       "    <tr>\n",
       "      <td>3</td>\n",
       "      <td>[1484940098.72, 62.32707, 62.31, 62.72]</td>\n",
       "      <td>1.484940e+09</td>\n",
       "      <td>62.327068</td>\n",
       "      <td>62.310001</td>\n",
       "      <td>62.720001</td>\n",
       "    </tr>\n",
       "    <tr>\n",
       "      <td>4</td>\n",
       "      <td>[1484940179.41, 64.721664, 63.96205, 71.32]</td>\n",
       "      <td>1.484940e+09</td>\n",
       "      <td>64.721664</td>\n",
       "      <td>63.962051</td>\n",
       "      <td>71.320000</td>\n",
       "    </tr>\n",
       "  </tbody>\n",
       "</table>\n",
       "</div>"
      ],
      "text/plain": [
       "                                 target_column     timestamp  dbas_lin_mean  \\\n",
       "0  [1484936519.2, 65.790405, 64.380714, 73.78]  1.484937e+09      65.790405   \n",
       "1   [1484936579.21, 64.58518, 64.10567, 70.98]  1.484937e+09      64.585182   \n",
       "2    [1484936594.21, 62.332256, 62.322, 62.96]  1.484937e+09      62.332256   \n",
       "3      [1484940098.72, 62.32707, 62.31, 62.72]  1.484940e+09      62.327068   \n",
       "4  [1484940179.41, 64.721664, 63.96205, 71.32]  1.484940e+09      64.721664   \n",
       "\n",
       "   dbas_mean   dbas_max  \n",
       "0  64.380714  73.779999  \n",
       "1  64.105667  70.980003  \n",
       "2  62.321999  62.959999  \n",
       "3  62.310001  62.720001  \n",
       "4  63.962051  71.320000  "
      ]
     },
     "execution_count": 52,
     "metadata": {},
     "output_type": "execute_result"
    }
   ],
   "source": [
    "df6.loc[:, 'timestamp'] = df6.target_column.map(lambda x: x[0])\n",
    "df6.loc[:, 'dbas_lin_mean'] = df6.target_column.map(lambda x: x[1])\n",
    "df6.loc[:, 'dbas_mean'] = df6.target_column.map(lambda x: x[2])\n",
    "df6.loc[:, 'dbas_max'] = df6.target_column.map(lambda x: x[3])\n",
    "df6.head()"
   ]
  },
  {
   "cell_type": "code",
   "execution_count": 53,
   "metadata": {},
   "outputs": [
    {
     "data": {
      "text/html": [
       "<div>\n",
       "<style scoped>\n",
       "    .dataframe tbody tr th:only-of-type {\n",
       "        vertical-align: middle;\n",
       "    }\n",
       "\n",
       "    .dataframe tbody tr th {\n",
       "        vertical-align: top;\n",
       "    }\n",
       "\n",
       "    .dataframe thead th {\n",
       "        text-align: right;\n",
       "    }\n",
       "</style>\n",
       "<table border=\"1\" class=\"dataframe\">\n",
       "  <thead>\n",
       "    <tr style=\"text-align: right;\">\n",
       "      <th></th>\n",
       "      <th>timestamp</th>\n",
       "      <th>dbas_lin_mean</th>\n",
       "      <th>dbas_mean</th>\n",
       "      <th>dbas_max</th>\n",
       "    </tr>\n",
       "  </thead>\n",
       "  <tbody>\n",
       "    <tr>\n",
       "      <td>0</td>\n",
       "      <td>1.484937e+09</td>\n",
       "      <td>65.790405</td>\n",
       "      <td>64.380714</td>\n",
       "      <td>73.779999</td>\n",
       "    </tr>\n",
       "    <tr>\n",
       "      <td>1</td>\n",
       "      <td>1.484937e+09</td>\n",
       "      <td>64.585182</td>\n",
       "      <td>64.105667</td>\n",
       "      <td>70.980003</td>\n",
       "    </tr>\n",
       "    <tr>\n",
       "      <td>2</td>\n",
       "      <td>1.484937e+09</td>\n",
       "      <td>62.332256</td>\n",
       "      <td>62.321999</td>\n",
       "      <td>62.959999</td>\n",
       "    </tr>\n",
       "    <tr>\n",
       "      <td>3</td>\n",
       "      <td>1.484940e+09</td>\n",
       "      <td>62.327068</td>\n",
       "      <td>62.310001</td>\n",
       "      <td>62.720001</td>\n",
       "    </tr>\n",
       "    <tr>\n",
       "      <td>4</td>\n",
       "      <td>1.484940e+09</td>\n",
       "      <td>64.721664</td>\n",
       "      <td>63.962051</td>\n",
       "      <td>71.320000</td>\n",
       "    </tr>\n",
       "  </tbody>\n",
       "</table>\n",
       "</div>"
      ],
      "text/plain": [
       "      timestamp  dbas_lin_mean  dbas_mean   dbas_max\n",
       "0  1.484937e+09      65.790405  64.380714  73.779999\n",
       "1  1.484937e+09      64.585182  64.105667  70.980003\n",
       "2  1.484937e+09      62.332256  62.321999  62.959999\n",
       "3  1.484940e+09      62.327068  62.310001  62.720001\n",
       "4  1.484940e+09      64.721664  63.962051  71.320000"
      ]
     },
     "execution_count": 53,
     "metadata": {},
     "output_type": "execute_result"
    }
   ],
   "source": [
    "sensor6_2017_min_int_df = df6.drop(['target_column'], axis =1)\n",
    "sensor6_2017_min_int_df.head()"
   ]
  },
  {
   "cell_type": "markdown",
   "metadata": {},
   "source": [
    "sensor6_2017_min_int_df['timestamp'] = pd.to_datetime(sensor6_2017_min_int_df['timestamp'], unit = \"s\")"
   ]
  },
  {
   "cell_type": "markdown",
   "metadata": {},
   "source": [
    "## WRITE CSV\n",
    "\n",
    "\n"
   ]
  },
  {
   "cell_type": "code",
   "execution_count": 63,
   "metadata": {},
   "outputs": [],
   "source": [
    "### SENSOR 1\n",
    "\n",
    "sensor1_2017_min_int_df.to_csv('/gws_gpfs/projects/project-urban_birds/workspace/share/data/clean_spl/sonycnode-b827eb815321-2017.csv')\n",
    "\n",
    "### SENSOR 2\n",
    "\n",
    "sensor2_2017_min_int_df.to_csv('/gws_gpfs/projects/project-urban_birds/workspace/share/data/clean_spl/sonycnode-b827eb8e2420-2017.csv')\n",
    "\n",
    "### SENSOR 3\n",
    "\n",
    "sensor3_2017_min_int_df.to_csv('/gws_gpfs/projects/project-urban_birds/workspace/share/data/clean_spl/sonycnode-b827eb86d458-2017.csv')\n",
    "\n",
    "### SENSOR 4\n",
    "\n",
    "sensor4_2017_min_int_df.to_csv('/gws_gpfs/projects/project-urban_birds/workspace/share/data/clean_spl/sonycnode-b827eb905497-2017.csv')\n",
    "\n",
    "### SENSOR 5\n",
    "\n",
    "sensor5_2017_min_int_df.to_csv('/gws_gpfs/projects/project-urban_birds/workspace/share/data/clean_spl/sonycnode-b827eb0fedda-2017.csv')\n",
    "\n",
    "### SENSOR 6\n",
    "\n",
    "sensor6_2017_min_int_df.to_csv('/gws_gpfs/projects/project-urban_birds/workspace/share/data/clean_spl/sonycnode-b827eb1685c7-2017.csv')\n"
   ]
  },
  {
   "cell_type": "code",
   "execution_count": 55,
   "metadata": {},
   "outputs": [],
   "source": [
    "### MEI DATA "
   ]
  },
  {
   "cell_type": "code",
   "execution_count": 56,
   "metadata": {},
   "outputs": [],
   "source": [
    "\n",
    "#spl2017 = [f for f in listdir(config.dataFol+'spl/2017') if isfile(join(config.dataFol+'spl/2017', f))]\n",
    "#spl2018 = [f for f in listdir(config.dataFol+'spl/2018') if isfile(join(config.dataFol+'spl/2018', f))]"
   ]
  },
  {
   "cell_type": "code",
   "execution_count": 57,
   "metadata": {},
   "outputs": [],
   "source": [
    "#print(\"# spl 2017 sensors: {0}\\n# spl 2018 sensors: {1}\".format(len(spl2017), len(spl2018)))\n"
   ]
  },
  {
   "cell_type": "code",
   "execution_count": 58,
   "metadata": {},
   "outputs": [],
   "source": [
    "#spl2017_data = {}\n",
    "#for i in range(len(spl2017)):\n",
    "#    spl2017_data[spl2017[i]] = h5py.File(config.dataFol+'spl/2017/'+spl2017[i],'r')"
   ]
  },
  {
   "cell_type": "code",
   "execution_count": 59,
   "metadata": {},
   "outputs": [],
   "source": [
    "#spl2018_data = {}\n",
    "#for i in range(len(spl2018)):\n",
    "#    spl2018_data[spl2018[i]] = h5py.File(config.dataFol+'spl/2018/'+spl2018[i],'r')\n"
   ]
  },
  {
   "cell_type": "code",
   "execution_count": 60,
   "metadata": {},
   "outputs": [],
   "source": [
    "#x_val = [datetime.datetime.fromtimestamp(x[0]).strftime('%Y-%m-%d %H:%M:%S') for x in spl2017_data[spl2017[0]]['minute_intervals']]\n",
    "#y_val = [x[1] for x in spl2017_data[spl2017[0]]['minute_intervals']]\n",
    "\n",
    "#plt.plot(x_val,y_val)\n",
    "#plt.plot(x_val,y_val,'or')\n",
    "#plt.show()"
   ]
  },
  {
   "cell_type": "code",
   "execution_count": 61,
   "metadata": {},
   "outputs": [],
   "source": [
    "#datetime.datetime.fromtimestamp(h5['minute_intervals'][0][0]).strftime('%Y-%m-%d %H:%M:%S')"
   ]
  },
  {
   "cell_type": "code",
   "execution_count": 62,
   "metadata": {},
   "outputs": [],
   "source": [
    "# using sound data to confirm the biorad data"
   ]
  }
 ],
 "metadata": {
  "kernelspec": {
   "display_name": "birdsVE3.7",
   "language": "python",
   "name": "birdsve3.7"
  },
  "language_info": {
   "codemirror_mode": {
    "name": "ipython",
    "version": 3
   },
   "file_extension": ".py",
   "mimetype": "text/x-python",
   "name": "python",
   "nbconvert_exporter": "python",
   "pygments_lexer": "ipython3",
   "version": "3.7.6"
  }
 },
 "nbformat": 4,
 "nbformat_minor": 2
}
