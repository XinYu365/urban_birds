{
 "cells": [
  {
   "cell_type": "code",
   "execution_count": 1,
   "metadata": {},
   "outputs": [
    {
     "ename": "NameError",
     "evalue": "name 'sys' is not defined",
     "output_type": "error",
     "traceback": [
      "\u001b[0;31m---------------------------------------------------------------------------\u001b[0m",
      "\u001b[0;31mNameError\u001b[0m                                 Traceback (most recent call last)",
      "\u001b[0;32m<ipython-input-1-f2f6ed2e943f>\u001b[0m in \u001b[0;36m<module>\u001b[0;34m\u001b[0m\n\u001b[1;32m      9\u001b[0m \u001b[0mget_ipython\u001b[0m\u001b[0;34m(\u001b[0m\u001b[0;34m)\u001b[0m\u001b[0;34m.\u001b[0m\u001b[0mrun_line_magic\u001b[0m\u001b[0;34m(\u001b[0m\u001b[0;34m'matplotlib'\u001b[0m\u001b[0;34m,\u001b[0m \u001b[0;34m'inline'\u001b[0m\u001b[0;34m)\u001b[0m\u001b[0;34m\u001b[0m\u001b[0;34m\u001b[0m\u001b[0m\n\u001b[1;32m     10\u001b[0m \u001b[0;34m\u001b[0m\u001b[0m\n\u001b[0;32m---> 11\u001b[0;31m \u001b[0msys\u001b[0m\u001b[0;34m.\u001b[0m\u001b[0mpath\u001b[0m\u001b[0;34m.\u001b[0m\u001b[0mappend\u001b[0m\u001b[0;34m(\u001b[0m\u001b[0;34m'../'\u001b[0m\u001b[0;34m)\u001b[0m\u001b[0;34m\u001b[0m\u001b[0;34m\u001b[0m\u001b[0m\n\u001b[0m\u001b[1;32m     12\u001b[0m \u001b[0;32mfrom\u001b[0m \u001b[0menvir\u001b[0m \u001b[0;32mimport\u001b[0m \u001b[0mconfig\u001b[0m\u001b[0;34m\u001b[0m\u001b[0;34m\u001b[0m\u001b[0m\n",
      "\u001b[0;31mNameError\u001b[0m: name 'sys' is not defined"
     ]
    }
   ],
   "source": [
    "import datetime\n",
    "from os import listdir\n",
    "from os.path import isfile, join\n",
    "import numpy as np \n",
    "import pandas as pd\n",
    "import h5py\n",
    "\n",
    "import matplotlib.pyplot as plt\n",
    "%matplotlib inline\n",
    "\n",
    "sys.path.append('../')\n",
    "from envir import config"
   ]
  },
  {
   "cell_type": "code",
   "execution_count": null,
   "metadata": {},
   "outputs": [],
   "source": [
    "sensors = pd.read_json(config.dataFol+\"sonyc_test.collection.json\")\n"
   ]
  },
  {
   "cell_type": "code",
   "execution_count": null,
   "metadata": {},
   "outputs": [],
   "source": [
    "sensors.fqdn"
   ]
  },
  {
   "cell_type": "code",
   "execution_count": null,
   "metadata": {},
   "outputs": [],
   "source": [
    "\n",
    "spl2017 = [f for f in listdir(config.dataFol+'spl/2017') if isfile(join(config.dataFol+'spl/2017', f))]\n",
    "spl2018 = [f for f in listdir(config.dataFol+'spl/2018') if isfile(join(config.dataFol+'spl/2018', f))]"
   ]
  },
  {
   "cell_type": "code",
   "execution_count": null,
   "metadata": {},
   "outputs": [],
   "source": [
    "print(\"# spl 2017 sensors: {0}\\n# spl 2018 sensors: {1}\".format(len(spl2017), len(spl2018)))\n"
   ]
  },
  {
   "cell_type": "code",
   "execution_count": null,
   "metadata": {},
   "outputs": [],
   "source": [
    "spl2017_data = {}\n",
    "for i in range(len(spl2017)):\n",
    "    spl2017_data[spl2017[i]] = h5py.File(config.dataFol+'spl/2017/'+spl2017[i],'r')"
   ]
  },
  {
   "cell_type": "code",
   "execution_count": null,
   "metadata": {},
   "outputs": [],
   "source": [
    "spl2018_data = {}\n",
    "for i in range(len(spl2018)):\n",
    "    spl2018_data[spl2018[i]] = h5py.File(config.dataFol+'spl/2018/'+spl2018[i],'r')\n"
   ]
  },
  {
   "cell_type": "code",
   "execution_count": null,
   "metadata": {},
   "outputs": [],
   "source": [
    "x_val = [datetime.datetime.fromtimestamp(x[0]).strftime('%Y-%m-%d %H:%M:%S') for x in spl2017_data[spl2017[0]]['minute_intervals']]\n",
    "y_val = [x[1] for x in spl2017_data[spl2017[0]]['minute_intervals']]\n",
    "\n",
    "plt.plot(x_val,y_val)\n",
    "plt.plot(x_val,y_val,'or')\n",
    "plt.show()"
   ]
  },
  {
   "cell_type": "code",
   "execution_count": null,
   "metadata": {},
   "outputs": [],
   "source": [
    "datetime.datetime.fromtimestamp(h5['minute_intervals'][0][0]).strftime('%Y-%m-%d %H:%M:%S')"
   ]
  },
  {
   "cell_type": "code",
   "execution_count": null,
   "metadata": {},
   "outputs": [],
   "source": [
    "# using sound data to confirm the biorad data"
   ]
  }
 ],
 "metadata": {
  "kernelspec": {
   "display_name": "birdsVE3.7",
   "language": "python",
   "name": "birdsve3.7"
  }
 },
 "nbformat": 4,
 "nbformat_minor": 2
}
