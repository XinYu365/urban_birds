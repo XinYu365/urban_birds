{
 "cells": [
  {
   "cell_type": "code",
   "execution_count": 1,
   "metadata": {},
   "outputs": [],
   "source": [
    "import sys\n",
    "import datetime\n",
    "from os import listdir\n",
    "from os.path import isfile, join\n",
    "import numpy as np \n",
    "import pandas as pd\n",
    "import h5py \n",
    "\n",
    "sys.path.append('../')\n",
    "from envir import config"
   ]
  },
  {
   "cell_type": "code",
   "execution_count": 2,
   "metadata": {},
   "outputs": [],
   "source": [
    "sensors = pd.read_json(config.dataFol+\"sonyc_test.collection.json\")"
   ]
  },
  {
   "cell_type": "code",
   "execution_count": 3,
   "metadata": {},
   "outputs": [
    {
     "data": {
      "text/plain": [
       "0      sonycnode-b827ebed47a6.sonyc\n",
       "1      sonycnode-b827eb74a9e8.sonyc\n",
       "2      sonycnode-b827ebafe148.sonyc\n",
       "3      sonycnode-b827ebe3b72c.sonyc\n",
       "4      sonycnode-b827eb0535b8.sonyc\n",
       "                   ...             \n",
       "96     sonycnode-b827ebc6dcc6.sonyc\n",
       "97     sonycnode-b827eb0fedda.sonyc\n",
       "98     sonycnode-b827ebcf5bfc.sonyc\n",
       "99     sonycnode-b827eb132382.sonyc\n",
       "100                       foo.sonyc\n",
       "Name: fqdn, Length: 101, dtype: object"
      ]
     },
     "execution_count": 3,
     "metadata": {},
     "output_type": "execute_result"
    }
   ],
   "source": [
    "sensors.fqdn # name of the sensors"
   ]
  },
  {
   "cell_type": "code",
   "execution_count": 5,
   "metadata": {},
   "outputs": [],
   "source": [
    "spl2017 = [f for f in listdir(config.dataFol+'spl/2017') if isfile(join(config.dataFol+'spl/2017', f))]\n",
    "spl2018 = [f for f in listdir(config.dataFol+'spl/2018') if isfile(join(config.dataFol+'spl/2018', f))]"
   ]
  },
  {
   "cell_type": "code",
   "execution_count": 11,
   "metadata": {},
   "outputs": [
    {
     "name": "stdout",
     "output_type": "stream",
     "text": [
      "# spl 2017 sensors: 62\n",
      "# spl 2018 sensors: 58\n"
     ]
    }
   ],
   "source": [
    "print(\"# spl 2017 sensors: {0}\\n# spl 2018 sensors: {1}\".format(len(spl2017), len(spl2018)))"
   ]
  },
  {
   "cell_type": "code",
   "execution_count": 13,
   "metadata": {},
   "outputs": [],
   "source": [
    "spl2017_data = {}\n",
    "for i in range(len(spl2017)):\n",
    "    spl2017_data[spl2017[i]] = h5py.File(config.dataFol+'spl/2017/'+spl2017[i],'r')"
   ]
  },
  {
   "cell_type": "code",
   "execution_count": 19,
   "metadata": {},
   "outputs": [],
   "source": [
    "spl2018_data = {}\n",
    "for i in range(len(spl2018)):\n",
    "    spl2018_data[spl2018[i]] = h5py.File(config.dataFol+'spl/2018/'+spl2018[i],'r')"
   ]
  },
  {
   "cell_type": "code",
   "execution_count": 23,
   "metadata": {},
   "outputs": [
    {
     "data": {
      "text/plain": [
       "298480"
      ]
     },
     "execution_count": 23,
     "metadata": {},
     "output_type": "execute_result"
    }
   ],
   "source": [
    "len(spl2018_data[spl2018[1]]['minute_intervals'])"
   ]
  },
  {
   "cell_type": "code",
   "execution_count": 11,
   "metadata": {},
   "outputs": [
    {
     "data": {
      "text/plain": [
       "'2017-01-13 15:14:59'"
      ]
     },
     "execution_count": 11,
     "metadata": {},
     "output_type": "execute_result"
    }
   ],
   "source": [
    "datetime.datetime.fromtimestamp(h5['minute_intervals'][0][0]).strftime('%Y-%m-%d %H:%M:%S')"
   ]
  },
  {
   "cell_type": "code",
   "execution_count": null,
   "metadata": {},
   "outputs": [],
   "source": [
    "# using sound data to confirm the biorad data"
   ]
  }
 ],
 "metadata": {
  "kernelspec": {
   "display_name": "birdsVE3.7",
   "language": "python",
   "name": "birdsve3.7"
  },
  "language_info": {
   "codemirror_mode": {
    "name": "ipython",
    "version": 3
   },
   "file_extension": ".py",
   "mimetype": "text/x-python",
   "name": "python",
   "nbconvert_exporter": "python",
   "pygments_lexer": "ipython3",
   "version": "3.7.4"
  }
 },
 "nbformat": 4,
 "nbformat_minor": 2
}
