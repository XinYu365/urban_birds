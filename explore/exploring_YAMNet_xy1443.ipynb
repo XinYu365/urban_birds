{
 "cells": [
  {
   "cell_type": "code",
   "execution_count": 130,
   "metadata": {},
   "outputs": [],
   "source": [
    "import sys\n",
    "import h5py\n",
    "import datetime\n",
    "import numpy as np\n",
    "import pandas as pd\n",
    "import matplotlib.pyplot as plt\n",
    "from itertools import compress \n",
    "\n",
    "sys.path.append('../')\n",
    "from envir import config"
   ]
  },
  {
   "cell_type": "code",
   "execution_count": 20,
   "metadata": {},
   "outputs": [
    {
     "data": {
      "text/plain": [
       "'/gws_gpfs/projects/project-urban_birds/workspace/share/data/spl/2017/sonycnode-b827eb0d8af7.sonyc.h5'"
      ]
     },
     "execution_count": 20,
     "metadata": {},
     "output_type": "execute_result"
    }
   ],
   "source": [
    "#Example: print file path\n",
    "config.dataFol+'spl/2017/sonycnode-b827eb0d8af7.sonyc.h5'"
   ]
  },
  {
   "cell_type": "code",
   "execution_count": 21,
   "metadata": {},
   "outputs": [],
   "source": [
    "#Example: read in h5 file\n",
    "f = h5py.File(config.dataFol+'/spl/2017/sonycnode-b827eb0d8af7.sonyc.h5','r')"
   ]
  },
  {
   "cell_type": "markdown",
   "metadata": {},
   "source": [
    "## Explore the dense bird data (#1 class, 22 sensors, 4 years) "
   ]
  },
  {
   "cell_type": "markdown",
   "metadata": {},
   "source": [
    "### I. Start with 1 sensor"
   ]
  },
  {
   "cell_type": "code",
   "execution_count": 22,
   "metadata": {},
   "outputs": [
    {
     "data": {
      "text/plain": [
       "'/gws_gpfs/projects/project-urban_birds/workspace/share/data/YAMNet/dense-bird/b827eb0d8af7_yamnet-pred-bird.h5'"
      ]
     },
     "execution_count": 22,
     "metadata": {},
     "output_type": "execute_result"
    }
   ],
   "source": [
    "#path of sensor: b827eb0d8af7 \n",
    "config.dataFol+'YAMNet/dense-bird/b827eb0d8af7_yamnet-pred-bird.h5'"
   ]
  },
  {
   "cell_type": "code",
   "execution_count": null,
   "metadata": {},
   "outputs": [],
   "source": [
    "#read in file\n",
    "sensor = h5py.File(config.dataFol+'YAMNet/dense-bird/b827eb0d8af7_yamnet-pred-bird.h5','r')"
   ]
  },
  {
   "cell_type": "code",
   "execution_count": null,
   "metadata": {},
   "outputs": [],
   "source": [
    "#The keys are named after sensor_name_timestamp with an interval of 10 seconds\n",
    "list(sensor.keys())[:5] "
   ]
  },
  {
   "cell_type": "code",
   "execution_count": 80,
   "metadata": {},
   "outputs": [
    {
     "name": "stdout",
     "output_type": "stream",
     "text": [
      "Start Timestamp:  2017-02-24 00:00:10\n",
      "End Timstamp:  2020-03-24 23:59:26\n"
     ]
    }
   ],
   "source": [
    "#Print the Start timestamp and end timestamp\n",
    "timeStart = float(min(sensor.keys()).split('_')[1])\n",
    "timeEnd = float(max(sensor.keys()).split('_')[1])\n",
    "print('Start Timestamp: ',datetime.datetime.fromtimestamp(timeStart).strftime('%Y-%m-%d %H:%M:%S'))\n",
    "print('End Timstamp: ',datetime.datetime.fromtimestamp(timeEnd).strftime('%Y-%m-%d %H:%M:%S'))"
   ]
  },
  {
   "cell_type": "code",
   "execution_count": 185,
   "metadata": {},
   "outputs": [
    {
     "name": "stdout",
     "output_type": "stream",
     "text": [
      "time2:  2017-02-24 00:01:10\n",
      "time2:  2017-02-24 00:02:13\n",
      "time2:  2017-02-24 00:03:15\n"
     ]
    }
   ],
   "source": [
    "time2 = 1487912470.39\n",
    "print('time2: ',datetime.datetime.fromtimestamp(time2).strftime('%Y-%m-%d %H:%M:%S'))\n",
    "time2 = 1487912533.50\n",
    "print('time2: ',datetime.datetime.fromtimestamp(time2).strftime('%Y-%m-%d %H:%M:%S'))\n",
    "time2 = 1487912595.01\n",
    "print('time2: ',datetime.datetime.fromtimestamp(time2).strftime('%Y-%m-%d %H:%M:%S'))\n"
   ]
  },
  {
   "cell_type": "markdown",
   "metadata": {},
   "source": [
    "#### Take a look at the first key"
   ]
  },
  {
   "cell_type": "code",
   "execution_count": 81,
   "metadata": {},
   "outputs": [
    {
     "name": "stdout",
     "output_type": "stream",
     "text": [
      "Shape:  (19,)\n",
      "Data Type:  float32\n",
      "19 predictions:  [0.01641705 0.00660421 0.00527448 0.00369878 0.00204709 0.00676622\n",
      " 0.0045423  0.01119252 0.00244132 0.01200761 0.03924123 0.01284725\n",
      " 0.01158993 0.00750579 0.01904794 0.04578009 0.03885683 0.01679826\n",
      " 0.00417646]\n",
      "Mean predictions: 0.014043966\n"
     ]
    }
   ],
   "source": [
    "#Print the data shape and data type of the first timestamp \n",
    "dset = sensor['b827eb0d8af7_1487912410.99']\n",
    "print('Shape: ',dset.shape)\n",
    "print('Data Type: ',dset.dtype)\n",
    "\n",
    "#Print the data values and average of the first timestamp\n",
    "n1 = np.array(dset)\n",
    "print('19 predictions: ',n1)\n",
    "print('Mean predictions:',n1.mean())"
   ]
  },
  {
   "cell_type": "markdown",
   "metadata": {},
   "source": [
    "2017-02-24 00:00:10 2017-03-20 12:28:17\n",
    "\n",
    "2018-02-24 00:00:16 2018-03-24 23:59:13\n",
    "\n",
    "2019-02-24 00:00:32 2019-03-24 23:59:23\n",
    "\n",
    "2020-02-24 00:00:32 2020-03-24 23:59:26\n"
   ]
  },
  {
   "cell_type": "markdown",
   "metadata": {},
   "source": [
    "#### Get timestamps, datetime, average prediction for all keys"
   ]
  },
  {
   "cell_type": "code",
   "execution_count": 93,
   "metadata": {},
   "outputs": [],
   "source": [
    "#Get all timestamps in this sensor dataset\n",
    "timestamps = [datetime.datetime.fromtimestamp(float(time.split('_')[1])).strftime('%Y-%m-%d %H:%M:%S') \\\n",
    "              for time in list(sensor.keys())]\n",
    "#Get all days in this sensor dataset\n",
    "days = set([timestamp[:10] for timestamp in timestamps])"
   ]
  },
  {
   "cell_type": "code",
   "execution_count": 96,
   "metadata": {},
   "outputs": [],
   "source": [
    "#Calculate the average prediction for each timestamp (every ten seconds)\n",
    "average_pred = [np.array(sensor[timestamp]).mean() for timestamp in sensor.keys()]"
   ]
  },
  {
   "cell_type": "code",
   "execution_count": 97,
   "metadata": {},
   "outputs": [
    {
     "name": "stdout",
     "output_type": "stream",
     "text": [
      "Number of timstamps : 128580\n",
      "Number of datetime (year-month-day): 114\n",
      "Number of average predictions: 128580\n"
     ]
    }
   ],
   "source": [
    "print('Number of timstamps :',len(timestamps))\n",
    "print('Number of datetime (year-month-day):',len(days))\n",
    "print('Number of average predictions:',len(average_pred))"
   ]
  },
  {
   "cell_type": "markdown",
   "metadata": {},
   "source": [
    "#### Filter timestamps, average predictions by threshold"
   ]
  },
  {
   "cell_type": "markdown",
   "metadata": {},
   "source": [
    "#### Method 1: Using Array"
   ]
  },
  {
   "cell_type": "code",
   "execution_count": 134,
   "metadata": {},
   "outputs": [
    {
     "name": "stdout",
     "output_type": "stream",
     "text": [
      "Possible timestamps:  [('2018-02-24 07:58:40', 0.7223531), ('2018-03-12 08:33:13', 0.8353193)]\n"
     ]
    }
   ],
   "source": [
    "#initialize threshold\n",
    "thres = 0.5\n",
    "\n",
    "#map a list of boolean using threshold\n",
    "res_index = list(map(lambda x: True if x >= thres else False,averagePred))\n",
    "\n",
    "#filter average_pred and timstamps using boolean list\n",
    "res_average_pred = list(compress(averagePred, res_index)) \n",
    "res_timestamps = list(compress(timestamps, res_index)) \n",
    "\n",
    "#combine res_timestamps with res_average_pred\n",
    "possible_predictions = list(zip(res_timestamps,res_average_pred))\n",
    "print('Possible timestamps: ',possible_predictions)"
   ]
  },
  {
   "cell_type": "markdown",
   "metadata": {},
   "source": [
    "#### Method 2: Using Dataframe"
   ]
  },
  {
   "cell_type": "code",
   "execution_count": 161,
   "metadata": {},
   "outputs": [],
   "source": [
    "df=pd.DataFrame(data={'average_pred': average_pred },index = timestamps)"
   ]
  },
  {
   "cell_type": "code",
   "execution_count": 165,
   "metadata": {},
   "outputs": [
    {
     "data": {
      "text/plain": [
       "<matplotlib.axes._subplots.AxesSubplot at 0x7f18e088ddd0>"
      ]
     },
     "execution_count": 165,
     "metadata": {},
     "output_type": "execute_result"
    },
    {
     "data": {
      "image/png": "[encoded data removed]",
      "text/plain": [
       "<Figure size 2160x432 with 1 Axes>"
      ]
     },
     "metadata": {
      "needs_background": "light"
     },
     "output_type": "display_data"
    }
   ],
   "source": [
    "df.plot(figsize=(30,6),title='Sensor: b827eb0d8af7',legend = True)"
   ]
  },
  {
   "cell_type": "code",
   "execution_count": 163,
   "metadata": {},
   "outputs": [
    {
     "data": {
      "text/html": [
       "<div>\n",
       "<style scoped>\n",
       "    .dataframe tbody tr th:only-of-type {\n",
       "        vertical-align: middle;\n",
       "    }\n",
       "\n",
       "    .dataframe tbody tr th {\n",
       "        vertical-align: top;\n",
       "    }\n",
       "\n",
       "    .dataframe thead th {\n",
       "        text-align: right;\n",
       "    }\n",
       "</style>\n",
       "<table border=\"1\" class=\"dataframe\">\n",
       "  <thead>\n",
       "    <tr style=\"text-align: right;\">\n",
       "      <th></th>\n",
       "      <th>average_pred</th>\n",
       "    </tr>\n",
       "  </thead>\n",
       "  <tbody>\n",
       "    <tr>\n",
       "      <td>2018-02-24 07:58:40</td>\n",
       "      <td>0.722353</td>\n",
       "    </tr>\n",
       "    <tr>\n",
       "      <td>2018-03-12 08:33:13</td>\n",
       "      <td>0.835319</td>\n",
       "    </tr>\n",
       "  </tbody>\n",
       "</table>\n",
       "</div>"
      ],
      "text/plain": [
       "                     average_pred\n",
       "2018-02-24 07:58:40      0.722353\n",
       "2018-03-12 08:33:13      0.835319"
      ]
     },
     "execution_count": 163,
     "metadata": {},
     "output_type": "execute_result"
    }
   ],
   "source": [
    "df_filter = df[df['average_pred'] >= thres]\n",
    "df_filter"
   ]
  },
  {
   "cell_type": "code",
   "execution_count": 171,
   "metadata": {},
   "outputs": [
    {
     "name": "stdout",
     "output_type": "stream",
     "text": [
      "                     average_pred\n",
      "2018-02-24 07:58:40      0.722353\n",
      "2018-03-12 08:33:13      0.835319\n"
     ]
    }
   ],
   "source": [
    "print(df_filter)"
   ]
  },
  {
   "cell_type": "code",
   "execution_count": null,
   "metadata": {},
   "outputs": [],
   "source": [
    "#the probability generate on average for every half minute\n",
    "#0.5\n",
    "\n",
    "#pivot table of time"
   ]
  },
  {
   "cell_type": "markdown",
   "metadata": {},
   "source": [
    "### II. Iterate over all sensors"
   ]
  },
  {
   "cell_type": "code",
   "execution_count": 169,
   "metadata": {},
   "outputs": [],
   "source": [
    "from os import listdir\n",
    "from os.path import isfile, join\n",
    "\n",
    "yamNetFiles = [f for f in listdir(config.dataFol+'YAMNet/dense-bird') if isfile(join(config.dataFol+'YAMNet/dense-bird', f))]\n"
   ]
  },
  {
   "cell_type": "code",
   "execution_count": 174,
   "metadata": {},
   "outputs": [
    {
     "data": {
      "text/plain": [
       "['b827eb0d8af7_yamnet-pred-bird.h5', 'b827ebf31214_yamnet-pred-bird.h5']"
      ]
     },
     "execution_count": 174,
     "metadata": {},
     "output_type": "execute_result"
    }
   ],
   "source": [
    "yamNetFiles1 = yamNetFiles[:2]\n",
    "yamNetFiles1"
   ]
  },
  {
   "cell_type": "code",
   "execution_count": 176,
   "metadata": {},
   "outputs": [
    {
     "name": "stdout",
     "output_type": "stream",
     "text": [
      "Sensor:  b827eb0d8af7_yamnet-pred-bird.h5\n",
      "timestamps done\n",
      "days done\n",
      "average_pred done\n",
      "                     average_pred\n",
      "2018-02-24 07:58:40      0.722353\n",
      "2018-03-12 08:33:13      0.835319\n",
      "--------------------------\n",
      "Sensor:  b827ebf31214_yamnet-pred-bird.h5\n",
      "timestamps done\n",
      "days done\n",
      "average_pred done\n",
      "                     average_pred\n",
      "2018-03-07 08:27:46      0.594647\n",
      "2018-03-09 06:47:00      0.513344\n",
      "2019-03-09 06:46:51      0.613318\n",
      "--------------------------\n",
      "Sensor:  b827ebf9d204_yamnet-pred-bird.h5\n",
      "timestamps done\n",
      "days done\n",
      "average_pred done\n",
      "                     average_pred\n",
      "2018-02-26 17:59:46      0.515213\n",
      "2018-03-08 14:38:13      0.565135\n",
      "2019-03-21 07:22:20      0.626945\n",
      "2019-03-22 09:52:10      0.616807\n",
      "--------------------------\n",
      "Sensor:  b827ebefb215_yamnet-pred-bird.h5\n",
      "timestamps done\n",
      "days done\n",
      "average_pred done\n",
      "                     average_pred\n",
      "2018-02-27 07:03:27      0.687925\n",
      "2018-02-27 07:27:15      0.698560\n",
      "2018-02-27 07:28:11      0.690877\n",
      "2018-02-27 07:48:07      0.530997\n",
      "2018-02-28 07:35:47      0.614162\n",
      "2018-03-01 07:28:31      0.575806\n",
      "2018-03-01 07:29:29      0.513520\n",
      "2018-03-01 07:42:27      0.623404\n",
      "2018-03-01 07:47:26      0.588054\n",
      "2018-03-01 07:50:21      0.550806\n",
      "2018-03-01 07:52:19      0.596909\n",
      "2018-03-01 07:54:17      0.617042\n",
      "2018-03-01 07:56:13      0.546083\n",
      "2018-03-03 07:18:15      0.503200\n",
      "2018-03-03 07:48:21      0.596505\n",
      "2018-03-04 06:23:08      0.558350\n",
      "2018-03-04 06:42:03      0.604032\n",
      "2018-03-04 07:04:57      0.567641\n",
      "2018-03-04 07:31:15      0.603939\n",
      "2018-03-04 07:32:13      0.533270\n",
      "2018-03-04 07:33:10      0.524681\n",
      "2018-03-04 08:54:24      0.568598\n",
      "2018-03-05 06:32:48      0.700869\n",
      "2018-03-06 06:19:21      0.591036\n",
      "2018-03-06 06:20:20      0.522680\n",
      "2018-03-07 07:35:33      0.538682\n",
      "2018-03-09 16:11:47      0.553749\n",
      "2018-03-10 08:07:52      0.614483\n",
      "2018-03-10 08:08:53      0.752058\n",
      "2018-03-10 08:09:59      0.511984\n",
      "2018-03-10 08:20:01      0.600087\n",
      "2018-03-10 08:37:55      0.638956\n",
      "2018-03-10 08:38:54      0.592853\n",
      "2018-03-10 08:39:56      0.561524\n",
      "2018-03-10 08:41:01      0.546246\n",
      "2018-03-10 09:06:05      0.511919\n",
      "2018-03-10 09:49:54      0.524355\n",
      "2018-03-10 11:07:55      0.515759\n",
      "2018-03-10 11:42:32      0.656463\n",
      "2018-03-10 11:43:33      0.623681\n",
      "2018-03-10 11:44:31      0.670120\n",
      "2018-03-10 11:48:32      0.543904\n",
      "2018-03-10 11:58:29      0.600600\n",
      "2018-03-10 12:19:18      0.565049\n",
      "2018-03-10 12:21:12      0.622568\n",
      "2018-03-10 12:23:04      0.527687\n",
      "2018-03-10 12:26:10      0.541523\n",
      "2018-03-11 07:12:24      0.546528\n",
      "2018-03-11 15:57:31      0.513170\n",
      "2018-03-11 15:58:34      0.565443\n",
      "2018-03-12 07:07:44      0.532368\n",
      "2018-03-12 07:16:49      0.530335\n",
      "2018-03-16 07:40:33      0.504334\n",
      "2018-03-17 09:43:03      0.551903\n",
      "2018-03-17 10:31:57      0.518561\n",
      "2018-03-19 07:34:32      0.519631\n",
      "2018-03-23 07:43:30      0.559786\n",
      "2020-03-24 18:02:14      0.615984\n",
      "2020-03-24 18:03:11      0.528048\n",
      "--------------------------\n",
      "Sensor:  b827ebe3b72c_yamnet-pred-bird.h5\n",
      "timestamps done\n",
      "days done\n",
      "average_pred done\n",
      "                     average_pred\n",
      "2020-03-11 07:04:39      0.606419\n",
      "--------------------------\n",
      "Sensor:  b827ebc6dcc6_yamnet-pred-bird.h5\n",
      "timestamps done\n",
      "days done\n",
      "average_pred done\n",
      "Empty DataFrame\n",
      "Columns: [average_pred]\n",
      "Index: []\n",
      "--------------------------\n",
      "Sensor:  b827eb905497_yamnet-pred-bird.h5\n",
      "timestamps done\n",
      "days done\n",
      "average_pred done\n",
      "                     average_pred\n",
      "2017-03-15 13:44:59      0.630947\n",
      "2017-03-18 12:46:50      0.539812\n",
      "2017-03-19 10:02:08      0.587435\n",
      "2017-03-20 08:27:45      0.612009\n",
      "2017-03-22 07:54:15      0.735769\n",
      "...                           ...\n",
      "2020-03-20 14:27:09      0.802960\n",
      "2020-03-20 14:28:13      0.569981\n",
      "2020-03-20 16:31:01      0.642328\n",
      "2020-03-21 08:40:06      0.533784\n",
      "2020-03-23 08:48:26      0.516102\n",
      "\n",
      "[249 rows x 1 columns]\n",
      "--------------------------\n",
      "Sensor:  b827eb815321_yamnet-pred-bird.h5\n",
      "timestamps done\n",
      "days done\n",
      "average_pred done\n",
      "                     average_pred\n",
      "2017-02-26 11:13:12      0.552758\n",
      "2017-02-26 11:17:27      0.541982\n",
      "2017-02-26 11:19:28      0.523501\n",
      "2017-02-26 11:23:39      0.540020\n",
      "2017-02-26 12:50:57      0.594683\n",
      "...                           ...\n",
      "2020-03-22 06:24:30      0.545904\n",
      "2020-03-22 06:33:44      0.520083\n",
      "2020-03-22 06:38:43      0.611401\n",
      "2020-03-22 10:20:58      0.550541\n",
      "2020-03-22 13:45:10      0.630106\n",
      "\n",
      "[178 rows x 1 columns]\n",
      "--------------------------\n",
      "Sensor:  b827eb491436_yamnet-pred-bird.h5\n",
      "timestamps done\n",
      "days done\n",
      "average_pred done\n",
      "                     average_pred\n",
      "2020-02-25 08:51:42      0.515561\n",
      "2020-02-29 06:51:58      0.658763\n",
      "2020-03-04 14:00:47      0.569277\n",
      "2020-03-11 10:15:59      0.781661\n",
      "2020-03-24 15:18:50      0.502487\n",
      "--------------------------\n",
      "Sensor:  b827eb132382_yamnet-pred-bird.h5\n",
      "timestamps done\n",
      "days done\n",
      "average_pred done\n",
      "Empty DataFrame\n",
      "Columns: [average_pred]\n",
      "Index: []\n",
      "--------------------------\n",
      "Sensor:  b827eb5895e9_yamnet-pred-bird.h5\n",
      "timestamps done\n",
      "days done\n",
      "average_pred done\n",
      "Empty DataFrame\n",
      "Columns: [average_pred]\n",
      "Index: []\n",
      "--------------------------\n",
      "Sensor:  b827eb1685c7_yamnet-pred-bird.h5\n",
      "timestamps done\n",
      "days done\n",
      "average_pred done\n",
      "                     average_pred\n",
      "2017-02-28 07:35:23      0.554202\n",
      "2017-03-03 07:00:12      0.527980\n",
      "2017-03-04 07:31:47      0.554826\n",
      "2017-03-19 09:30:17      0.512076\n",
      "2017-03-19 09:33:10      0.500263\n",
      "2017-03-23 08:19:35      0.624055\n",
      "2017-03-24 16:23:51      0.509229\n",
      "2018-02-26 07:17:57      0.556969\n",
      "2018-02-27 05:21:13      0.536084\n",
      "2018-02-27 05:48:06      0.511545\n",
      "2018-02-27 06:40:24      0.506880\n",
      "2018-02-27 08:59:43      0.723793\n",
      "2018-03-14 10:00:03      0.519854\n",
      "2018-03-15 08:49:17      0.518214\n",
      "2018-03-17 10:19:25      0.514733\n",
      "2018-03-17 11:31:10      0.511164\n",
      "2018-03-19 15:42:16      0.655183\n",
      "--------------------------\n",
      "Sensor:  b827eb122f0f_yamnet-pred-bird.h5\n",
      "timestamps done\n",
      "days done\n",
      "average_pred done\n",
      "                     average_pred\n",
      "2017-03-20 20:27:14      0.908371\n",
      "2019-03-24 07:29:49      0.503963\n",
      "--------------------------\n",
      "Sensor:  b827eb73e772_yamnet-pred-bird.h5\n",
      "timestamps done\n",
      "days done\n",
      "average_pred done\n",
      "Empty DataFrame\n",
      "Columns: [average_pred]\n",
      "Index: []\n",
      "--------------------------\n",
      "Sensor:  b827eb42bd4a_yamnet-pred-bird.h5\n",
      "timestamps done\n",
      "days done\n",
      "average_pred done\n",
      "Empty DataFrame\n",
      "Columns: [average_pred]\n",
      "Index: []\n",
      "--------------------------\n",
      "Sensor:  b827eb29eb77_yamnet-pred-bird.h5\n",
      "timestamps done\n",
      "days done\n",
      "average_pred done\n",
      "                     average_pred\n",
      "2017-03-15 13:32:23      0.502997\n",
      "2018-02-24 05:05:07      0.656320\n",
      "2018-02-24 05:06:12      0.686685\n",
      "2018-02-24 05:07:13      0.538343\n",
      "2018-02-24 05:08:15      0.651098\n",
      "...                           ...\n",
      "2020-03-10 08:34:34      0.613171\n",
      "2020-03-10 08:37:37      0.672370\n",
      "2020-03-17 18:27:53      0.599111\n",
      "2020-03-19 09:36:31      0.511868\n",
      "2020-03-21 09:19:26      0.519704\n",
      "\n",
      "[280 rows x 1 columns]\n",
      "--------------------------\n",
      "Sensor:  b827eb8e2420_yamnet-pred-bird.h5\n",
      "timestamps done\n",
      "days done\n",
      "average_pred done\n",
      "                     average_pred\n",
      "2017-03-14 13:40:16      0.568990\n",
      "2017-03-14 13:44:14      0.592632\n",
      "2017-03-14 17:54:16      0.660389\n",
      "2017-03-14 17:56:15      0.507396\n",
      "2017-03-16 10:55:05      0.607733\n",
      "...                           ...\n",
      "2020-03-24 09:58:15      0.774287\n",
      "2020-03-24 11:00:50      0.543247\n",
      "2020-03-24 15:43:31      0.512828\n",
      "2020-03-24 16:25:20      0.503800\n",
      "2020-03-24 17:13:48      0.572235\n",
      "\n",
      "[701 rows x 1 columns]\n",
      "--------------------------\n",
      "Sensor:  b827eb5a9021_yamnet-pred-bird.h5\n",
      "timestamps done\n",
      "days done\n",
      "average_pred done\n",
      "Empty DataFrame\n",
      "Columns: [average_pred]\n",
      "Index: []\n",
      "--------------------------\n",
      "Sensor:  b827eb4e7821_yamnet-pred-bird.h5\n",
      "timestamps done\n",
      "days done\n",
      "average_pred done\n",
      "Empty DataFrame\n",
      "Columns: [average_pred]\n",
      "Index: []\n",
      "--------------------------\n",
      "Sensor:  b827eb4cc22e_yamnet-pred-bird.h5\n",
      "timestamps done\n",
      "days done\n",
      "average_pred done\n",
      "                     average_pred\n",
      "2019-03-23 08:03:17      0.525975\n",
      "--------------------------\n",
      "Sensor:  b827eb3e842e_yamnet-pred-bird.h5\n",
      "timestamps done\n",
      "days done\n",
      "average_pred done\n",
      "                     average_pred\n",
      "2020-03-15 10:41:42      0.588532\n",
      "--------------------------\n",
      "Sensor:  b827eb0fedda_yamnet-pred-bird.h5\n",
      "timestamps done\n",
      "days done\n",
      "average_pred done\n",
      "                     average_pred\n",
      "2017-02-25 06:42:19      0.673425\n",
      "2017-02-25 06:49:16      0.519399\n",
      "2017-02-25 07:33:24      0.631327\n",
      "2017-02-25 07:40:04      0.627638\n",
      "2017-02-25 10:00:28      0.575117\n",
      "...                           ...\n",
      "2020-03-21 06:42:22      0.507320\n",
      "2020-03-21 10:29:59      0.542792\n",
      "2020-03-21 17:33:42      0.527627\n",
      "2020-03-24 15:23:46      0.582091\n",
      "2020-03-24 17:34:15      0.564317\n",
      "\n",
      "[439 rows x 1 columns]\n",
      "--------------------------\n",
      "Sensor:  b827ebe3b72c_yamnet-pred.h5\n"
     ]
    },
    {
     "name": "stdout",
     "output_type": "stream",
     "text": [
      "timestamps done\n",
      "days done\n",
      "average_pred done\n",
      "Empty DataFrame\n",
      "Columns: [average_pred]\n",
      "Index: []\n",
      "--------------------------\n"
     ]
    }
   ],
   "source": [
    "thres = 0.5\n",
    "for file in yamNetFiles:\n",
    "    print('Sensor: ', file)\n",
    "    #Read in file\n",
    "    sensor = h5py.File(config.dataFol+'YAMNet/dense-bird/'+file,'r')\n",
    "    #Get all timestamps in this sensor dataset\n",
    "    timestamps = [datetime.datetime.fromtimestamp(float(time.split('_')[1])).strftime('%Y-%m-%d %H:%M:%S') \\\n",
    "              for time in list(sensor.keys())]\n",
    "    print('timestamps done')\n",
    "\n",
    "    #Get all days in this sensor dataset\n",
    "    days = set([timestamp[:10] for timestamp in timestamps])\n",
    "    print('days done')\n",
    "    \n",
    "    #Calculate the average prediction for each timestamp (every ten seconds)\n",
    "    average_pred = [np.array(sensor[timestamp]).mean() for timestamp in sensor.keys()]\n",
    "    print('average_pred done')\n",
    "\n",
    "    #Create dataframe\n",
    "    df=pd.DataFrame(data={'average_pred': average_pred },index = timestamps)\n",
    "    df_filter = df[df['average_pred'] >= thres]\n",
    "    print(df_filter)\n",
    "    print('--------------------------')"
   ]
  },
  {
   "cell_type": "code",
   "execution_count": 179,
   "metadata": {},
   "outputs": [
    {
     "name": "stdout",
     "output_type": "stream",
     "text": [
      "timestamps done\n",
      "days done\n",
      "average_pred done\n"
     ]
    }
   ],
   "source": [
    "\n",
    "sensor = h5py.File(config.dataFol+'YAMNet/dense-bird/b827eb5a9021_yamnet-pred-bird.h5','r')\n",
    "#Get all timestamps in this sensor dataset\n",
    "timestamps = [datetime.datetime.fromtimestamp(float(time.split('_')[1])).strftime('%Y-%m-%d %H:%M:%S') \\\n",
    "          for time in list(sensor.keys())]\n",
    "print('timestamps done')\n",
    "\n",
    "#Get all days in this sensor dataset\n",
    "days = set([timestamp[:10] for timestamp in timestamps])\n",
    "print('days done')\n",
    "\n",
    "#Calculate the average prediction for each timestamp (every ten seconds)\n",
    "average_pred = [np.array(sensor[timestamp]).mean() for timestamp in sensor.keys()]\n",
    "print('average_pred done')\n",
    "\n",
    "#Create dataframe\n",
    "df=pd.DataFrame(data={'average_pred': average_pred },index = timestamps)"
   ]
  },
  {
   "cell_type": "code",
   "execution_count": 181,
   "metadata": {},
   "outputs": [
    {
     "name": "stdout",
     "output_type": "stream",
     "text": [
      "Empty DataFrame\n",
      "Columns: [average_pred]\n",
      "Index: []\n"
     ]
    }
   ],
   "source": [
    "\n",
    "print(df_filter)\n"
   ]
  },
  {
   "cell_type": "markdown",
   "metadata": {},
   "source": [
    "## Explore the dense-521 data 521 classes, 1 sensor, 1 year\n"
   ]
  },
  {
   "cell_type": "code",
   "execution_count": 84,
   "metadata": {},
   "outputs": [],
   "source": [
    "#Read in file\n",
    "f2 = h5py.File(config.dataFol+'YAMNet/dense-521/b827ebe3b72c_yamnet-pred.h5','r')"
   ]
  },
  {
   "cell_type": "code",
   "execution_count": 86,
   "metadata": {},
   "outputs": [
    {
     "data": {
      "text/plain": [
       "8643"
      ]
     },
     "execution_count": 86,
     "metadata": {},
     "output_type": "execute_result"
    }
   ],
   "source": [
    "len(f2.keys())"
   ]
  },
  {
   "cell_type": "code",
   "execution_count": 87,
   "metadata": {},
   "outputs": [],
   "source": [
    "dset2 = f2['b827ebe3b72c_1582520436.21']"
   ]
  },
  {
   "cell_type": "code",
   "execution_count": 88,
   "metadata": {},
   "outputs": [
    {
     "data": {
      "text/plain": [
       "(19, 521)"
      ]
     },
     "execution_count": 88,
     "metadata": {},
     "output_type": "execute_result"
    }
   ],
   "source": [
    "dset2.shape"
   ]
  },
  {
   "cell_type": "code",
   "execution_count": 89,
   "metadata": {},
   "outputs": [
    {
     "data": {
      "text/plain": [
       "array([[3.5439994e-02, 5.6364755e-03, 8.5252646e-04, ..., 1.8240128e-03,\n",
       "        2.8833552e-04, 9.3378657e-07],\n",
       "       [1.6384579e-02, 1.5236499e-03, 8.0664270e-04, ..., 8.0931978e-03,\n",
       "        4.8502311e-03, 5.0043738e-05],\n",
       "       [8.1337395e-04, 7.2681760e-05, 6.6112640e-05, ..., 2.4913363e-03,\n",
       "        3.1138348e-04, 4.2757165e-06],\n",
       "       ...,\n",
       "       [1.4777657e-03, 1.6501413e-04, 7.5679120e-05, ..., 8.3989436e-03,\n",
       "        1.1330297e-03, 5.0512035e-06],\n",
       "       [2.0984136e-03, 3.0551633e-05, 1.8826629e-05, ..., 2.0140340e-04,\n",
       "        5.5086963e-05, 5.9725608e-08],\n",
       "       [1.9480545e-03, 3.3878416e-04, 4.7467871e-05, ..., 1.2510383e-04,\n",
       "        1.6782786e-05, 2.1984190e-08]], dtype=float32)"
      ]
     },
     "execution_count": 89,
     "metadata": {},
     "output_type": "execute_result"
    }
   ],
   "source": [
    "n2 = np.array(dset2)\n",
    "n2"
   ]
  },
  {
   "cell_type": "code",
   "execution_count": 91,
   "metadata": {},
   "outputs": [
    {
     "data": {
      "text/plain": [
       "521"
      ]
     },
     "execution_count": 91,
     "metadata": {},
     "output_type": "execute_result"
    }
   ],
   "source": [
    "len(n2[0])"
   ]
  },
  {
   "cell_type": "code",
   "execution_count": null,
   "metadata": {},
   "outputs": [],
   "source": []
  }
 ],
 "metadata": {
  "kernelspec": {
   "display_name": "birdsVE3.7",
   "language": "python",
   "name": "birdsve3.7"
  }
 },
 "nbformat": 4,
 "nbformat_minor": 2
}
