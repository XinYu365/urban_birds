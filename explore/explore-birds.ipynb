{
 "cells": [
  {
   "cell_type": "code",
   "execution_count": 70,
   "metadata": {},
   "outputs": [],
   "source": [
    "import os \n",
    "import sys\n",
    "import pandas as pd\n",
    "import numpy as np\n",
    "import statsmodels.formula.api as smf\n",
    "import matplotlib.pylab as plt\n",
    " \n",
    "%matplotlib inline\n",
    "\n",
    "sys.path.append('../')\n",
    "from envir import config"
   ]
  },
  {
   "cell_type": "code",
   "execution_count": 71,
   "metadata": {},
   "outputs": [],
   "source": [
    "col_names = ['ebird_species_code', 'taxon_order', 'category', 'english_name', 'sci_name',\\\n",
    "            'range', 'order', 'family', 'ebird_species_group', 'extinct', 'extinct_year']\n",
    "\n",
    "birds = pd.read_csv(config.dataFol+\"BirdSpecies/eBird-Clements-v2019-integrated-checklist-August-2019.csv\",\\\n",
    "                    names = col_names, encoding= 'unicode_escape',index_col = False, header = 0)"
   ]
  },
  {
   "cell_type": "code",
   "execution_count": 72,
   "metadata": {},
   "outputs": [
    {
     "data": {
      "text/html": [
       "<div>\n",
       "<style scoped>\n",
       "    .dataframe tbody tr th:only-of-type {\n",
       "        vertical-align: middle;\n",
       "    }\n",
       "\n",
       "    .dataframe tbody tr th {\n",
       "        vertical-align: top;\n",
       "    }\n",
       "\n",
       "    .dataframe thead th {\n",
       "        text-align: right;\n",
       "    }\n",
       "</style>\n",
       "<table border=\"1\" class=\"dataframe\">\n",
       "  <thead>\n",
       "    <tr style=\"text-align: right;\">\n",
       "      <th></th>\n",
       "      <th>ebird_species_code</th>\n",
       "      <th>taxon_order</th>\n",
       "      <th>category</th>\n",
       "      <th>english_name</th>\n",
       "      <th>sci_name</th>\n",
       "      <th>range</th>\n",
       "      <th>order</th>\n",
       "      <th>family</th>\n",
       "      <th>ebird_species_group</th>\n",
       "      <th>extinct</th>\n",
       "      <th>extinct_year</th>\n",
       "    </tr>\n",
       "  </thead>\n",
       "  <tbody>\n",
       "    <tr>\n",
       "      <td>0</td>\n",
       "      <td>ostric2</td>\n",
       "      <td>1.0</td>\n",
       "      <td>species</td>\n",
       "      <td>Common Ostrich</td>\n",
       "      <td>Struthio camelus</td>\n",
       "      <td>NaN</td>\n",
       "      <td>Struthioniformes</td>\n",
       "      <td>Struthionidae (Ostriches)</td>\n",
       "      <td>Ostriches</td>\n",
       "      <td>NaN</td>\n",
       "      <td>NaN</td>\n",
       "    </tr>\n",
       "    <tr>\n",
       "      <td>1</td>\n",
       "      <td>NaN</td>\n",
       "      <td>2.0</td>\n",
       "      <td>subspecies</td>\n",
       "      <td>NaN</td>\n",
       "      <td>Struthio camelus camelus</td>\n",
       "      <td>Sahel of North Africa and the Sudan</td>\n",
       "      <td>Struthioniformes</td>\n",
       "      <td>Struthionidae (Ostriches)</td>\n",
       "      <td>Ostriches</td>\n",
       "      <td>NaN</td>\n",
       "      <td>NaN</td>\n",
       "    </tr>\n",
       "    <tr>\n",
       "      <td>2</td>\n",
       "      <td>NaN</td>\n",
       "      <td>3.0</td>\n",
       "      <td>subspecies</td>\n",
       "      <td>NaN</td>\n",
       "      <td>Struthio camelus syriacus</td>\n",
       "      <td>Formerly Syrian and Arabian deserts. Extinct c...</td>\n",
       "      <td>Struthioniformes</td>\n",
       "      <td>Struthionidae (Ostriches)</td>\n",
       "      <td>Ostriches</td>\n",
       "      <td>1.0</td>\n",
       "      <td>1966</td>\n",
       "    </tr>\n",
       "    <tr>\n",
       "      <td>3</td>\n",
       "      <td>NaN</td>\n",
       "      <td>4.0</td>\n",
       "      <td>subspecies</td>\n",
       "      <td>NaN</td>\n",
       "      <td>Struthio camelus massaicus</td>\n",
       "      <td>S Kenya and e Tanzania</td>\n",
       "      <td>Struthioniformes</td>\n",
       "      <td>Struthionidae (Ostriches)</td>\n",
       "      <td>Ostriches</td>\n",
       "      <td>NaN</td>\n",
       "      <td>NaN</td>\n",
       "    </tr>\n",
       "    <tr>\n",
       "      <td>4</td>\n",
       "      <td>NaN</td>\n",
       "      <td>5.0</td>\n",
       "      <td>subspecies</td>\n",
       "      <td>NaN</td>\n",
       "      <td>Struthio camelus australis</td>\n",
       "      <td>Southern Africa</td>\n",
       "      <td>Struthioniformes</td>\n",
       "      <td>Struthionidae (Ostriches)</td>\n",
       "      <td>Ostriches</td>\n",
       "      <td>NaN</td>\n",
       "      <td>NaN</td>\n",
       "    </tr>\n",
       "  </tbody>\n",
       "</table>\n",
       "</div>"
      ],
      "text/plain": [
       "  ebird_species_code  taxon_order    category    english_name  \\\n",
       "0            ostric2          1.0     species  Common Ostrich   \n",
       "1                NaN          2.0  subspecies             NaN   \n",
       "2                NaN          3.0  subspecies             NaN   \n",
       "3                NaN          4.0  subspecies             NaN   \n",
       "4                NaN          5.0  subspecies             NaN   \n",
       "\n",
       "                     sci_name  \\\n",
       "0            Struthio camelus   \n",
       "1    Struthio camelus camelus   \n",
       "2   Struthio camelus syriacus   \n",
       "3  Struthio camelus massaicus   \n",
       "4  Struthio camelus australis   \n",
       "\n",
       "                                               range             order  \\\n",
       "0                                                NaN  Struthioniformes   \n",
       "1                Sahel of North Africa and the Sudan  Struthioniformes   \n",
       "2  Formerly Syrian and Arabian deserts. Extinct c...  Struthioniformes   \n",
       "3                             S Kenya and e Tanzania  Struthioniformes   \n",
       "4                                    Southern Africa  Struthioniformes   \n",
       "\n",
       "                      family ebird_species_group  extinct extinct_year  \n",
       "0  Struthionidae (Ostriches)           Ostriches      NaN          NaN  \n",
       "1  Struthionidae (Ostriches)           Ostriches      NaN          NaN  \n",
       "2  Struthionidae (Ostriches)           Ostriches      1.0         1966  \n",
       "3  Struthionidae (Ostriches)           Ostriches      NaN          NaN  \n",
       "4  Struthionidae (Ostriches)           Ostriches      NaN          NaN  "
      ]
     },
     "execution_count": 72,
     "metadata": {},
     "output_type": "execute_result"
    }
   ],
   "source": [
    "birds.head(5)"
   ]
  },
  {
   "cell_type": "code",
   "execution_count": 73,
   "metadata": {},
   "outputs": [],
   "source": [
    "#target_birds = birds.loc[birds['ebrid_species_group'] == 'Thrushes']\n",
    "\n",
    "target_birds = birds.loc[(birds['ebird_species_code'] == 'ATSP') |\\\n",
    "                         (birds['ebird_species_code'] == 'CHSP') |\\\n",
    "                          (birds['ebird_species_code'] == 'SAVS')]"
   ]
  },
  {
   "cell_type": "code",
   "execution_count": 74,
   "metadata": {},
   "outputs": [
    {
     "data": {
      "text/html": [
       "<div>\n",
       "<style scoped>\n",
       "    .dataframe tbody tr th:only-of-type {\n",
       "        vertical-align: middle;\n",
       "    }\n",
       "\n",
       "    .dataframe tbody tr th {\n",
       "        vertical-align: top;\n",
       "    }\n",
       "\n",
       "    .dataframe thead th {\n",
       "        text-align: right;\n",
       "    }\n",
       "</style>\n",
       "<table border=\"1\" class=\"dataframe\">\n",
       "  <thead>\n",
       "    <tr style=\"text-align: right;\">\n",
       "      <th></th>\n",
       "      <th>ebird_species_code</th>\n",
       "      <th>taxon_order</th>\n",
       "      <th>category</th>\n",
       "      <th>english_name</th>\n",
       "      <th>sci_name</th>\n",
       "      <th>range</th>\n",
       "      <th>order</th>\n",
       "      <th>family</th>\n",
       "      <th>ebird_species_group</th>\n",
       "      <th>extinct</th>\n",
       "      <th>extinct_year</th>\n",
       "    </tr>\n",
       "  </thead>\n",
       "  <tbody>\n",
       "  </tbody>\n",
       "</table>\n",
       "</div>"
      ],
      "text/plain": [
       "Empty DataFrame\n",
       "Columns: [ebird_species_code, taxon_order, category, english_name, sci_name, range, order, family, ebird_species_group, extinct, extinct_year]\n",
       "Index: []"
      ]
     },
     "execution_count": 74,
     "metadata": {},
     "output_type": "execute_result"
    }
   ],
   "source": [
    "target_birds.head()"
   ]
  },
  {
   "cell_type": "code",
   "execution_count": 63,
   "metadata": {},
   "outputs": [],
   "source": [
    "\n",
    "\n",
    "#target_birds = birds[birds['ebird_species_code'].isin(['ATSP', 'CHSP', 'SAVS', 'WTSP', 'RBGR', 'GCTH','SWTH', 'AMRE', 'BBWA', 'BTBW', 'CAWA',\\\n",
    "#        'COYE', 'MOWA', 'OVEN'])]"
   ]
  },
  {
   "cell_type": "code",
   "execution_count": 64,
   "metadata": {},
   "outputs": [
    {
     "data": {
      "text/html": [
       "<div>\n",
       "<style scoped>\n",
       "    .dataframe tbody tr th:only-of-type {\n",
       "        vertical-align: middle;\n",
       "    }\n",
       "\n",
       "    .dataframe tbody tr th {\n",
       "        vertical-align: top;\n",
       "    }\n",
       "\n",
       "    .dataframe thead th {\n",
       "        text-align: right;\n",
       "    }\n",
       "</style>\n",
       "<table border=\"1\" class=\"dataframe\">\n",
       "  <thead>\n",
       "    <tr style=\"text-align: right;\">\n",
       "      <th></th>\n",
       "      <th>ebird_species_code</th>\n",
       "      <th>taxon_order</th>\n",
       "      <th>category</th>\n",
       "      <th>english_name</th>\n",
       "      <th>sci_name</th>\n",
       "      <th>range</th>\n",
       "      <th>order</th>\n",
       "      <th>family</th>\n",
       "      <th>ebird_species_group</th>\n",
       "      <th>extinct</th>\n",
       "      <th>extinct_year</th>\n",
       "    </tr>\n",
       "  </thead>\n",
       "  <tbody>\n",
       "  </tbody>\n",
       "</table>\n",
       "</div>"
      ],
      "text/plain": [
       "Empty DataFrame\n",
       "Columns: [ebird_species_code, taxon_order, category, english_name, sci_name, range, order, family, ebird_species_group, extinct, extinct_year]\n",
       "Index: []"
      ]
     },
     "execution_count": 64,
     "metadata": {},
     "output_type": "execute_result"
    }
   ],
   "source": [
    "#target_birds.head()"
   ]
  },
  {
   "cell_type": "code",
   "execution_count": null,
   "metadata": {},
   "outputs": [],
   "source": [
    "American Sparrows\n",
    "* ATSP American Tree Sparrow\n",
    "* CHSP Chipping Sparrow\n",
    "* SAVS Savannah Sparrow\n",
    "* WTSP White-Throated Sparrow\n",
    "Cardinals\n",
    "* RBGR Rose-Breasted Grosbeak\n",
    "Thrushes\n",
    "* GCTH Gray-Cheeked Thrush\n",
    "* SWTH Swainson’s Thrush\n",
    "* AMRE American Redstart\n",
    "Warblers\n",
    "* BBWA Bay-breasted Warbler\n",
    "* BTBW Black-throated Blue Warbler\n",
    "* CAWA Canada Warbler\n",
    "* COYE Common Yellowthroat\n",
    "* MOWA Mourning Warbler\n",
    "* OVEN Ovenbird (edited) "
   ]
  },
  {
   "cell_type": "code",
   "execution_count": null,
   "metadata": {},
   "outputs": [],
   "source": []
  },
  {
   "cell_type": "code",
   "execution_count": null,
   "metadata": {},
   "outputs": [],
   "source": []
  }
 ],
 "metadata": {
  "kernelspec": {
   "display_name": "birdsVE3.7",
   "language": "python",
   "name": "birdsve3.7"
  },
  "language_info": {
   "codemirror_mode": {
    "name": "ipython",
    "version": 3
   },
   "file_extension": ".py",
   "mimetype": "text/x-python",
   "name": "python",
   "nbconvert_exporter": "python",
   "pygments_lexer": "ipython3",
   "version": "3.7.6"
  }
 },
 "nbformat": 4,
 "nbformat_minor": 2
}
