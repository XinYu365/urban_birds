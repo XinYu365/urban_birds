{
 "cells": [
  {
   "cell_type": "code",
   "execution_count": 183,
   "metadata": {},
   "outputs": [],
   "source": [
    "import pandas as pd\n",
    "import numpy as np\n",
    "import datetime\n",
    "import requests\n",
    "import json\n",
    "import geopandas as gpd\n",
    "import statistics\n",
    "from scipy import stats\n",
    "import matplotlib.pyplot as plt\n",
    "import os\n",
    "import statsmodels.api as sm\n",
    "from pandas.plotting import autocorrelation_plot\n",
    "from statsmodels.tsa.arima_model import ARIMA\n",
    "\n",
    "pd.options.display.max_rows = 999"
   ]
  },
  {
   "cell_type": "code",
   "execution_count": 100,
   "metadata": {},
   "outputs": [],
   "source": [
    "date_range = []\n",
    "for i in range(2010,2021):\n",
    "    days = pd.date_range(start=pd.datetime(i, 3, 1), end=pd.datetime(i, 6, 1))\n",
    "    date_range.append(days)"
   ]
  },
  {
   "cell_type": "code",
   "execution_count": 101,
   "metadata": {},
   "outputs": [],
   "source": [
    "date_list = []\n",
    "for sublist in date_range:\n",
    "    for item in sublist:\n",
    "        date_list.append(item)"
   ]
  },
  {
   "cell_type": "code",
   "execution_count": 103,
   "metadata": {},
   "outputs": [],
   "source": [
    "token = 'j6c7l80ga2ib'"
   ]
  },
  {
   "cell_type": "code",
   "execution_count": 105,
   "metadata": {},
   "outputs": [],
   "source": [
    "frames = []\n",
    "\n",
    "for date in date_list:\n",
    "    url = '''https://api.ebird.org/v2/data/obs/US-NY-061/historic/{}/{}/{}'''.format(date.year, date.month, date.day)\n",
    "    payload = {}\n",
    "    headers = {'X-eBirdApiToken': token}\n",
    "    response = requests.request(\"GET\", url, headers=headers, data = payload)\n",
    "    frame = pd.DataFrame(response.json())\n",
    "    frames.append(frame)"
   ]
  },
  {
   "cell_type": "code",
   "execution_count": 106,
   "metadata": {},
   "outputs": [
    {
     "name": "stderr",
     "output_type": "stream",
     "text": [
      "/Users/marthanorrick/opt/anaconda3/lib/python3.7/site-packages/ipykernel_launcher.py:1: FutureWarning: Sorting because non-concatenation axis is not aligned. A future version\n",
      "of pandas will change to not sort by default.\n",
      "\n",
      "To accept the future behavior, pass 'sort=False'.\n",
      "\n",
      "To retain the current behavior and silence the warning, pass 'sort=True'.\n",
      "\n",
      "  \"\"\"Entry point for launching an IPython kernel.\n"
     ]
    }
   ],
   "source": [
    "all_bird_data = pd.concat(frames)"
   ]
  },
  {
   "cell_type": "code",
   "execution_count": 107,
   "metadata": {},
   "outputs": [
    {
     "data": {
      "text/plain": [
       "(74987, 13)"
      ]
     },
     "execution_count": 107,
     "metadata": {},
     "output_type": "execute_result"
    }
   ],
   "source": [
    "all_bird_data.shape"
   ]
  },
  {
   "cell_type": "code",
   "execution_count": 108,
   "metadata": {},
   "outputs": [
    {
     "data": {
      "text/html": [
       "<div>\n",
       "<style scoped>\n",
       "    .dataframe tbody tr th:only-of-type {\n",
       "        vertical-align: middle;\n",
       "    }\n",
       "\n",
       "    .dataframe tbody tr th {\n",
       "        vertical-align: top;\n",
       "    }\n",
       "\n",
       "    .dataframe thead th {\n",
       "        text-align: right;\n",
       "    }\n",
       "</style>\n",
       "<table border=\"1\" class=\"dataframe\">\n",
       "  <thead>\n",
       "    <tr style=\"text-align: right;\">\n",
       "      <th></th>\n",
       "      <th>comName</th>\n",
       "      <th>howMany</th>\n",
       "      <th>lat</th>\n",
       "      <th>lng</th>\n",
       "      <th>locId</th>\n",
       "      <th>locName</th>\n",
       "      <th>locationPrivate</th>\n",
       "      <th>obsDt</th>\n",
       "      <th>obsReviewed</th>\n",
       "      <th>obsValid</th>\n",
       "      <th>sciName</th>\n",
       "      <th>speciesCode</th>\n",
       "      <th>subId</th>\n",
       "    </tr>\n",
       "  </thead>\n",
       "  <tbody>\n",
       "    <tr>\n",
       "      <td>0</td>\n",
       "      <td>Rock Pigeon</td>\n",
       "      <td>NaN</td>\n",
       "      <td>40.703229</td>\n",
       "      <td>-74.016989</td>\n",
       "      <td>L288752</td>\n",
       "      <td>Battery Park</td>\n",
       "      <td>False</td>\n",
       "      <td>2010-03-01</td>\n",
       "      <td>False</td>\n",
       "      <td>True</td>\n",
       "      <td>Columba livia</td>\n",
       "      <td>rocpig</td>\n",
       "      <td>S6088232</td>\n",
       "    </tr>\n",
       "    <tr>\n",
       "      <td>1</td>\n",
       "      <td>Ring-billed Gull</td>\n",
       "      <td>NaN</td>\n",
       "      <td>40.703229</td>\n",
       "      <td>-74.016989</td>\n",
       "      <td>L288752</td>\n",
       "      <td>Battery Park</td>\n",
       "      <td>False</td>\n",
       "      <td>2010-03-01</td>\n",
       "      <td>False</td>\n",
       "      <td>True</td>\n",
       "      <td>Larus delawarensis</td>\n",
       "      <td>ribgul</td>\n",
       "      <td>S6088232</td>\n",
       "    </tr>\n",
       "    <tr>\n",
       "      <td>2</td>\n",
       "      <td>Great Black-backed Gull</td>\n",
       "      <td>1.0</td>\n",
       "      <td>40.703229</td>\n",
       "      <td>-74.016989</td>\n",
       "      <td>L288752</td>\n",
       "      <td>Battery Park</td>\n",
       "      <td>False</td>\n",
       "      <td>2010-03-01</td>\n",
       "      <td>False</td>\n",
       "      <td>True</td>\n",
       "      <td>Larus marinus</td>\n",
       "      <td>gbbgul</td>\n",
       "      <td>S6088232</td>\n",
       "    </tr>\n",
       "    <tr>\n",
       "      <td>3</td>\n",
       "      <td>Great Cormorant</td>\n",
       "      <td>1.0</td>\n",
       "      <td>40.703229</td>\n",
       "      <td>-74.016989</td>\n",
       "      <td>L288752</td>\n",
       "      <td>Battery Park</td>\n",
       "      <td>False</td>\n",
       "      <td>2010-03-01</td>\n",
       "      <td>False</td>\n",
       "      <td>True</td>\n",
       "      <td>Phalacrocorax carbo</td>\n",
       "      <td>grecor</td>\n",
       "      <td>S6088232</td>\n",
       "    </tr>\n",
       "    <tr>\n",
       "      <td>4</td>\n",
       "      <td>European Starling</td>\n",
       "      <td>NaN</td>\n",
       "      <td>40.703229</td>\n",
       "      <td>-74.016989</td>\n",
       "      <td>L288752</td>\n",
       "      <td>Battery Park</td>\n",
       "      <td>False</td>\n",
       "      <td>2010-03-01</td>\n",
       "      <td>False</td>\n",
       "      <td>True</td>\n",
       "      <td>Sturnus vulgaris</td>\n",
       "      <td>eursta</td>\n",
       "      <td>S6088232</td>\n",
       "    </tr>\n",
       "  </tbody>\n",
       "</table>\n",
       "</div>"
      ],
      "text/plain": [
       "                   comName  howMany        lat        lng    locId  \\\n",
       "0              Rock Pigeon      NaN  40.703229 -74.016989  L288752   \n",
       "1         Ring-billed Gull      NaN  40.703229 -74.016989  L288752   \n",
       "2  Great Black-backed Gull      1.0  40.703229 -74.016989  L288752   \n",
       "3          Great Cormorant      1.0  40.703229 -74.016989  L288752   \n",
       "4        European Starling      NaN  40.703229 -74.016989  L288752   \n",
       "\n",
       "        locName  locationPrivate       obsDt  obsReviewed  obsValid  \\\n",
       "0  Battery Park            False  2010-03-01        False      True   \n",
       "1  Battery Park            False  2010-03-01        False      True   \n",
       "2  Battery Park            False  2010-03-01        False      True   \n",
       "3  Battery Park            False  2010-03-01        False      True   \n",
       "4  Battery Park            False  2010-03-01        False      True   \n",
       "\n",
       "               sciName speciesCode     subId  \n",
       "0        Columba livia      rocpig  S6088232  \n",
       "1   Larus delawarensis      ribgul  S6088232  \n",
       "2        Larus marinus      gbbgul  S6088232  \n",
       "3  Phalacrocorax carbo      grecor  S6088232  \n",
       "4     Sturnus vulgaris      eursta  S6088232  "
      ]
     },
     "execution_count": 108,
     "metadata": {},
     "output_type": "execute_result"
    }
   ],
   "source": [
    "all_bird_data.head()"
   ]
  },
  {
   "cell_type": "code",
   "execution_count": 109,
   "metadata": {},
   "outputs": [],
   "source": [
    "all_bird_data['obsDt'] = all_bird_data['obsDt'].astype('datetime64[ns]')"
   ]
  },
  {
   "cell_type": "code",
   "execution_count": 110,
   "metadata": {},
   "outputs": [],
   "source": [
    "bird_geo = gpd.GeoDataFrame(all_bird_data, geometry=gpd.points_from_xy(all_bird_data.lng, all_bird_data.lat), crs={'init':'epsg:2263'})"
   ]
  },
  {
   "cell_type": "code",
   "execution_count": 138,
   "metadata": {},
   "outputs": [],
   "source": [
    "lower_man_bird_geo = bird_geo[bird_geo.lat <= 40.75]"
   ]
  },
  {
   "cell_type": "code",
   "execution_count": 139,
   "metadata": {},
   "outputs": [],
   "source": [
    "count_by_day = lower_man_bird_geo.groupby([lower_man_bird_geo.obsDt.dt.year, lower_man_bird_geo.obsDt.dt.dayofyear])['howMany'].count()\n",
    "all_nyc_count_by_day = all_bird_data.groupby([all_bird_data.obsDt.dt.year, all_bird_data.obsDt.dt.dayofyear])['howMany'].count()"
   ]
  },
  {
   "cell_type": "code",
   "execution_count": 140,
   "metadata": {},
   "outputs": [],
   "source": [
    "count_by_day = pd.DataFrame(count_by_day)\n",
    "all_nyc_count_by_day = pd.DataFrame(all_nyc_count_by_day)"
   ]
  },
  {
   "cell_type": "code",
   "execution_count": 141,
   "metadata": {},
   "outputs": [],
   "source": [
    "count_by_day.index.set_names([\"year\", \"day\"], inplace=True)\n",
    "all_nyc_count_by_day.index.set_names([\"year\", \"day\"], inplace=True)"
   ]
  },
  {
   "cell_type": "code",
   "execution_count": 142,
   "metadata": {},
   "outputs": [],
   "source": [
    "count_by_day = count_by_day.reset_index()\n",
    "all_nyc_count_by_day = all_nyc_count_by_day.reset_index()"
   ]
  },
  {
   "cell_type": "code",
   "execution_count": 154,
   "metadata": {},
   "outputs": [],
   "source": [
    "all_nyc_year = all_bird_data.groupby(all_bird_data.obsDt.dt.year)['howMany'].count().reset_index().rename(columns={'obsDt':'year','howMany':'observations'})\n",
    "lower_man_year = lower_man_bird_geo.groupby(lower_man_bird_geo.obsDt.dt.year)['howMany'].count().reset_index().rename(columns={'obsDt':'year','howMany':'observations'})"
   ]
  },
  {
   "cell_type": "code",
   "execution_count": 155,
   "metadata": {},
   "outputs": [],
   "source": [
    "all_nyc_birds_year = all_bird_data.groupby(all_bird_data.obsDt.dt.year)['howMany'].sum().reset_index().rename(columns={'obsDt':'year','howMany':'birds'})\n",
    "lower_man_birds_year = lower_man_bird_geo.groupby(lower_man_bird_geo.obsDt.dt.year)['howMany'].sum().reset_index().rename(columns={'obsDt':'year','howMany':'birds'})"
   ]
  },
  {
   "cell_type": "code",
   "execution_count": 177,
   "metadata": {},
   "outputs": [
    {
     "name": "stderr",
     "output_type": "stream",
     "text": [
      "/Users/marthanorrick/opt/anaconda3/lib/python3.7/site-packages/numpy/core/fromnumeric.py:2495: FutureWarning: Method .ptp is deprecated and will be removed in a future version. Use numpy.ptp instead.\n",
      "  return ptp(axis=axis, out=out, **kwargs)\n"
     ]
    },
    {
     "data": {
      "text/plain": [
       "const   -867627.727273\n",
       "year        433.709091\n",
       "dtype: float64"
      ]
     },
     "execution_count": 177,
     "metadata": {},
     "output_type": "execute_result"
    }
   ],
   "source": [
    "x = all_nyc_year.year\n",
    "y = all_nyc_year.observations\n",
    "x = sm.add_constant(x)\n",
    "model = sm.OLS(y,x)\n",
    "results = model.fit()\n",
    "ypred = results.predict(x)\n",
    "results.params"
   ]
  },
  {
   "cell_type": "code",
   "execution_count": 182,
   "metadata": {},
   "outputs": [
    {
     "data": {
      "image/png": "[encoded data removed]",
      "text/plain": [
       "<Figure size 432x288 with 1 Axes>"
      ]
     },
     "metadata": {
      "needs_background": "light"
     },
     "output_type": "display_data"
    }
   ],
   "source": [
    "autocorrelation_plot(y);"
   ]
  },
  {
   "cell_type": "code",
   "execution_count": 186,
   "metadata": {},
   "outputs": [
    {
     "name": "stdout",
     "output_type": "stream",
     "text": [
      "                             ARIMA Model Results                              \n",
      "==============================================================================\n",
      "Dep. Variable:         D.observations   No. Observations:                   10\n",
      "Model:                 ARIMA(1, 1, 0)   Log Likelihood                 -76.338\n",
      "Method:                       css-mle   S.D. of innovations            494.973\n",
      "Date:                Sun, 21 Jun 2020   AIC                            158.675\n",
      "Time:                        23:16:31   BIC                            159.583\n",
      "Sample:                             1   HQIC                           157.679\n",
      "                                                                              \n",
      "========================================================================================\n",
      "                           coef    std err          z      P>|z|      [0.025      0.975]\n",
      "----------------------------------------------------------------------------------------\n",
      "const                  415.4215    112.796      3.683      0.006     194.345     636.498\n",
      "ar.L1.D.observations    -0.4318      0.305     -1.418      0.194      -1.029       0.165\n",
      "                                    Roots                                    \n",
      "=============================================================================\n",
      "                  Real          Imaginary           Modulus         Frequency\n",
      "-----------------------------------------------------------------------------\n",
      "AR.1           -2.3157           +0.0000j            2.3157            0.5000\n",
      "-----------------------------------------------------------------------------\n"
     ]
    },
    {
     "data": {
      "image/png": "[encoded data removed]",
      "text/plain": [
       "<Figure size 432x288 with 1 Axes>"
      ]
     },
     "metadata": {
      "needs_background": "light"
     },
     "output_type": "display_data"
    },
    {
     "data": {
      "image/png": "[encoded data removed]",
      "text/plain": [
       "<Figure size 432x288 with 1 Axes>"
      ]
     },
     "metadata": {
      "needs_background": "light"
     },
     "output_type": "display_data"
    },
    {
     "name": "stdout",
     "output_type": "stream",
     "text": [
      "                 0\n",
      "count    10.000000\n",
      "mean     23.167906\n",
      "std     526.867696\n",
      "min    -632.192604\n",
      "25%    -371.466140\n",
      "50%    -147.873172\n",
      "75%     400.776606\n",
      "max    1022.111013\n"
     ]
    }
   ],
   "source": [
    "model = ARIMA(y, order=(1,1,0))\n",
    "model_fit = model.fit(disp=0)\n",
    "print(model_fit.summary())\n",
    "# plot residual errors\n",
    "residuals = pd.DataFrame(model_fit.resid)\n",
    "residuals.plot()\n",
    "plt.show()\n",
    "residuals.plot(kind='kde')\n",
    "plt.show()\n",
    "print(residuals.describe())"
   ]
  },
  {
   "cell_type": "code",
   "execution_count": 178,
   "metadata": {},
   "outputs": [
    {
     "name": "stderr",
     "output_type": "stream",
     "text": [
      "/Users/marthanorrick/opt/anaconda3/lib/python3.7/site-packages/scipy/stats/stats.py:1450: UserWarning: kurtosistest only valid for n>=20 ... continuing anyway, n=11\n",
      "  \"anyway, n=%i\" % int(n))\n"
     ]
    },
    {
     "data": {
      "text/html": [
       "<table class=\"simpletable\">\n",
       "<caption>OLS Regression Results</caption>\n",
       "<tr>\n",
       "  <th>Dep. Variable:</th>      <td>observations</td>   <th>  R-squared:         </th> <td>   0.919</td>\n",
       "</tr>\n",
       "<tr>\n",
       "  <th>Model:</th>                   <td>OLS</td>       <th>  Adj. R-squared:    </th> <td>   0.909</td>\n",
       "</tr>\n",
       "<tr>\n",
       "  <th>Method:</th>             <td>Least Squares</td>  <th>  F-statistic:       </th> <td>   101.4</td>\n",
       "</tr>\n",
       "<tr>\n",
       "  <th>Date:</th>             <td>Sun, 21 Jun 2020</td> <th>  Prob (F-statistic):</th> <td>3.37e-06</td>\n",
       "</tr>\n",
       "<tr>\n",
       "  <th>Time:</th>                 <td>23:11:07</td>     <th>  Log-Likelihood:    </th> <td> -81.746</td>\n",
       "</tr>\n",
       "<tr>\n",
       "  <th>No. Observations:</th>      <td>    11</td>      <th>  AIC:               </th> <td>   167.5</td>\n",
       "</tr>\n",
       "<tr>\n",
       "  <th>Df Residuals:</th>          <td>     9</td>      <th>  BIC:               </th> <td>   168.3</td>\n",
       "</tr>\n",
       "<tr>\n",
       "  <th>Df Model:</th>              <td>     1</td>      <th>                     </th>     <td> </td>   \n",
       "</tr>\n",
       "<tr>\n",
       "  <th>Covariance Type:</th>      <td>nonrobust</td>    <th>                     </th>     <td> </td>   \n",
       "</tr>\n",
       "</table>\n",
       "<table class=\"simpletable\">\n",
       "<tr>\n",
       "    <td></td>       <th>coef</th>     <th>std err</th>      <th>t</th>      <th>P>|t|</th>  <th>[0.025</th>    <th>0.975]</th>  \n",
       "</tr>\n",
       "<tr>\n",
       "  <th>const</th> <td>-8.676e+05</td> <td> 8.68e+04</td> <td>   -9.999</td> <td> 0.000</td> <td>-1.06e+06</td> <td>-6.71e+05</td>\n",
       "</tr>\n",
       "<tr>\n",
       "  <th>year</th>  <td>  433.7091</td> <td>   43.062</td> <td>   10.072</td> <td> 0.000</td> <td>  336.296</td> <td>  531.122</td>\n",
       "</tr>\n",
       "</table>\n",
       "<table class=\"simpletable\">\n",
       "<tr>\n",
       "  <th>Omnibus:</th>       <td> 0.272</td> <th>  Durbin-Watson:     </th> <td>   1.624</td>\n",
       "</tr>\n",
       "<tr>\n",
       "  <th>Prob(Omnibus):</th> <td> 0.873</td> <th>  Jarque-Bera (JB):  </th> <td>   0.080</td>\n",
       "</tr>\n",
       "<tr>\n",
       "  <th>Skew:</th>          <td> 0.138</td> <th>  Prob(JB):          </th> <td>   0.961</td>\n",
       "</tr>\n",
       "<tr>\n",
       "  <th>Kurtosis:</th>      <td> 2.687</td> <th>  Cond. No.          </th> <td>1.28e+06</td>\n",
       "</tr>\n",
       "</table><br/><br/>Warnings:<br/>[1] Standard Errors assume that the covariance matrix of the errors is correctly specified.<br/>[2] The condition number is large, 1.28e+06. This might indicate that there are<br/>strong multicollinearity or other numerical problems."
      ],
      "text/plain": [
       "<class 'statsmodels.iolib.summary.Summary'>\n",
       "\"\"\"\n",
       "                            OLS Regression Results                            \n",
       "==============================================================================\n",
       "Dep. Variable:           observations   R-squared:                       0.919\n",
       "Model:                            OLS   Adj. R-squared:                  0.909\n",
       "Method:                 Least Squares   F-statistic:                     101.4\n",
       "Date:                Sun, 21 Jun 2020   Prob (F-statistic):           3.37e-06\n",
       "Time:                        23:11:07   Log-Likelihood:                -81.746\n",
       "No. Observations:                  11   AIC:                             167.5\n",
       "Df Residuals:                       9   BIC:                             168.3\n",
       "Df Model:                           1                                         \n",
       "Covariance Type:            nonrobust                                         \n",
       "==============================================================================\n",
       "                 coef    std err          t      P>|t|      [0.025      0.975]\n",
       "------------------------------------------------------------------------------\n",
       "const      -8.676e+05   8.68e+04     -9.999      0.000   -1.06e+06   -6.71e+05\n",
       "year         433.7091     43.062     10.072      0.000     336.296     531.122\n",
       "==============================================================================\n",
       "Omnibus:                        0.272   Durbin-Watson:                   1.624\n",
       "Prob(Omnibus):                  0.873   Jarque-Bera (JB):                0.080\n",
       "Skew:                           0.138   Prob(JB):                        0.961\n",
       "Kurtosis:                       2.687   Cond. No.                     1.28e+06\n",
       "==============================================================================\n",
       "\n",
       "Warnings:\n",
       "[1] Standard Errors assume that the covariance matrix of the errors is correctly specified.\n",
       "[2] The condition number is large, 1.28e+06. This might indicate that there are\n",
       "strong multicollinearity or other numerical problems.\n",
       "\"\"\""
      ]
     },
     "execution_count": 178,
     "metadata": {},
     "output_type": "execute_result"
    }
   ],
   "source": [
    "results.summary()"
   ]
  },
  {
   "cell_type": "code",
   "execution_count": 176,
   "metadata": {},
   "outputs": [
    {
     "name": "stdout",
     "output_type": "stream",
     "text": [
      "0.0\n",
      "0.0\n",
      "0.0\n"
     ]
    },
    {
     "data": {
      "image/png": "[encoded data removed]",
      "text/plain": [
       "<Figure size 432x288 with 1 Axes>"
      ]
     },
     "metadata": {
      "needs_background": "light"
     },
     "output_type": "display_data"
    }
   ],
   "source": [
    "prstd, iv_l, iv_u = wls_prediction_std(results)\n",
    "t, data, ss2 = summary_table(results, alpha=0.05)\n",
    "\n",
    "fittedvalues = data[:, 2]\n",
    "predict_mean_se  = data[:, 3]\n",
    "predict_mean_ci_low, predict_mean_ci_upp = data[:, 4:6].T\n",
    "predict_ci_low, predict_ci_upp = data[:, 6:8].T\n",
    "\n",
    "# Check we got the right things\n",
    "print(np.max(np.abs(results.fittedvalues - fittedvalues)))\n",
    "print(np.max(np.abs(iv_l - predict_ci_low)))\n",
    "print(np.max(np.abs(iv_u - predict_ci_upp)))\n",
    "\n",
    "plt.plot(x, y, 'o')\n",
    "plt.plot(x, ypred, '-', lw=2)\n",
    "plt.plot(x, predict_ci_low, 'r--', lw=2)\n",
    "plt.plot(x, predict_ci_upp, 'r--', lw=2)\n",
    "plt.plot(x, predict_mean_ci_low, 'r--', lw=2)\n",
    "plt.plot(x, predict_mean_ci_upp, 'r--', lw=2)\n",
    "plt.show()"
   ]
  },
  {
   "cell_type": "code",
   "execution_count": 152,
   "metadata": {},
   "outputs": [
    {
     "data": {
      "image/png": "[encoded data removed]",
      "text/plain": [
       "<Figure size 720x360 with 1 Axes>"
      ]
     },
     "metadata": {
      "needs_background": "light"
     },
     "output_type": "display_data"
    }
   ],
   "source": [
    "fig, ax = plt.subplots(figsize=(10,5))\n",
    "plt.xlabel('Year')\n",
    "plt.ylabel('Observations')\n",
    "plt.plot(all_nyc_year.year, all_nyc_year.observations, color='b', label='All Manhattan')\n",
    "plt.plot(lower_man_year.year, lower_man_year.observations, color='r', label='Lower Manhattan')\n",
    "plt.legend()\n",
    "plt.savefig('observations.png');"
   ]
  },
  {
   "cell_type": "code",
   "execution_count": 156,
   "metadata": {},
   "outputs": [
    {
     "data": {
      "image/png": "[encoded data removed]",
      "text/plain": [
       "<Figure size 720x360 with 1 Axes>"
      ]
     },
     "metadata": {
      "needs_background": "light"
     },
     "output_type": "display_data"
    }
   ],
   "source": [
    "fig, ax = plt.subplots(figsize=(10,5))\n",
    "plt.xlabel('Year')\n",
    "plt.ylabel('Total Birds Reported')\n",
    "plt.plot(all_nyc_birds_year.year, all_nyc_birds_year.birds, color='b', label='All Manhattan')\n",
    "plt.plot(lower_man_birds_year.year, lower_man_birds_year.birds, color='r', label='Lower Manhattan')\n",
    "plt.legend()\n",
    "plt.savefig('birds.png');"
   ]
  },
  {
   "cell_type": "code",
   "execution_count": 84,
   "metadata": {},
   "outputs": [],
   "source": [
    "array1 = count_by_day[count_by_day.year == 2020]['howMany']\n",
    "array2 = count_by_day[count_by_day.year == 2019]['howMany']\n",
    "array3 = count_by_day[count_by_day.year == 2018]['howMany']\n",
    "\n",
    "array4 = all_nyc_count_by_day[all_nyc_count_by_day.year == 2020]['howMany']\n",
    "array5 = all_nyc_count_by_day[all_nyc_count_by_day.year == 2019]['howMany']\n",
    "array6 = all_nyc_count_by_day[all_nyc_count_by_day.year == 2018]['howMany']"
   ]
  },
  {
   "cell_type": "code",
   "execution_count": 74,
   "metadata": {},
   "outputs": [
    {
     "data": {
      "text/plain": [
       "F_onewayResult(statistic=2.2992977091685876, pvalue=0.10227629165760783)"
      ]
     },
     "execution_count": 74,
     "metadata": {},
     "output_type": "execute_result"
    }
   ],
   "source": [
    "stats.f_oneway(array1, array2, array3)"
   ]
  },
  {
   "cell_type": "code",
   "execution_count": 85,
   "metadata": {},
   "outputs": [
    {
     "data": {
      "text/plain": [
       "F_onewayResult(statistic=0.949284142879423, pvalue=0.388277869303961)"
      ]
     },
     "execution_count": 85,
     "metadata": {},
     "output_type": "execute_result"
    }
   ],
   "source": [
    "stats.f_oneway(array4, array5, array6)"
   ]
  },
  {
   "cell_type": "code",
   "execution_count": 87,
   "metadata": {},
   "outputs": [
    {
     "data": {
      "text/html": [
       "<div>\n",
       "<style scoped>\n",
       "    .dataframe tbody tr th:only-of-type {\n",
       "        vertical-align: middle;\n",
       "    }\n",
       "\n",
       "    .dataframe tbody tr th {\n",
       "        vertical-align: top;\n",
       "    }\n",
       "\n",
       "    .dataframe thead th {\n",
       "        text-align: right;\n",
       "    }\n",
       "</style>\n",
       "<table border=\"1\" class=\"dataframe\">\n",
       "  <thead>\n",
       "    <tr style=\"text-align: right;\">\n",
       "      <th></th>\n",
       "      <th>comName</th>\n",
       "      <th>howMany</th>\n",
       "      <th>lat</th>\n",
       "      <th>lng</th>\n",
       "      <th>locId</th>\n",
       "      <th>locName</th>\n",
       "      <th>locationPrivate</th>\n",
       "      <th>obsDt</th>\n",
       "      <th>obsReviewed</th>\n",
       "      <th>obsValid</th>\n",
       "      <th>sciName</th>\n",
       "      <th>speciesCode</th>\n",
       "      <th>subId</th>\n",
       "      <th>geometry</th>\n",
       "    </tr>\n",
       "    <tr>\n",
       "      <th>obsDt</th>\n",
       "      <th></th>\n",
       "      <th></th>\n",
       "      <th></th>\n",
       "      <th></th>\n",
       "      <th></th>\n",
       "      <th></th>\n",
       "      <th></th>\n",
       "      <th></th>\n",
       "      <th></th>\n",
       "      <th></th>\n",
       "      <th></th>\n",
       "      <th></th>\n",
       "      <th></th>\n",
       "      <th></th>\n",
       "    </tr>\n",
       "  </thead>\n",
       "  <tbody>\n",
       "    <tr>\n",
       "      <td>2018</td>\n",
       "      <td>7729</td>\n",
       "      <td>7533</td>\n",
       "      <td>7729</td>\n",
       "      <td>7729</td>\n",
       "      <td>7729</td>\n",
       "      <td>7729</td>\n",
       "      <td>7729</td>\n",
       "      <td>7729</td>\n",
       "      <td>7729</td>\n",
       "      <td>7729</td>\n",
       "      <td>7729</td>\n",
       "      <td>7729</td>\n",
       "      <td>7729</td>\n",
       "      <td>7729</td>\n",
       "    </tr>\n",
       "    <tr>\n",
       "      <td>2019</td>\n",
       "      <td>8305</td>\n",
       "      <td>8074</td>\n",
       "      <td>8305</td>\n",
       "      <td>8305</td>\n",
       "      <td>8305</td>\n",
       "      <td>8305</td>\n",
       "      <td>8305</td>\n",
       "      <td>8305</td>\n",
       "      <td>8305</td>\n",
       "      <td>8305</td>\n",
       "      <td>8305</td>\n",
       "      <td>8305</td>\n",
       "      <td>8305</td>\n",
       "      <td>8305</td>\n",
       "    </tr>\n",
       "    <tr>\n",
       "      <td>2020</td>\n",
       "      <td>8026</td>\n",
       "      <td>7803</td>\n",
       "      <td>8026</td>\n",
       "      <td>8026</td>\n",
       "      <td>8026</td>\n",
       "      <td>8026</td>\n",
       "      <td>8026</td>\n",
       "      <td>8026</td>\n",
       "      <td>8026</td>\n",
       "      <td>8026</td>\n",
       "      <td>8026</td>\n",
       "      <td>8026</td>\n",
       "      <td>8026</td>\n",
       "      <td>8026</td>\n",
       "    </tr>\n",
       "  </tbody>\n",
       "</table>\n",
       "</div>"
      ],
      "text/plain": [
       "       comName  howMany   lat   lng  locId  locName  locationPrivate  obsDt  \\\n",
       "obsDt                                                                         \n",
       "2018      7729     7533  7729  7729   7729     7729             7729   7729   \n",
       "2019      8305     8074  8305  8305   8305     8305             8305   8305   \n",
       "2020      8026     7803  8026  8026   8026     8026             8026   8026   \n",
       "\n",
       "       obsReviewed  obsValid  sciName  speciesCode  subId  geometry  \n",
       "obsDt                                                                \n",
       "2018          7729      7729     7729         7729   7729      7729  \n",
       "2019          8305      8305     8305         8305   8305      8305  \n",
       "2020          8026      8026     8026         8026   8026      8026  "
      ]
     },
     "execution_count": 87,
     "metadata": {},
     "output_type": "execute_result"
    }
   ],
   "source": [
    "all_bird_data.groupby(all_bird_data.obsDt.dt.year).count()"
   ]
  },
  {
   "cell_type": "code",
   "execution_count": null,
   "metadata": {},
   "outputs": [],
   "source": []
  }
 ],
 "metadata": {
  "kernelspec": {
   "display_name": "Python 3",
   "language": "python",
   "name": "python3"
  },
  "language_info": {
   "codemirror_mode": {
    "name": "ipython",
    "version": 3
   },
   "file_extension": ".py",
   "mimetype": "text/x-python",
   "name": "python",
   "nbconvert_exporter": "python",
   "pygments_lexer": "ipython3",
   "version": "3.7.4"
  }
 },
 "nbformat": 4,
 "nbformat_minor": 4
}
