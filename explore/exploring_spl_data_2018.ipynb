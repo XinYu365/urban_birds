{
 "cells": [
  {
   "cell_type": "code",
   "execution_count": 1,
   "metadata": {},
   "outputs": [],
   "source": [
    "import sys\n",
    "import datetime\n",
    "from os import listdir\n",
    "from os.path import isfile, join\n",
    "import numpy as np \n",
    "import pandas as pd\n",
    "import h5py\n",
    "\n",
    "import matplotlib.pyplot as plt\n",
    "%matplotlib inline\n",
    "\n",
    "sys.path.append('../')\n",
    "from envir import config"
   ]
  },
  {
   "cell_type": "code",
   "execution_count": 2,
   "metadata": {},
   "outputs": [],
   "source": [
    "# WSQ PARK SENSORS \n",
    "\n",
    "#### - sonycnode-b827eb815321.sonyc\n",
    "#### 19 Washington Square North - 15-61 Washington Square N, New York, NY 10011\n",
    "\n",
    "#### - sonycnode-b827eb8e2420.sonyc\n",
    "#### 4 Washington Square North 1-6 Washington Square North, New York, NY 10003\n",
    "\n",
    "#### - sonycnode-b827eb86d458.sonyc\n",
    "#### Silver Lab - 60 5th Ave\n",
    "\n",
    "#### - sonycnode-b827eb905497.sonyc\n",
    "#### Kimmel Center\t60 Washington Square S, New York, NY 10012\n",
    "\n",
    "\n",
    "#### - sonycnode-b827eb0fedda.sonyc\n",
    "#### Juan Carlos\tKing Juan Carlos I of Spain Center, 53 Washington Square S, New York, NY 10012\n",
    "\n",
    "\n",
    "#### - sonycnode-b827eb1685c7.sonyc\n",
    "#### Shimkin Reading Room\t35-51 West 4th Street, New York, NY 10012"
   ]
  },
  {
   "cell_type": "markdown",
   "metadata": {},
   "source": [
    "# SENSOR 1 - 2018 "
   ]
  },
  {
   "cell_type": "code",
   "execution_count": 3,
   "metadata": {},
   "outputs": [],
   "source": [
    "sensor1_2018 = h5py.File(config.dataFol+'spl/2018/sonycnode-b827eb815321.sonyc.h5', 'r')"
   ]
  },
  {
   "cell_type": "code",
   "execution_count": 4,
   "metadata": {},
   "outputs": [],
   "source": [
    "dset_18 = sensor1_2018[\"minute_intervals\"]"
   ]
  },
  {
   "cell_type": "code",
   "execution_count": 5,
   "metadata": {},
   "outputs": [
    {
     "data": {
      "text/html": [
       "<div>\n",
       "<style scoped>\n",
       "    .dataframe tbody tr th:only-of-type {\n",
       "        vertical-align: middle;\n",
       "    }\n",
       "\n",
       "    .dataframe tbody tr th {\n",
       "        vertical-align: top;\n",
       "    }\n",
       "\n",
       "    .dataframe thead th {\n",
       "        text-align: right;\n",
       "    }\n",
       "</style>\n",
       "<table border=\"1\" class=\"dataframe\">\n",
       "  <thead>\n",
       "    <tr style=\"text-align: right;\">\n",
       "      <th></th>\n",
       "      <th>target_column</th>\n",
       "    </tr>\n",
       "  </thead>\n",
       "  <tbody>\n",
       "    <tr>\n",
       "      <td>0</td>\n",
       "      <td>[1514782859.01, 57.194843, 56.676155, 59.89]</td>\n",
       "    </tr>\n",
       "    <tr>\n",
       "      <td>1</td>\n",
       "      <td>[1514782919.01, 57.810467, 55.664165, 65.07]</td>\n",
       "    </tr>\n",
       "    <tr>\n",
       "      <td>2</td>\n",
       "      <td>[1514782979.02, 56.273487, 54.38983, 63.59]</td>\n",
       "    </tr>\n",
       "    <tr>\n",
       "      <td>3</td>\n",
       "      <td>[1514783039.03, 57.60059, 55.186, 64.18]</td>\n",
       "    </tr>\n",
       "    <tr>\n",
       "      <td>4</td>\n",
       "      <td>[1514783099.04, 55.780563, 54.577168, 61.89]</td>\n",
       "    </tr>\n",
       "  </tbody>\n",
       "</table>\n",
       "</div>"
      ],
      "text/plain": [
       "                                  target_column\n",
       "0  [1514782859.01, 57.194843, 56.676155, 59.89]\n",
       "1  [1514782919.01, 57.810467, 55.664165, 65.07]\n",
       "2   [1514782979.02, 56.273487, 54.38983, 63.59]\n",
       "3      [1514783039.03, 57.60059, 55.186, 64.18]\n",
       "4  [1514783099.04, 55.780563, 54.577168, 61.89]"
      ]
     },
     "execution_count": 5,
     "metadata": {},
     "output_type": "execute_result"
    }
   ],
   "source": [
    "df = pd.DataFrame(dset_18, columns = ['target_column'])\n",
    "df.head()"
   ]
  },
  {
   "cell_type": "code",
   "execution_count": 6,
   "metadata": {},
   "outputs": [],
   "source": [
    "df.loc[:, 'timestamp'] = df.target_column.map(lambda x: x[0])\n",
    "df.loc[:, 'dbas_lin_mean'] = df.target_column.map(lambda x: x[1])\n",
    "df.loc[:, 'dbas_mean'] = df.target_column.map(lambda x: x[2])\n",
    "df.loc[:, 'dbas_max'] = df.target_column.map(lambda x: x[3])"
   ]
  },
  {
   "cell_type": "code",
   "execution_count": 7,
   "metadata": {},
   "outputs": [],
   "source": [
    "sensor1_2018_min_int_df = df.drop(['target_column'], axis =1)"
   ]
  },
  {
   "cell_type": "code",
   "execution_count": 8,
   "metadata": {},
   "outputs": [
    {
     "data": {
      "text/html": [
       "<div>\n",
       "<style scoped>\n",
       "    .dataframe tbody tr th:only-of-type {\n",
       "        vertical-align: middle;\n",
       "    }\n",
       "\n",
       "    .dataframe tbody tr th {\n",
       "        vertical-align: top;\n",
       "    }\n",
       "\n",
       "    .dataframe thead th {\n",
       "        text-align: right;\n",
       "    }\n",
       "</style>\n",
       "<table border=\"1\" class=\"dataframe\">\n",
       "  <thead>\n",
       "    <tr style=\"text-align: right;\">\n",
       "      <th></th>\n",
       "      <th>timestamp</th>\n",
       "      <th>dbas_lin_mean</th>\n",
       "      <th>dbas_mean</th>\n",
       "      <th>dbas_max</th>\n",
       "    </tr>\n",
       "  </thead>\n",
       "  <tbody>\n",
       "    <tr>\n",
       "      <td>0</td>\n",
       "      <td>1.514783e+09</td>\n",
       "      <td>57.194843</td>\n",
       "      <td>56.676155</td>\n",
       "      <td>59.889999</td>\n",
       "    </tr>\n",
       "    <tr>\n",
       "      <td>1</td>\n",
       "      <td>1.514783e+09</td>\n",
       "      <td>57.810467</td>\n",
       "      <td>55.664165</td>\n",
       "      <td>65.070000</td>\n",
       "    </tr>\n",
       "    <tr>\n",
       "      <td>2</td>\n",
       "      <td>1.514783e+09</td>\n",
       "      <td>56.273487</td>\n",
       "      <td>54.389832</td>\n",
       "      <td>63.590000</td>\n",
       "    </tr>\n",
       "    <tr>\n",
       "      <td>3</td>\n",
       "      <td>1.514783e+09</td>\n",
       "      <td>57.600590</td>\n",
       "      <td>55.186001</td>\n",
       "      <td>64.180000</td>\n",
       "    </tr>\n",
       "    <tr>\n",
       "      <td>4</td>\n",
       "      <td>1.514783e+09</td>\n",
       "      <td>55.780563</td>\n",
       "      <td>54.577168</td>\n",
       "      <td>61.889999</td>\n",
       "    </tr>\n",
       "  </tbody>\n",
       "</table>\n",
       "</div>"
      ],
      "text/plain": [
       "      timestamp  dbas_lin_mean  dbas_mean   dbas_max\n",
       "0  1.514783e+09      57.194843  56.676155  59.889999\n",
       "1  1.514783e+09      57.810467  55.664165  65.070000\n",
       "2  1.514783e+09      56.273487  54.389832  63.590000\n",
       "3  1.514783e+09      57.600590  55.186001  64.180000\n",
       "4  1.514783e+09      55.780563  54.577168  61.889999"
      ]
     },
     "execution_count": 8,
     "metadata": {},
     "output_type": "execute_result"
    }
   ],
   "source": [
    "sensor1_2018_min_int_df.head()"
   ]
  },
  {
   "cell_type": "code",
   "execution_count": 9,
   "metadata": {},
   "outputs": [],
   "source": [
    "sensor1_2018_min_int_df['timestamp'] = pd.to_datetime(sensor1_2018_min_int_df['timestamp'], unit = \"s\")\n"
   ]
  },
  {
   "cell_type": "code",
   "execution_count": 10,
   "metadata": {},
   "outputs": [
    {
     "data": {
      "text/html": [
       "<div>\n",
       "<style scoped>\n",
       "    .dataframe tbody tr th:only-of-type {\n",
       "        vertical-align: middle;\n",
       "    }\n",
       "\n",
       "    .dataframe tbody tr th {\n",
       "        vertical-align: top;\n",
       "    }\n",
       "\n",
       "    .dataframe thead th {\n",
       "        text-align: right;\n",
       "    }\n",
       "</style>\n",
       "<table border=\"1\" class=\"dataframe\">\n",
       "  <thead>\n",
       "    <tr style=\"text-align: right;\">\n",
       "      <th></th>\n",
       "      <th>timestamp</th>\n",
       "      <th>dbas_lin_mean</th>\n",
       "      <th>dbas_mean</th>\n",
       "      <th>dbas_max</th>\n",
       "    </tr>\n",
       "  </thead>\n",
       "  <tbody>\n",
       "    <tr>\n",
       "      <td>0</td>\n",
       "      <td>2018-01-01 05:00:59.009999990</td>\n",
       "      <td>57.194843</td>\n",
       "      <td>56.676155</td>\n",
       "      <td>59.889999</td>\n",
       "    </tr>\n",
       "    <tr>\n",
       "      <td>1</td>\n",
       "      <td>2018-01-01 05:01:59.009999990</td>\n",
       "      <td>57.810467</td>\n",
       "      <td>55.664165</td>\n",
       "      <td>65.070000</td>\n",
       "    </tr>\n",
       "    <tr>\n",
       "      <td>2</td>\n",
       "      <td>2018-01-01 05:02:59.019999981</td>\n",
       "      <td>56.273487</td>\n",
       "      <td>54.389832</td>\n",
       "      <td>63.590000</td>\n",
       "    </tr>\n",
       "    <tr>\n",
       "      <td>3</td>\n",
       "      <td>2018-01-01 05:03:59.029999971</td>\n",
       "      <td>57.600590</td>\n",
       "      <td>55.186001</td>\n",
       "      <td>64.180000</td>\n",
       "    </tr>\n",
       "    <tr>\n",
       "      <td>4</td>\n",
       "      <td>2018-01-01 05:04:59.039999962</td>\n",
       "      <td>55.780563</td>\n",
       "      <td>54.577168</td>\n",
       "      <td>61.889999</td>\n",
       "    </tr>\n",
       "  </tbody>\n",
       "</table>\n",
       "</div>"
      ],
      "text/plain": [
       "                      timestamp  dbas_lin_mean  dbas_mean   dbas_max\n",
       "0 2018-01-01 05:00:59.009999990      57.194843  56.676155  59.889999\n",
       "1 2018-01-01 05:01:59.009999990      57.810467  55.664165  65.070000\n",
       "2 2018-01-01 05:02:59.019999981      56.273487  54.389832  63.590000\n",
       "3 2018-01-01 05:03:59.029999971      57.600590  55.186001  64.180000\n",
       "4 2018-01-01 05:04:59.039999962      55.780563  54.577168  61.889999"
      ]
     },
     "execution_count": 10,
     "metadata": {},
     "output_type": "execute_result"
    }
   ],
   "source": [
    "sensor1_2018_min_int_df.head()"
   ]
  },
  {
   "cell_type": "markdown",
   "metadata": {},
   "source": [
    "# SENSOR 2\n"
   ]
  },
  {
   "cell_type": "code",
   "execution_count": 11,
   "metadata": {},
   "outputs": [],
   "source": [
    "sensor2_2018 = h5py.File(config.dataFol+'spl/2018/sonycnode-b827eb8e2420.sonyc.h5', 'r')"
   ]
  },
  {
   "cell_type": "code",
   "execution_count": 12,
   "metadata": {},
   "outputs": [],
   "source": [
    "dset2 = sensor2_2018['minute_intervals']"
   ]
  },
  {
   "cell_type": "code",
   "execution_count": 13,
   "metadata": {},
   "outputs": [
    {
     "data": {
      "text/html": [
       "<div>\n",
       "<style scoped>\n",
       "    .dataframe tbody tr th:only-of-type {\n",
       "        vertical-align: middle;\n",
       "    }\n",
       "\n",
       "    .dataframe tbody tr th {\n",
       "        vertical-align: top;\n",
       "    }\n",
       "\n",
       "    .dataframe thead th {\n",
       "        text-align: right;\n",
       "    }\n",
       "</style>\n",
       "<table border=\"1\" class=\"dataframe\">\n",
       "  <thead>\n",
       "    <tr style=\"text-align: right;\">\n",
       "      <th></th>\n",
       "      <th>target_column</th>\n",
       "    </tr>\n",
       "  </thead>\n",
       "  <tbody>\n",
       "    <tr>\n",
       "      <td>0</td>\n",
       "      <td>[1514782859.77, 71.547356, 71.456665, 73.54]</td>\n",
       "    </tr>\n",
       "    <tr>\n",
       "      <td>1</td>\n",
       "      <td>[1514782919.77, 71.08683, 70.8615, 75.55]</td>\n",
       "    </tr>\n",
       "    <tr>\n",
       "      <td>2</td>\n",
       "      <td>[1514782979.78, 71.88443, 71.24983, 79.62]</td>\n",
       "    </tr>\n",
       "    <tr>\n",
       "      <td>3</td>\n",
       "      <td>[1514783039.79, 69.90973, 69.869, 71.16]</td>\n",
       "    </tr>\n",
       "    <tr>\n",
       "      <td>4</td>\n",
       "      <td>[1514783099.8, 69.64456, 69.591, 71.19]</td>\n",
       "    </tr>\n",
       "  </tbody>\n",
       "</table>\n",
       "</div>"
      ],
      "text/plain": [
       "                                  target_column\n",
       "0  [1514782859.77, 71.547356, 71.456665, 73.54]\n",
       "1     [1514782919.77, 71.08683, 70.8615, 75.55]\n",
       "2    [1514782979.78, 71.88443, 71.24983, 79.62]\n",
       "3      [1514783039.79, 69.90973, 69.869, 71.16]\n",
       "4       [1514783099.8, 69.64456, 69.591, 71.19]"
      ]
     },
     "execution_count": 13,
     "metadata": {},
     "output_type": "execute_result"
    }
   ],
   "source": [
    "df2 = pd.DataFrame(dset2, columns = ['target_column'])\n",
    "df2.head()"
   ]
  },
  {
   "cell_type": "code",
   "execution_count": 14,
   "metadata": {},
   "outputs": [
    {
     "data": {
      "text/html": [
       "<div>\n",
       "<style scoped>\n",
       "    .dataframe tbody tr th:only-of-type {\n",
       "        vertical-align: middle;\n",
       "    }\n",
       "\n",
       "    .dataframe tbody tr th {\n",
       "        vertical-align: top;\n",
       "    }\n",
       "\n",
       "    .dataframe thead th {\n",
       "        text-align: right;\n",
       "    }\n",
       "</style>\n",
       "<table border=\"1\" class=\"dataframe\">\n",
       "  <thead>\n",
       "    <tr style=\"text-align: right;\">\n",
       "      <th></th>\n",
       "      <th>target_column</th>\n",
       "      <th>timestamp</th>\n",
       "      <th>dbas_lin_mean</th>\n",
       "      <th>dbas_mean</th>\n",
       "      <th>dbas_max</th>\n",
       "    </tr>\n",
       "  </thead>\n",
       "  <tbody>\n",
       "    <tr>\n",
       "      <td>0</td>\n",
       "      <td>[1514782859.77, 71.547356, 71.456665, 73.54]</td>\n",
       "      <td>1.514783e+09</td>\n",
       "      <td>71.547356</td>\n",
       "      <td>71.456665</td>\n",
       "      <td>73.540001</td>\n",
       "    </tr>\n",
       "    <tr>\n",
       "      <td>1</td>\n",
       "      <td>[1514782919.77, 71.08683, 70.8615, 75.55]</td>\n",
       "      <td>1.514783e+09</td>\n",
       "      <td>71.086830</td>\n",
       "      <td>70.861504</td>\n",
       "      <td>75.550003</td>\n",
       "    </tr>\n",
       "    <tr>\n",
       "      <td>2</td>\n",
       "      <td>[1514782979.78, 71.88443, 71.24983, 79.62]</td>\n",
       "      <td>1.514783e+09</td>\n",
       "      <td>71.884430</td>\n",
       "      <td>71.249832</td>\n",
       "      <td>79.620003</td>\n",
       "    </tr>\n",
       "    <tr>\n",
       "      <td>3</td>\n",
       "      <td>[1514783039.79, 69.90973, 69.869, 71.16]</td>\n",
       "      <td>1.514783e+09</td>\n",
       "      <td>69.909729</td>\n",
       "      <td>69.869003</td>\n",
       "      <td>71.160004</td>\n",
       "    </tr>\n",
       "    <tr>\n",
       "      <td>4</td>\n",
       "      <td>[1514783099.8, 69.64456, 69.591, 71.19]</td>\n",
       "      <td>1.514783e+09</td>\n",
       "      <td>69.644562</td>\n",
       "      <td>69.591003</td>\n",
       "      <td>71.190002</td>\n",
       "    </tr>\n",
       "  </tbody>\n",
       "</table>\n",
       "</div>"
      ],
      "text/plain": [
       "                                  target_column     timestamp  dbas_lin_mean  \\\n",
       "0  [1514782859.77, 71.547356, 71.456665, 73.54]  1.514783e+09      71.547356   \n",
       "1     [1514782919.77, 71.08683, 70.8615, 75.55]  1.514783e+09      71.086830   \n",
       "2    [1514782979.78, 71.88443, 71.24983, 79.62]  1.514783e+09      71.884430   \n",
       "3      [1514783039.79, 69.90973, 69.869, 71.16]  1.514783e+09      69.909729   \n",
       "4       [1514783099.8, 69.64456, 69.591, 71.19]  1.514783e+09      69.644562   \n",
       "\n",
       "   dbas_mean   dbas_max  \n",
       "0  71.456665  73.540001  \n",
       "1  70.861504  75.550003  \n",
       "2  71.249832  79.620003  \n",
       "3  69.869003  71.160004  \n",
       "4  69.591003  71.190002  "
      ]
     },
     "execution_count": 14,
     "metadata": {},
     "output_type": "execute_result"
    }
   ],
   "source": [
    "df2.loc[:, 'timestamp'] = df2.target_column.map(lambda x: x[0])\n",
    "df2.loc[:, 'dbas_lin_mean'] = df2.target_column.map(lambda x: x[1])\n",
    "df2.loc[:, 'dbas_mean'] = df2.target_column.map(lambda x: x[2])\n",
    "df2.loc[:, 'dbas_max'] = df2.target_column.map(lambda x: x[3])\n",
    "df2.head()"
   ]
  },
  {
   "cell_type": "code",
   "execution_count": 15,
   "metadata": {},
   "outputs": [],
   "source": [
    "sensor2_2018_min_int_df = df2.drop(['target_column'], axis =1)"
   ]
  },
  {
   "cell_type": "code",
   "execution_count": 16,
   "metadata": {},
   "outputs": [],
   "source": [
    "sensor2_2018_min_int_df['timestamp'] = pd.to_datetime(sensor2_2018_min_int_df['timestamp'], unit = \"s\")"
   ]
  },
  {
   "cell_type": "code",
   "execution_count": null,
   "metadata": {},
   "outputs": [],
   "source": []
  },
  {
   "cell_type": "markdown",
   "metadata": {},
   "source": [
    "# SENSOR 3"
   ]
  },
  {
   "cell_type": "code",
   "execution_count": 17,
   "metadata": {},
   "outputs": [],
   "source": [
    "sensor3_2018 = h5py.File(config.dataFol+'spl/2018/sonycnode-b827eb86d458.sonyc.h5', 'r')"
   ]
  },
  {
   "cell_type": "code",
   "execution_count": 18,
   "metadata": {},
   "outputs": [],
   "source": [
    "dset3 = sensor3_2018['minute_intervals']"
   ]
  },
  {
   "cell_type": "code",
   "execution_count": 19,
   "metadata": {},
   "outputs": [
    {
     "data": {
      "text/html": [
       "<div>\n",
       "<style scoped>\n",
       "    .dataframe tbody tr th:only-of-type {\n",
       "        vertical-align: middle;\n",
       "    }\n",
       "\n",
       "    .dataframe tbody tr th {\n",
       "        vertical-align: top;\n",
       "    }\n",
       "\n",
       "    .dataframe thead th {\n",
       "        text-align: right;\n",
       "    }\n",
       "</style>\n",
       "<table border=\"1\" class=\"dataframe\">\n",
       "  <thead>\n",
       "    <tr style=\"text-align: right;\">\n",
       "      <th></th>\n",
       "      <th>target_column</th>\n",
       "    </tr>\n",
       "  </thead>\n",
       "  <tbody>\n",
       "    <tr>\n",
       "      <td>0</td>\n",
       "      <td>[1514783039.16, 57.25075, 56.620716, 64.59]</td>\n",
       "    </tr>\n",
       "    <tr>\n",
       "      <td>1</td>\n",
       "      <td>[1514783071.17, 56.3517, 56.202812, 58.99]</td>\n",
       "    </tr>\n",
       "    <tr>\n",
       "      <td>2</td>\n",
       "      <td>[1514783279.19, 61.26865, 61.03893, 64.18]</td>\n",
       "    </tr>\n",
       "    <tr>\n",
       "      <td>3</td>\n",
       "      <td>[1514783311.2, 58.773766, 58.191563, 62.65]</td>\n",
       "    </tr>\n",
       "    <tr>\n",
       "      <td>4</td>\n",
       "      <td>[1514783519.22, 57.412888, 56.938927, 61.86]</td>\n",
       "    </tr>\n",
       "  </tbody>\n",
       "</table>\n",
       "</div>"
      ],
      "text/plain": [
       "                                  target_column\n",
       "0   [1514783039.16, 57.25075, 56.620716, 64.59]\n",
       "1    [1514783071.17, 56.3517, 56.202812, 58.99]\n",
       "2    [1514783279.19, 61.26865, 61.03893, 64.18]\n",
       "3   [1514783311.2, 58.773766, 58.191563, 62.65]\n",
       "4  [1514783519.22, 57.412888, 56.938927, 61.86]"
      ]
     },
     "execution_count": 19,
     "metadata": {},
     "output_type": "execute_result"
    }
   ],
   "source": [
    "df3 = pd.DataFrame(dset3, columns = ['target_column'])\n",
    "df3.head()"
   ]
  },
  {
   "cell_type": "code",
   "execution_count": 20,
   "metadata": {},
   "outputs": [
    {
     "data": {
      "text/html": [
       "<div>\n",
       "<style scoped>\n",
       "    .dataframe tbody tr th:only-of-type {\n",
       "        vertical-align: middle;\n",
       "    }\n",
       "\n",
       "    .dataframe tbody tr th {\n",
       "        vertical-align: top;\n",
       "    }\n",
       "\n",
       "    .dataframe thead th {\n",
       "        text-align: right;\n",
       "    }\n",
       "</style>\n",
       "<table border=\"1\" class=\"dataframe\">\n",
       "  <thead>\n",
       "    <tr style=\"text-align: right;\">\n",
       "      <th></th>\n",
       "      <th>target_column</th>\n",
       "      <th>timestamp</th>\n",
       "      <th>dbas_lin_mean</th>\n",
       "      <th>dbas_mean</th>\n",
       "      <th>dbas_max</th>\n",
       "    </tr>\n",
       "  </thead>\n",
       "  <tbody>\n",
       "    <tr>\n",
       "      <td>0</td>\n",
       "      <td>[1514783039.16, 57.25075, 56.620716, 64.59]</td>\n",
       "      <td>1.514783e+09</td>\n",
       "      <td>57.250751</td>\n",
       "      <td>56.620716</td>\n",
       "      <td>64.589996</td>\n",
       "    </tr>\n",
       "    <tr>\n",
       "      <td>1</td>\n",
       "      <td>[1514783071.17, 56.3517, 56.202812, 58.99]</td>\n",
       "      <td>1.514783e+09</td>\n",
       "      <td>56.351700</td>\n",
       "      <td>56.202812</td>\n",
       "      <td>58.990002</td>\n",
       "    </tr>\n",
       "    <tr>\n",
       "      <td>2</td>\n",
       "      <td>[1514783279.19, 61.26865, 61.03893, 64.18]</td>\n",
       "      <td>1.514783e+09</td>\n",
       "      <td>61.268650</td>\n",
       "      <td>61.038929</td>\n",
       "      <td>64.180000</td>\n",
       "    </tr>\n",
       "    <tr>\n",
       "      <td>3</td>\n",
       "      <td>[1514783311.2, 58.773766, 58.191563, 62.65]</td>\n",
       "      <td>1.514783e+09</td>\n",
       "      <td>58.773766</td>\n",
       "      <td>58.191563</td>\n",
       "      <td>62.650002</td>\n",
       "    </tr>\n",
       "    <tr>\n",
       "      <td>4</td>\n",
       "      <td>[1514783519.22, 57.412888, 56.938927, 61.86]</td>\n",
       "      <td>1.514784e+09</td>\n",
       "      <td>57.412888</td>\n",
       "      <td>56.938927</td>\n",
       "      <td>61.860001</td>\n",
       "    </tr>\n",
       "  </tbody>\n",
       "</table>\n",
       "</div>"
      ],
      "text/plain": [
       "                                  target_column     timestamp  dbas_lin_mean  \\\n",
       "0   [1514783039.16, 57.25075, 56.620716, 64.59]  1.514783e+09      57.250751   \n",
       "1    [1514783071.17, 56.3517, 56.202812, 58.99]  1.514783e+09      56.351700   \n",
       "2    [1514783279.19, 61.26865, 61.03893, 64.18]  1.514783e+09      61.268650   \n",
       "3   [1514783311.2, 58.773766, 58.191563, 62.65]  1.514783e+09      58.773766   \n",
       "4  [1514783519.22, 57.412888, 56.938927, 61.86]  1.514784e+09      57.412888   \n",
       "\n",
       "   dbas_mean   dbas_max  \n",
       "0  56.620716  64.589996  \n",
       "1  56.202812  58.990002  \n",
       "2  61.038929  64.180000  \n",
       "3  58.191563  62.650002  \n",
       "4  56.938927  61.860001  "
      ]
     },
     "execution_count": 20,
     "metadata": {},
     "output_type": "execute_result"
    }
   ],
   "source": [
    "df3.loc[:, 'timestamp'] = df3.target_column.map(lambda x: x[0])\n",
    "df3.loc[:, 'dbas_lin_mean'] = df3.target_column.map(lambda x: x[1])\n",
    "df3.loc[:, 'dbas_mean'] = df3.target_column.map(lambda x: x[2])\n",
    "df3.loc[:, 'dbas_max'] = df3.target_column.map(lambda x: x[3])\n",
    "df3.head()"
   ]
  },
  {
   "cell_type": "code",
   "execution_count": 21,
   "metadata": {},
   "outputs": [],
   "source": [
    "sensor3_2018_min_int_df = df3.drop(['target_column'], axis =1)"
   ]
  },
  {
   "cell_type": "code",
   "execution_count": 22,
   "metadata": {},
   "outputs": [],
   "source": [
    "sensor3_2018_min_int_df['timestamp'] = pd.to_datetime(sensor3_2018_min_int_df['timestamp'], unit = \"s\")"
   ]
  },
  {
   "cell_type": "markdown",
   "metadata": {},
   "source": [
    "# SENSOR 4"
   ]
  },
  {
   "cell_type": "code",
   "execution_count": 23,
   "metadata": {},
   "outputs": [],
   "source": [
    "s4_2018 = h5py.File(config.dataFol+'spl/2018/sonycnode-b827eb905497.sonyc.h5', 'r')"
   ]
  },
  {
   "cell_type": "code",
   "execution_count": 24,
   "metadata": {},
   "outputs": [],
   "source": [
    "dset4 = s4_2018['minute_intervals']"
   ]
  },
  {
   "cell_type": "code",
   "execution_count": 25,
   "metadata": {},
   "outputs": [],
   "source": [
    "df4 = pd.DataFrame(dset4, columns = ['target_column'])"
   ]
  },
  {
   "cell_type": "code",
   "execution_count": 26,
   "metadata": {},
   "outputs": [
    {
     "data": {
      "text/html": [
       "<div>\n",
       "<style scoped>\n",
       "    .dataframe tbody tr th:only-of-type {\n",
       "        vertical-align: middle;\n",
       "    }\n",
       "\n",
       "    .dataframe tbody tr th {\n",
       "        vertical-align: top;\n",
       "    }\n",
       "\n",
       "    .dataframe thead th {\n",
       "        text-align: right;\n",
       "    }\n",
       "</style>\n",
       "<table border=\"1\" class=\"dataframe\">\n",
       "  <thead>\n",
       "    <tr style=\"text-align: right;\">\n",
       "      <th></th>\n",
       "      <th>target_column</th>\n",
       "      <th>timestamp</th>\n",
       "      <th>dbas_lin_mean</th>\n",
       "      <th>dbas_mean</th>\n",
       "      <th>dbas_max</th>\n",
       "    </tr>\n",
       "  </thead>\n",
       "  <tbody>\n",
       "    <tr>\n",
       "      <td>0</td>\n",
       "      <td>[1514782859.52, 61.322464, 60.83089, 65.74]</td>\n",
       "      <td>1.514783e+09</td>\n",
       "      <td>61.322464</td>\n",
       "      <td>60.830891</td>\n",
       "      <td>65.739998</td>\n",
       "    </tr>\n",
       "    <tr>\n",
       "      <td>1</td>\n",
       "      <td>[1514782919.53, 60.366554, 59.7145, 67.62]</td>\n",
       "      <td>1.514783e+09</td>\n",
       "      <td>60.366554</td>\n",
       "      <td>59.714500</td>\n",
       "      <td>67.620003</td>\n",
       "    </tr>\n",
       "    <tr>\n",
       "      <td>2</td>\n",
       "      <td>[1514782979.54, 60.691177, 59.985832, 66.76]</td>\n",
       "      <td>1.514783e+09</td>\n",
       "      <td>60.691177</td>\n",
       "      <td>59.985832</td>\n",
       "      <td>66.760002</td>\n",
       "    </tr>\n",
       "    <tr>\n",
       "      <td>3</td>\n",
       "      <td>[1514783039.55, 57.870052, 57.51317, 62.51]</td>\n",
       "      <td>1.514783e+09</td>\n",
       "      <td>57.870052</td>\n",
       "      <td>57.513168</td>\n",
       "      <td>62.509998</td>\n",
       "    </tr>\n",
       "    <tr>\n",
       "      <td>4</td>\n",
       "      <td>[1514783099.56, 59.03361, 58.831, 62.53]</td>\n",
       "      <td>1.514783e+09</td>\n",
       "      <td>59.033611</td>\n",
       "      <td>58.831001</td>\n",
       "      <td>62.529999</td>\n",
       "    </tr>\n",
       "  </tbody>\n",
       "</table>\n",
       "</div>"
      ],
      "text/plain": [
       "                                  target_column     timestamp  dbas_lin_mean  \\\n",
       "0   [1514782859.52, 61.322464, 60.83089, 65.74]  1.514783e+09      61.322464   \n",
       "1    [1514782919.53, 60.366554, 59.7145, 67.62]  1.514783e+09      60.366554   \n",
       "2  [1514782979.54, 60.691177, 59.985832, 66.76]  1.514783e+09      60.691177   \n",
       "3   [1514783039.55, 57.870052, 57.51317, 62.51]  1.514783e+09      57.870052   \n",
       "4      [1514783099.56, 59.03361, 58.831, 62.53]  1.514783e+09      59.033611   \n",
       "\n",
       "   dbas_mean   dbas_max  \n",
       "0  60.830891  65.739998  \n",
       "1  59.714500  67.620003  \n",
       "2  59.985832  66.760002  \n",
       "3  57.513168  62.509998  \n",
       "4  58.831001  62.529999  "
      ]
     },
     "execution_count": 26,
     "metadata": {},
     "output_type": "execute_result"
    }
   ],
   "source": [
    "df4.loc[:, 'timestamp'] = df4.target_column.map(lambda x: x[0])\n",
    "df4.loc[:, 'dbas_lin_mean'] = df4.target_column.map(lambda x: x[1])\n",
    "df4.loc[:, 'dbas_mean'] = df4.target_column.map(lambda x: x[2])\n",
    "df4.loc[:, 'dbas_max'] = df4.target_column.map(lambda x: x[3])\n",
    "df4.head()"
   ]
  },
  {
   "cell_type": "code",
   "execution_count": 27,
   "metadata": {},
   "outputs": [],
   "source": [
    "sensor4_2018_min_int_df = df4.drop(['target_column'], axis =1)"
   ]
  },
  {
   "cell_type": "code",
   "execution_count": 28,
   "metadata": {},
   "outputs": [],
   "source": [
    "sensor4_2018_min_int_df['timestamp'] = pd.to_datetime(sensor4_2018_min_int_df['timestamp'], unit = \"s\")"
   ]
  },
  {
   "cell_type": "markdown",
   "metadata": {},
   "source": [
    "# SENSOR 5"
   ]
  },
  {
   "cell_type": "code",
   "execution_count": 29,
   "metadata": {},
   "outputs": [],
   "source": [
    "s5_2018 = h5py.File(config.dataFol+'spl/2018/sonycnode-b827eb0fedda.sonyc.h5', 'r')"
   ]
  },
  {
   "cell_type": "code",
   "execution_count": 30,
   "metadata": {},
   "outputs": [],
   "source": [
    "dset5 = s5_2018['minute_intervals']"
   ]
  },
  {
   "cell_type": "code",
   "execution_count": 31,
   "metadata": {},
   "outputs": [],
   "source": [
    "df5 = pd.DataFrame(dset5, columns = ['target_column'])"
   ]
  },
  {
   "cell_type": "code",
   "execution_count": 32,
   "metadata": {},
   "outputs": [
    {
     "data": {
      "text/html": [
       "<div>\n",
       "<style scoped>\n",
       "    .dataframe tbody tr th:only-of-type {\n",
       "        vertical-align: middle;\n",
       "    }\n",
       "\n",
       "    .dataframe tbody tr th {\n",
       "        vertical-align: top;\n",
       "    }\n",
       "\n",
       "    .dataframe thead th {\n",
       "        text-align: right;\n",
       "    }\n",
       "</style>\n",
       "<table border=\"1\" class=\"dataframe\">\n",
       "  <thead>\n",
       "    <tr style=\"text-align: right;\">\n",
       "      <th></th>\n",
       "      <th>target_column</th>\n",
       "      <th>timestamp</th>\n",
       "      <th>dbas_lin_mean</th>\n",
       "      <th>dbas_mean</th>\n",
       "      <th>dbas_max</th>\n",
       "    </tr>\n",
       "  </thead>\n",
       "  <tbody>\n",
       "    <tr>\n",
       "      <td>0</td>\n",
       "      <td>[1514782859.83, 64.11497, 64.008, 65.65]</td>\n",
       "      <td>1.514783e+09</td>\n",
       "      <td>64.114967</td>\n",
       "      <td>64.008003</td>\n",
       "      <td>65.650002</td>\n",
       "    </tr>\n",
       "    <tr>\n",
       "      <td>1</td>\n",
       "      <td>[1514782919.84, 60.483467, 58.8725, 68.81]</td>\n",
       "      <td>1.514783e+09</td>\n",
       "      <td>60.483467</td>\n",
       "      <td>58.872501</td>\n",
       "      <td>68.809998</td>\n",
       "    </tr>\n",
       "    <tr>\n",
       "      <td>2</td>\n",
       "      <td>[1514782979.85, 60.898743, 59.304165, 69.58]</td>\n",
       "      <td>1.514783e+09</td>\n",
       "      <td>60.898743</td>\n",
       "      <td>59.304165</td>\n",
       "      <td>69.580002</td>\n",
       "    </tr>\n",
       "    <tr>\n",
       "      <td>3</td>\n",
       "      <td>[1514783039.86, 57.2298, 56.849, 62.17]</td>\n",
       "      <td>1.514783e+09</td>\n",
       "      <td>57.229801</td>\n",
       "      <td>56.848999</td>\n",
       "      <td>62.169998</td>\n",
       "    </tr>\n",
       "    <tr>\n",
       "      <td>4</td>\n",
       "      <td>[1514783099.86, 62.18136, 60.688168, 67.39]</td>\n",
       "      <td>1.514783e+09</td>\n",
       "      <td>62.181358</td>\n",
       "      <td>60.688168</td>\n",
       "      <td>67.389999</td>\n",
       "    </tr>\n",
       "  </tbody>\n",
       "</table>\n",
       "</div>"
      ],
      "text/plain": [
       "                                  target_column     timestamp  dbas_lin_mean  \\\n",
       "0      [1514782859.83, 64.11497, 64.008, 65.65]  1.514783e+09      64.114967   \n",
       "1    [1514782919.84, 60.483467, 58.8725, 68.81]  1.514783e+09      60.483467   \n",
       "2  [1514782979.85, 60.898743, 59.304165, 69.58]  1.514783e+09      60.898743   \n",
       "3       [1514783039.86, 57.2298, 56.849, 62.17]  1.514783e+09      57.229801   \n",
       "4   [1514783099.86, 62.18136, 60.688168, 67.39]  1.514783e+09      62.181358   \n",
       "\n",
       "   dbas_mean   dbas_max  \n",
       "0  64.008003  65.650002  \n",
       "1  58.872501  68.809998  \n",
       "2  59.304165  69.580002  \n",
       "3  56.848999  62.169998  \n",
       "4  60.688168  67.389999  "
      ]
     },
     "execution_count": 32,
     "metadata": {},
     "output_type": "execute_result"
    }
   ],
   "source": [
    "df5.loc[:, 'timestamp'] = df5.target_column.map(lambda x: x[0])\n",
    "df5.loc[:, 'dbas_lin_mean'] = df5.target_column.map(lambda x: x[1])\n",
    "df5.loc[:, 'dbas_mean'] = df5.target_column.map(lambda x: x[2])\n",
    "df5.loc[:, 'dbas_max'] = df5.target_column.map(lambda x: x[3])\n",
    "df5.head()"
   ]
  },
  {
   "cell_type": "code",
   "execution_count": 33,
   "metadata": {},
   "outputs": [
    {
     "data": {
      "text/html": [
       "<div>\n",
       "<style scoped>\n",
       "    .dataframe tbody tr th:only-of-type {\n",
       "        vertical-align: middle;\n",
       "    }\n",
       "\n",
       "    .dataframe tbody tr th {\n",
       "        vertical-align: top;\n",
       "    }\n",
       "\n",
       "    .dataframe thead th {\n",
       "        text-align: right;\n",
       "    }\n",
       "</style>\n",
       "<table border=\"1\" class=\"dataframe\">\n",
       "  <thead>\n",
       "    <tr style=\"text-align: right;\">\n",
       "      <th></th>\n",
       "      <th>timestamp</th>\n",
       "      <th>dbas_lin_mean</th>\n",
       "      <th>dbas_mean</th>\n",
       "      <th>dbas_max</th>\n",
       "    </tr>\n",
       "  </thead>\n",
       "  <tbody>\n",
       "    <tr>\n",
       "      <td>0</td>\n",
       "      <td>1.514783e+09</td>\n",
       "      <td>64.114967</td>\n",
       "      <td>64.008003</td>\n",
       "      <td>65.650002</td>\n",
       "    </tr>\n",
       "    <tr>\n",
       "      <td>1</td>\n",
       "      <td>1.514783e+09</td>\n",
       "      <td>60.483467</td>\n",
       "      <td>58.872501</td>\n",
       "      <td>68.809998</td>\n",
       "    </tr>\n",
       "    <tr>\n",
       "      <td>2</td>\n",
       "      <td>1.514783e+09</td>\n",
       "      <td>60.898743</td>\n",
       "      <td>59.304165</td>\n",
       "      <td>69.580002</td>\n",
       "    </tr>\n",
       "    <tr>\n",
       "      <td>3</td>\n",
       "      <td>1.514783e+09</td>\n",
       "      <td>57.229801</td>\n",
       "      <td>56.848999</td>\n",
       "      <td>62.169998</td>\n",
       "    </tr>\n",
       "    <tr>\n",
       "      <td>4</td>\n",
       "      <td>1.514783e+09</td>\n",
       "      <td>62.181358</td>\n",
       "      <td>60.688168</td>\n",
       "      <td>67.389999</td>\n",
       "    </tr>\n",
       "  </tbody>\n",
       "</table>\n",
       "</div>"
      ],
      "text/plain": [
       "      timestamp  dbas_lin_mean  dbas_mean   dbas_max\n",
       "0  1.514783e+09      64.114967  64.008003  65.650002\n",
       "1  1.514783e+09      60.483467  58.872501  68.809998\n",
       "2  1.514783e+09      60.898743  59.304165  69.580002\n",
       "3  1.514783e+09      57.229801  56.848999  62.169998\n",
       "4  1.514783e+09      62.181358  60.688168  67.389999"
      ]
     },
     "execution_count": 33,
     "metadata": {},
     "output_type": "execute_result"
    }
   ],
   "source": [
    "sensor5_2018_min_int_df = df5.drop(['target_column'], axis =1)\n",
    "sensor5_2018_min_int_df.head()"
   ]
  },
  {
   "cell_type": "code",
   "execution_count": 34,
   "metadata": {},
   "outputs": [],
   "source": [
    "sensor5_2018_min_int_df['timestamp'] = pd.to_datetime(sensor5_2018_min_int_df['timestamp'], unit = \"s\")"
   ]
  },
  {
   "cell_type": "markdown",
   "metadata": {},
   "source": [
    "# SENSOR 6"
   ]
  },
  {
   "cell_type": "code",
   "execution_count": 35,
   "metadata": {},
   "outputs": [],
   "source": [
    "s6_2018 = h5py.File(config.dataFol+'spl/2018/sonycnode-b827eb1685c7.sonyc.h5', 'r')"
   ]
  },
  {
   "cell_type": "code",
   "execution_count": 36,
   "metadata": {},
   "outputs": [],
   "source": [
    "dset6 = s6_2018['minute_intervals']"
   ]
  },
  {
   "cell_type": "code",
   "execution_count": 37,
   "metadata": {},
   "outputs": [],
   "source": [
    "df6 = pd.DataFrame(dset6, columns = ['target_column'])"
   ]
  },
  {
   "cell_type": "code",
   "execution_count": 38,
   "metadata": {},
   "outputs": [
    {
     "data": {
      "text/html": [
       "<div>\n",
       "<style scoped>\n",
       "    .dataframe tbody tr th:only-of-type {\n",
       "        vertical-align: middle;\n",
       "    }\n",
       "\n",
       "    .dataframe tbody tr th {\n",
       "        vertical-align: top;\n",
       "    }\n",
       "\n",
       "    .dataframe thead th {\n",
       "        text-align: right;\n",
       "    }\n",
       "</style>\n",
       "<table border=\"1\" class=\"dataframe\">\n",
       "  <thead>\n",
       "    <tr style=\"text-align: right;\">\n",
       "      <th></th>\n",
       "      <th>target_column</th>\n",
       "      <th>timestamp</th>\n",
       "      <th>dbas_lin_mean</th>\n",
       "      <th>dbas_mean</th>\n",
       "      <th>dbas_max</th>\n",
       "    </tr>\n",
       "  </thead>\n",
       "  <tbody>\n",
       "    <tr>\n",
       "      <td>0</td>\n",
       "      <td>[1514782859.52, 64.70045, 64.478424, 66.61]</td>\n",
       "      <td>1.514783e+09</td>\n",
       "      <td>64.700447</td>\n",
       "      <td>64.478424</td>\n",
       "      <td>66.610001</td>\n",
       "    </tr>\n",
       "    <tr>\n",
       "      <td>1</td>\n",
       "      <td>[1514782919.52, 60.64366, 59.8305, 68.81]</td>\n",
       "      <td>1.514783e+09</td>\n",
       "      <td>60.643661</td>\n",
       "      <td>59.830502</td>\n",
       "      <td>68.809998</td>\n",
       "    </tr>\n",
       "    <tr>\n",
       "      <td>2</td>\n",
       "      <td>[1514782979.53, 63.73736, 61.95067, 72.46]</td>\n",
       "      <td>1.514783e+09</td>\n",
       "      <td>63.737358</td>\n",
       "      <td>61.950668</td>\n",
       "      <td>72.459999</td>\n",
       "    </tr>\n",
       "    <tr>\n",
       "      <td>3</td>\n",
       "      <td>[1514783039.54, 60.46155, 59.9205, 64.92]</td>\n",
       "      <td>1.514783e+09</td>\n",
       "      <td>60.461552</td>\n",
       "      <td>59.920502</td>\n",
       "      <td>64.919998</td>\n",
       "    </tr>\n",
       "    <tr>\n",
       "      <td>4</td>\n",
       "      <td>[1514783099.55, 60.692802, 60.400833, 66.03]</td>\n",
       "      <td>1.514783e+09</td>\n",
       "      <td>60.692802</td>\n",
       "      <td>60.400833</td>\n",
       "      <td>66.029999</td>\n",
       "    </tr>\n",
       "  </tbody>\n",
       "</table>\n",
       "</div>"
      ],
      "text/plain": [
       "                                  target_column     timestamp  dbas_lin_mean  \\\n",
       "0   [1514782859.52, 64.70045, 64.478424, 66.61]  1.514783e+09      64.700447   \n",
       "1     [1514782919.52, 60.64366, 59.8305, 68.81]  1.514783e+09      60.643661   \n",
       "2    [1514782979.53, 63.73736, 61.95067, 72.46]  1.514783e+09      63.737358   \n",
       "3     [1514783039.54, 60.46155, 59.9205, 64.92]  1.514783e+09      60.461552   \n",
       "4  [1514783099.55, 60.692802, 60.400833, 66.03]  1.514783e+09      60.692802   \n",
       "\n",
       "   dbas_mean   dbas_max  \n",
       "0  64.478424  66.610001  \n",
       "1  59.830502  68.809998  \n",
       "2  61.950668  72.459999  \n",
       "3  59.920502  64.919998  \n",
       "4  60.400833  66.029999  "
      ]
     },
     "execution_count": 38,
     "metadata": {},
     "output_type": "execute_result"
    }
   ],
   "source": [
    "df6.loc[:, 'timestamp'] = df6.target_column.map(lambda x: x[0])\n",
    "df6.loc[:, 'dbas_lin_mean'] = df6.target_column.map(lambda x: x[1])\n",
    "df6.loc[:, 'dbas_mean'] = df6.target_column.map(lambda x: x[2])\n",
    "df6.loc[:, 'dbas_max'] = df6.target_column.map(lambda x: x[3])\n",
    "df6.head()"
   ]
  },
  {
   "cell_type": "code",
   "execution_count": 39,
   "metadata": {},
   "outputs": [
    {
     "data": {
      "text/html": [
       "<div>\n",
       "<style scoped>\n",
       "    .dataframe tbody tr th:only-of-type {\n",
       "        vertical-align: middle;\n",
       "    }\n",
       "\n",
       "    .dataframe tbody tr th {\n",
       "        vertical-align: top;\n",
       "    }\n",
       "\n",
       "    .dataframe thead th {\n",
       "        text-align: right;\n",
       "    }\n",
       "</style>\n",
       "<table border=\"1\" class=\"dataframe\">\n",
       "  <thead>\n",
       "    <tr style=\"text-align: right;\">\n",
       "      <th></th>\n",
       "      <th>timestamp</th>\n",
       "      <th>dbas_lin_mean</th>\n",
       "      <th>dbas_mean</th>\n",
       "      <th>dbas_max</th>\n",
       "    </tr>\n",
       "  </thead>\n",
       "  <tbody>\n",
       "    <tr>\n",
       "      <td>0</td>\n",
       "      <td>1.514783e+09</td>\n",
       "      <td>64.700447</td>\n",
       "      <td>64.478424</td>\n",
       "      <td>66.610001</td>\n",
       "    </tr>\n",
       "    <tr>\n",
       "      <td>1</td>\n",
       "      <td>1.514783e+09</td>\n",
       "      <td>60.643661</td>\n",
       "      <td>59.830502</td>\n",
       "      <td>68.809998</td>\n",
       "    </tr>\n",
       "    <tr>\n",
       "      <td>2</td>\n",
       "      <td>1.514783e+09</td>\n",
       "      <td>63.737358</td>\n",
       "      <td>61.950668</td>\n",
       "      <td>72.459999</td>\n",
       "    </tr>\n",
       "    <tr>\n",
       "      <td>3</td>\n",
       "      <td>1.514783e+09</td>\n",
       "      <td>60.461552</td>\n",
       "      <td>59.920502</td>\n",
       "      <td>64.919998</td>\n",
       "    </tr>\n",
       "    <tr>\n",
       "      <td>4</td>\n",
       "      <td>1.514783e+09</td>\n",
       "      <td>60.692802</td>\n",
       "      <td>60.400833</td>\n",
       "      <td>66.029999</td>\n",
       "    </tr>\n",
       "  </tbody>\n",
       "</table>\n",
       "</div>"
      ],
      "text/plain": [
       "      timestamp  dbas_lin_mean  dbas_mean   dbas_max\n",
       "0  1.514783e+09      64.700447  64.478424  66.610001\n",
       "1  1.514783e+09      60.643661  59.830502  68.809998\n",
       "2  1.514783e+09      63.737358  61.950668  72.459999\n",
       "3  1.514783e+09      60.461552  59.920502  64.919998\n",
       "4  1.514783e+09      60.692802  60.400833  66.029999"
      ]
     },
     "execution_count": 39,
     "metadata": {},
     "output_type": "execute_result"
    }
   ],
   "source": [
    "sensor6_2018_min_int_df = df6.drop(['target_column'], axis =1)\n",
    "sensor6_2018_min_int_df.head()"
   ]
  },
  {
   "cell_type": "code",
   "execution_count": 40,
   "metadata": {},
   "outputs": [],
   "source": [
    "sensor6_2018_min_int_df['timestamp'] = pd.to_datetime(sensor6_2018_min_int_df['timestamp'], unit = \"s\")"
   ]
  },
  {
   "cell_type": "markdown",
   "metadata": {},
   "source": [
    "## WRITE CSV\n",
    "\n"
   ]
  },
  {
   "cell_type": "code",
   "execution_count": 41,
   "metadata": {},
   "outputs": [],
   "source": [
    "### SENSOR 1\n",
    "\n",
    "sensor1_2018_min_int_df.to_csv('/gws_gpfs/projects/project-urban_birds/workspace/share/data/clean_spl/sonycnode-b827eb815321-2018.csv')\n",
    "\n",
    "### SENSOR 2\n",
    "\n",
    "sensor2_2018_min_int_df.to_csv('/gws_gpfs/projects/project-urban_birds/workspace/share/data/clean_spl/sonycnode-b827eb8e2420-2018.csv')\n",
    "\n",
    "### SENSOR 3\n",
    "\n",
    "sensor3_2018_min_int_df.to_csv('/gws_gpfs/projects/project-urban_birds/workspace/share/data/clean_spl/sonycnode-b827eb86d458-2018.csv')\n",
    "\n",
    "### SENSOR 4\n",
    "\n",
    "sensor4_2018_min_int_df.to_csv('/gws_gpfs/projects/project-urban_birds/workspace/share/data/clean_spl/sonycnode-b827eb905497-2018.csv')\n",
    "\n",
    "### SENSOR 5\n",
    "\n",
    "sensor5_2018_min_int_df.to_csv('/gws_gpfs/projects/project-urban_birds/workspace/share/data/clean_spl/sonycnode-b827eb0fedda-2018.csv')\n",
    "\n",
    "### SENSOR 6\n",
    "\n",
    "sensor6_2018_min_int_df.to_csv('/gws_gpfs/projects/project-urban_birds/workspace/share/data/clean_spl/sonycnode-b827eb1685c7-2018.csv')\n"
   ]
  }
 ],
 "metadata": {
  "kernelspec": {
   "display_name": "birdsVE3.7",
   "language": "python",
   "name": "birdsve3.7"
  },
  "language_info": {
   "codemirror_mode": {
    "name": "ipython",
    "version": 3
   },
   "file_extension": ".py",
   "mimetype": "text/x-python",
   "name": "python",
   "nbconvert_exporter": "python",
   "pygments_lexer": "ipython3",
   "version": "3.7.6"
  }
 },
 "nbformat": 4,
 "nbformat_minor": 2
}
